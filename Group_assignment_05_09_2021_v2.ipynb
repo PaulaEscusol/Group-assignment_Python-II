{
 "cells": [
  {
   "cell_type": "markdown",
   "metadata": {
    "id": "yoiH3wJPDTbh"
   },
   "source": [
    "#  Group assignment\n"
   ]
  },
  {
   "cell_type": "code",
   "execution_count": null,
   "metadata": {},
   "outputs": [],
   "source": [
    "# JFB thrird comment experiment!"
   ]
  },
  {
   "cell_type": "code",
   "execution_count": null,
   "metadata": {},
   "outputs": [],
   "source": [
    "# JFB second test comment"
   ]
  },
  {
   "cell_type": "code",
   "execution_count": null,
   "metadata": {},
   "outputs": [],
   "source": [
    "#Juan Francisco Balbi Checking in!"
   ]
  },
  {
   "cell_type": "markdown",
   "metadata": {},
   "source": [
    "## Hi! This is Isobel checking in..."
   ]
  },
  {
   "cell_type": "markdown",
   "metadata": {},
   "source": [
    "## Isobel's second test comment"
   ]
  },
  {
   "cell_type": "code",
   "execution_count": 1,
   "metadata": {
    "id": "gD6C6qJsDTbm"
   },
   "outputs": [],
   "source": [
    "#Importing libraries\n",
    "#Importing libraries\n",
    "import pandas as pd\n",
    "import numpy as np\n",
    "import math\n",
    "import matplotlib.pyplot as plt\n",
    "from datetime import datetime\n",
    "from sklearn.preprocessing import LabelBinarizer\n",
    "from sklearn.experimental import enable_iterative_imputer\n",
    "from sklearn.feature_selection import RFE\n",
    "from sklearn.impute import IterativeImputer\n",
    "from sklearn.model_selection import cross_val_score, train_test_split\n",
    "from sklearn.linear_model import LogisticRegression\n",
    "from sklearn.tree import DecisionTreeClassifier\n",
    "from sklearn.utils import resample\n",
    "from sklearn.preprocessing import OneHotEncoder\n",
    "from sklearn.metrics import accuracy_score, f1_score, recall_score, \\\n",
    "    matthews_corrcoef, precision_score, confusion_matrix, make_scorer\n",
    "import seaborn as sns\n",
    "import datetime\n",
    "from datetime import timedelta\n",
    "from dateutil.relativedelta import relativedelta"
   ]
  },
  {
   "cell_type": "code",
   "execution_count": 2,
   "metadata": {
    "colab": {
     "base_uri": "https://localhost:8080/"
    },
    "id": "Z0doOEzqp6w2",
    "outputId": "cbe90c52-b53c-46cb-db6b-e1e072f94fab"
   },
   "outputs": [
    {
     "name": "stdout",
     "output_type": "stream",
     "text": [
      "Mounted at /content/drive\n"
     ]
    }
   ],
   "source": [
    "# This library will be needed only while using colab... Later, we can remove all of this section:\n",
    "from google.colab import drive\n",
    "drive.mount('/content/drive')"
   ]
  },
  {
   "cell_type": "code",
   "execution_count": 3,
   "metadata": {
    "id": "kLqsLsy5qDcV"
   },
   "outputs": [],
   "source": [
    "df = pd.read_excel('/content/drive/Shareddrives/Outliers/01. Python II/Group Project/AUTO_LOANS_DATA.xlsx')"
   ]
  },
  {
   "cell_type": "code",
   "execution_count": null,
   "metadata": {
    "colab": {
     "base_uri": "https://localhost:8080/",
     "height": 204
    },
    "id": "AQ30yJertvxK",
    "outputId": "c3e2b4e2-c95a-45b5-fcf6-b91ca077c84c"
   },
   "outputs": [
    {
     "data": {
      "text/html": [
       "<div>\n",
       "<style scoped>\n",
       "    .dataframe tbody tr th:only-of-type {\n",
       "        vertical-align: middle;\n",
       "    }\n",
       "\n",
       "    .dataframe tbody tr th {\n",
       "        vertical-align: top;\n",
       "    }\n",
       "\n",
       "    .dataframe thead th {\n",
       "        text-align: right;\n",
       "    }\n",
       "</style>\n",
       "<table border=\"1\" class=\"dataframe\">\n",
       "  <thead>\n",
       "    <tr style=\"text-align: right;\">\n",
       "      <th></th>\n",
       "      <th>REPORTING_DATE</th>\n",
       "      <th>ACCOUNT_NUMBER</th>\n",
       "      <th>CUSTOMER_ID</th>\n",
       "      <th>PROGRAM_NAME</th>\n",
       "      <th>LOAN_OPEN_DATE</th>\n",
       "      <th>EXPECTED_CLOSE_DATE</th>\n",
       "      <th>ORIGINAL_BOOKED_AMOUNT</th>\n",
       "      <th>OUTSTANDING</th>\n",
       "      <th>BUCKET</th>\n",
       "      <th>SEX</th>\n",
       "      <th>CUSTOMER_OPEN_DATE</th>\n",
       "      <th>BIRTH_DATE</th>\n",
       "      <th>PROFESSION</th>\n",
       "      <th>CAR_TYPE</th>\n",
       "    </tr>\n",
       "  </thead>\n",
       "  <tbody>\n",
       "    <tr>\n",
       "      <th>0</th>\n",
       "      <td>2016-01-31</td>\n",
       "      <td>1</td>\n",
       "      <td>1</td>\n",
       "      <td>Auto Loans 50% Down Payment - Employed</td>\n",
       "      <td>2015-11-25</td>\n",
       "      <td>2020-11-03</td>\n",
       "      <td>91000.0</td>\n",
       "      <td>88223.40</td>\n",
       "      <td>0</td>\n",
       "      <td>M</td>\n",
       "      <td>2015-10-27</td>\n",
       "      <td>1986-03-24</td>\n",
       "      <td>EMPLOYEE</td>\n",
       "      <td>KIA</td>\n",
       "    </tr>\n",
       "    <tr>\n",
       "      <th>1</th>\n",
       "      <td>2016-01-31</td>\n",
       "      <td>2</td>\n",
       "      <td>2</td>\n",
       "      <td>Pick Up and Small Trucks</td>\n",
       "      <td>2015-12-08</td>\n",
       "      <td>2017-12-03</td>\n",
       "      <td>35000.0</td>\n",
       "      <td>33714.82</td>\n",
       "      <td>0</td>\n",
       "      <td>M</td>\n",
       "      <td>2015-11-29</td>\n",
       "      <td>1985-08-18</td>\n",
       "      <td>EMPLOYEE</td>\n",
       "      <td>CARRY</td>\n",
       "    </tr>\n",
       "    <tr>\n",
       "      <th>2</th>\n",
       "      <td>2016-01-31</td>\n",
       "      <td>3</td>\n",
       "      <td>3</td>\n",
       "      <td>Auto Loans 40% Down Payment - Employed</td>\n",
       "      <td>2016-01-12</td>\n",
       "      <td>2021-01-03</td>\n",
       "      <td>52500.0</td>\n",
       "      <td>52500.00</td>\n",
       "      <td>0</td>\n",
       "      <td>F</td>\n",
       "      <td>2015-12-28</td>\n",
       "      <td>1985-07-02</td>\n",
       "      <td>HOUSEWIFE</td>\n",
       "      <td>CHEVROLET</td>\n",
       "    </tr>\n",
       "    <tr>\n",
       "      <th>3</th>\n",
       "      <td>2016-01-31</td>\n",
       "      <td>4</td>\n",
       "      <td>4</td>\n",
       "      <td>Auto Loans 30% Down Payment - Self Employed</td>\n",
       "      <td>2015-11-23</td>\n",
       "      <td>2019-10-03</td>\n",
       "      <td>103000.0</td>\n",
       "      <td>99054.45</td>\n",
       "      <td>0</td>\n",
       "      <td>M</td>\n",
       "      <td>2015-10-21</td>\n",
       "      <td>1979-01-01</td>\n",
       "      <td>Shop Owner</td>\n",
       "      <td>MITSUBISHI</td>\n",
       "    </tr>\n",
       "    <tr>\n",
       "      <th>4</th>\n",
       "      <td>2016-01-31</td>\n",
       "      <td>5</td>\n",
       "      <td>5</td>\n",
       "      <td>Auto Loans 30% Down Payment - Self Employed</td>\n",
       "      <td>2015-11-23</td>\n",
       "      <td>2018-11-03</td>\n",
       "      <td>94250.0</td>\n",
       "      <td>89450.17</td>\n",
       "      <td>0</td>\n",
       "      <td>M</td>\n",
       "      <td>2015-11-02</td>\n",
       "      <td>1977-01-20</td>\n",
       "      <td>Shop Owner</td>\n",
       "      <td>SEAT</td>\n",
       "    </tr>\n",
       "  </tbody>\n",
       "</table>\n",
       "</div>"
      ],
      "text/plain": [
       "  REPORTING_DATE  ACCOUNT_NUMBER  ...  PROFESSION    CAR_TYPE\n",
       "0     2016-01-31               1  ...    EMPLOYEE         KIA\n",
       "1     2016-01-31               2  ...    EMPLOYEE       CARRY\n",
       "2     2016-01-31               3  ...   HOUSEWIFE   CHEVROLET\n",
       "3     2016-01-31               4  ...  Shop Owner  MITSUBISHI\n",
       "4     2016-01-31               5  ...  Shop Owner        SEAT\n",
       "\n",
       "[5 rows x 14 columns]"
      ]
     },
     "execution_count": 195,
     "metadata": {},
     "output_type": "execute_result"
    }
   ],
   "source": [
    "df.head()"
   ]
  },
  {
   "cell_type": "code",
   "execution_count": null,
   "metadata": {
    "id": "IZ6B9cSQDTbn"
   },
   "outputs": [],
   "source": [
    "# conda install -c conda-forge missingno"
   ]
  },
  {
   "cell_type": "code",
   "execution_count": 4,
   "metadata": {
    "id": "rvzx9Vr6DTbo"
   },
   "outputs": [],
   "source": [
    "import missingno as msno"
   ]
  },
  {
   "cell_type": "code",
   "execution_count": null,
   "metadata": {
    "id": "udVGi_ovDTbp"
   },
   "outputs": [],
   "source": [
    "#Inserting and readingg the data (excel file)\n",
    "#df = pd.read_excel(\"AUTO_LOANS_DATA.xlsx\")\n",
    "#df"
   ]
  },
  {
   "cell_type": "markdown",
   "metadata": {
    "id": "a5xy6HM3DTbt"
   },
   "source": [
    "## 1. **PENDING** - Missing not at random analysis -  Analyzing missing values"
   ]
  },
  {
   "cell_type": "code",
   "execution_count": null,
   "metadata": {
    "colab": {
     "base_uri": "https://localhost:8080/",
     "height": 539
    },
    "id": "USwdFj9LDTbt",
    "outputId": "06c6f0f2-761a-4787-b7d7-dd6c0a12977d"
   },
   "outputs": [
    {
     "data": {
      "text/plain": [
       "<matplotlib.axes._subplots.AxesSubplot at 0x7fa7c38a8bd0>"
      ]
     },
     "execution_count": 5,
     "metadata": {},
     "output_type": "execute_result"
    },
    {
     "data": {
      "image/png": "[encoded data removed]",
      "text/plain": [
       "<Figure size 1800x720 with 2 Axes>"
      ]
     },
     "metadata": {
      "needs_background": "light"
     },
     "output_type": "display_data"
    }
   ],
   "source": [
    "#Visualize the distribution of the missing values\n",
    "msno.matrix(df)\n"
   ]
  },
  {
   "cell_type": "code",
   "execution_count": 5,
   "metadata": {
    "colab": {
     "base_uri": "https://localhost:8080/"
    },
    "id": "MOHY7Arge0-f",
    "outputId": "8bb0069a-7964-46b1-8db0-307cdeb727d3"
   },
   "outputs": [
    {
     "name": "stdout",
     "output_type": "stream",
     "text": [
      "SEX            4528\n",
      "BIRTH_DATE     4533\n",
      "PROFESSION     5558\n",
      "CAR_TYPE      11518\n",
      "dtype: int64\n",
      "     SEX BIRTH_DATE     PROFESSION  CAR_TYPE\n",
      "11   NaN        NaT            NaN  MERCEDES\n",
      "61     M 1972-08-17         DOCTOR       NaN\n",
      "117    M 1986-02-20         DRIVER       NaN\n",
      "118    M 1967-03-24  Company Owner       NaN\n",
      "143    M 1982-06-23     Contractor       NaN\n"
     ]
    }
   ],
   "source": [
    "null_columns=df.columns[df.isnull().any()]\n",
    "print(df[null_columns].isnull().sum())\n",
    "print(df[df.isnull().any(axis=1)][null_columns].head())"
   ]
  },
  {
   "cell_type": "markdown",
   "metadata": {
    "id": "v0shqD27h7i6"
   },
   "source": []
  },
  {
   "cell_type": "code",
   "execution_count": 6,
   "metadata": {
    "id": "MzxCEKORhRNb"
   },
   "outputs": [],
   "source": [
    "df_msno = df.iloc[df[(df.isnull().sum(axis=1) >=2)].index]\n",
    "test_columns =[]\n",
    "null_columns=df.columns[df.isnull().any()]\n",
    "for i in null_columns:\n",
    "  df[i + '_test'] = np.where(df[i].isnull(),0, 1)\n",
    "  test_columns.append(i + '_test')\n"
   ]
  },
  {
   "cell_type": "code",
   "execution_count": 7,
   "metadata": {
    "colab": {
     "base_uri": "https://localhost:8080/",
     "height": 496
    },
    "id": "rrkypAqMjZ-r",
    "outputId": "3f8d5707-722f-42f6-bc32-ebcb3dbc4156"
   },
   "outputs": [
    {
     "name": "stderr",
     "output_type": "stream",
     "text": [
      "/usr/local/lib/python3.7/dist-packages/ipykernel_launcher.py:4: SettingWithCopyWarning: \n",
      "A value is trying to be set on a copy of a slice from a DataFrame.\n",
      "Try using .loc[row_indexer,col_indexer] = value instead\n",
      "\n",
      "See the caveats in the documentation: https://pandas.pydata.org/pandas-docs/stable/user_guide/indexing.html#returning-a-view-versus-a-copy\n",
      "  after removing the cwd from sys.path.\n"
     ]
    },
    {
     "data": {
      "text/html": [
       "<div>\n",
       "<style scoped>\n",
       "    .dataframe tbody tr th:only-of-type {\n",
       "        vertical-align: middle;\n",
       "    }\n",
       "\n",
       "    .dataframe tbody tr th {\n",
       "        vertical-align: top;\n",
       "    }\n",
       "\n",
       "    .dataframe thead th {\n",
       "        text-align: right;\n",
       "    }\n",
       "</style>\n",
       "<table border=\"1\" class=\"dataframe\">\n",
       "  <thead>\n",
       "    <tr style=\"text-align: right;\">\n",
       "      <th></th>\n",
       "      <th>REPORTING_DATE</th>\n",
       "      <th>ACCOUNT_NUMBER</th>\n",
       "      <th>CUSTOMER_ID</th>\n",
       "      <th>PROGRAM_NAME</th>\n",
       "      <th>LOAN_OPEN_DATE</th>\n",
       "      <th>EXPECTED_CLOSE_DATE</th>\n",
       "      <th>ORIGINAL_BOOKED_AMOUNT</th>\n",
       "      <th>OUTSTANDING</th>\n",
       "      <th>BUCKET</th>\n",
       "      <th>SEX</th>\n",
       "      <th>CUSTOMER_OPEN_DATE</th>\n",
       "      <th>BIRTH_DATE</th>\n",
       "      <th>PROFESSION</th>\n",
       "      <th>CAR_TYPE</th>\n",
       "      <th>sex_birth_date</th>\n",
       "    </tr>\n",
       "  </thead>\n",
       "  <tbody>\n",
       "    <tr>\n",
       "      <th>11</th>\n",
       "      <td>2016-01-31</td>\n",
       "      <td>12</td>\n",
       "      <td>12</td>\n",
       "      <td>Auto Loans Corporate Guarantee</td>\n",
       "      <td>2016-01-10</td>\n",
       "      <td>2019-11-28</td>\n",
       "      <td>600000.0</td>\n",
       "      <td>587821.39</td>\n",
       "      <td>0</td>\n",
       "      <td>NaN</td>\n",
       "      <td>2000-11-03</td>\n",
       "      <td>NaT</td>\n",
       "      <td>NaN</td>\n",
       "      <td>MERCEDES</td>\n",
       "      <td>MERCEDES</td>\n",
       "    </tr>\n",
       "    <tr>\n",
       "      <th>173</th>\n",
       "      <td>2016-01-31</td>\n",
       "      <td>174</td>\n",
       "      <td>174</td>\n",
       "      <td>Auto Loans Corporate Guarantee</td>\n",
       "      <td>2016-01-31</td>\n",
       "      <td>2018-01-03</td>\n",
       "      <td>153900.0</td>\n",
       "      <td>153900.00</td>\n",
       "      <td>0</td>\n",
       "      <td>NaN</td>\n",
       "      <td>2013-10-22</td>\n",
       "      <td>NaT</td>\n",
       "      <td>NaN</td>\n",
       "      <td>NISSAN</td>\n",
       "      <td>NISSAN</td>\n",
       "    </tr>\n",
       "    <tr>\n",
       "      <th>252</th>\n",
       "      <td>2016-01-31</td>\n",
       "      <td>253</td>\n",
       "      <td>174</td>\n",
       "      <td>Auto Loans Corporate Guarantee</td>\n",
       "      <td>2015-12-14</td>\n",
       "      <td>2017-12-03</td>\n",
       "      <td>142200.0</td>\n",
       "      <td>136485.21</td>\n",
       "      <td>0</td>\n",
       "      <td>NaN</td>\n",
       "      <td>2013-10-22</td>\n",
       "      <td>NaT</td>\n",
       "      <td>NaN</td>\n",
       "      <td>DAIHATSU</td>\n",
       "      <td>DAIHATSU</td>\n",
       "    </tr>\n",
       "    <tr>\n",
       "      <th>298</th>\n",
       "      <td>2016-01-31</td>\n",
       "      <td>299</td>\n",
       "      <td>298</td>\n",
       "      <td>Auto Loans Corporate Guarantee</td>\n",
       "      <td>2013-06-26</td>\n",
       "      <td>2016-06-03</td>\n",
       "      <td>91500.0</td>\n",
       "      <td>15348.06</td>\n",
       "      <td>0</td>\n",
       "      <td>NaN</td>\n",
       "      <td>2008-10-22</td>\n",
       "      <td>NaT</td>\n",
       "      <td>NaN</td>\n",
       "      <td>HYUNDAI</td>\n",
       "      <td>HYUNDAI</td>\n",
       "    </tr>\n",
       "    <tr>\n",
       "      <th>301</th>\n",
       "      <td>2016-01-31</td>\n",
       "      <td>302</td>\n",
       "      <td>12</td>\n",
       "      <td>Auto Loans Corporate Guarantee</td>\n",
       "      <td>2015-11-17</td>\n",
       "      <td>2020-10-28</td>\n",
       "      <td>80000.0</td>\n",
       "      <td>76599.33</td>\n",
       "      <td>0</td>\n",
       "      <td>NaN</td>\n",
       "      <td>2000-11-03</td>\n",
       "      <td>NaT</td>\n",
       "      <td>NaN</td>\n",
       "      <td>NISSAN</td>\n",
       "      <td>NISSAN</td>\n",
       "    </tr>\n",
       "  </tbody>\n",
       "</table>\n",
       "</div>"
      ],
      "text/plain": [
       "    REPORTING_DATE  ACCOUNT_NUMBER  ...  CAR_TYPE sex_birth_date\n",
       "11      2016-01-31              12  ...  MERCEDES       MERCEDES\n",
       "173     2016-01-31             174  ...    NISSAN         NISSAN\n",
       "252     2016-01-31             253  ...  DAIHATSU       DAIHATSU\n",
       "298     2016-01-31             299  ...   HYUNDAI        HYUNDAI\n",
       "301     2016-01-31             302  ...    NISSAN         NISSAN\n",
       "\n",
       "[5 rows x 15 columns]"
      ]
     },
     "execution_count": 7,
     "metadata": {},
     "output_type": "execute_result"
    }
   ],
   "source": [
    "first_null = 'sex'\n",
    "second_null = 'birth_date'\n",
    "\n",
    "df_msno[first_null + '_' + second_null] = df_msno['CAR_TYPE']\n",
    "\n",
    "df_msno.head()"
   ]
  },
  {
   "cell_type": "code",
   "execution_count": 8,
   "metadata": {
    "colab": {
     "base_uri": "https://localhost:8080/",
     "height": 445
    },
    "id": "IWm78iQQBXQu",
    "outputId": "09ed9011-83ec-4821-8aac-4f44c98258bd"
   },
   "outputs": [
    {
     "data": {
      "text/html": [
       "<div>\n",
       "<style scoped>\n",
       "    .dataframe tbody tr th:only-of-type {\n",
       "        vertical-align: middle;\n",
       "    }\n",
       "\n",
       "    .dataframe tbody tr th {\n",
       "        vertical-align: top;\n",
       "    }\n",
       "\n",
       "    .dataframe thead th {\n",
       "        text-align: right;\n",
       "    }\n",
       "</style>\n",
       "<table border=\"1\" class=\"dataframe\">\n",
       "  <thead>\n",
       "    <tr style=\"text-align: right;\">\n",
       "      <th></th>\n",
       "      <th>REPORTING_DATE</th>\n",
       "      <th>ACCOUNT_NUMBER</th>\n",
       "      <th>CUSTOMER_ID</th>\n",
       "      <th>PROGRAM_NAME</th>\n",
       "      <th>LOAN_OPEN_DATE</th>\n",
       "      <th>EXPECTED_CLOSE_DATE</th>\n",
       "      <th>ORIGINAL_BOOKED_AMOUNT</th>\n",
       "      <th>OUTSTANDING</th>\n",
       "      <th>BUCKET</th>\n",
       "      <th>SEX</th>\n",
       "      <th>CUSTOMER_OPEN_DATE</th>\n",
       "      <th>BIRTH_DATE</th>\n",
       "      <th>PROFESSION</th>\n",
       "      <th>CAR_TYPE</th>\n",
       "      <th>SEX_test</th>\n",
       "      <th>BIRTH_DATE_test</th>\n",
       "      <th>PROFESSION_test</th>\n",
       "      <th>CAR_TYPE_test</th>\n",
       "    </tr>\n",
       "  </thead>\n",
       "  <tbody>\n",
       "    <tr>\n",
       "      <th>0</th>\n",
       "      <td>2016-01-31</td>\n",
       "      <td>1</td>\n",
       "      <td>1</td>\n",
       "      <td>Auto Loans 50% Down Payment - Employed</td>\n",
       "      <td>2015-11-25</td>\n",
       "      <td>2020-11-03</td>\n",
       "      <td>91000.0</td>\n",
       "      <td>88223.40</td>\n",
       "      <td>0</td>\n",
       "      <td>M</td>\n",
       "      <td>2015-10-27</td>\n",
       "      <td>1986-03-24</td>\n",
       "      <td>EMPLOYEE</td>\n",
       "      <td>KIA</td>\n",
       "      <td>1</td>\n",
       "      <td>1</td>\n",
       "      <td>1</td>\n",
       "      <td>1</td>\n",
       "    </tr>\n",
       "    <tr>\n",
       "      <th>1</th>\n",
       "      <td>2016-01-31</td>\n",
       "      <td>2</td>\n",
       "      <td>2</td>\n",
       "      <td>Pick Up and Small Trucks</td>\n",
       "      <td>2015-12-08</td>\n",
       "      <td>2017-12-03</td>\n",
       "      <td>35000.0</td>\n",
       "      <td>33714.82</td>\n",
       "      <td>0</td>\n",
       "      <td>M</td>\n",
       "      <td>2015-11-29</td>\n",
       "      <td>1985-08-18</td>\n",
       "      <td>EMPLOYEE</td>\n",
       "      <td>CARRY</td>\n",
       "      <td>1</td>\n",
       "      <td>1</td>\n",
       "      <td>1</td>\n",
       "      <td>1</td>\n",
       "    </tr>\n",
       "    <tr>\n",
       "      <th>2</th>\n",
       "      <td>2016-01-31</td>\n",
       "      <td>3</td>\n",
       "      <td>3</td>\n",
       "      <td>Auto Loans 40% Down Payment - Employed</td>\n",
       "      <td>2016-01-12</td>\n",
       "      <td>2021-01-03</td>\n",
       "      <td>52500.0</td>\n",
       "      <td>52500.00</td>\n",
       "      <td>0</td>\n",
       "      <td>F</td>\n",
       "      <td>2015-12-28</td>\n",
       "      <td>1985-07-02</td>\n",
       "      <td>HOUSEWIFE</td>\n",
       "      <td>CHEVROLET</td>\n",
       "      <td>1</td>\n",
       "      <td>1</td>\n",
       "      <td>1</td>\n",
       "      <td>1</td>\n",
       "    </tr>\n",
       "    <tr>\n",
       "      <th>3</th>\n",
       "      <td>2016-01-31</td>\n",
       "      <td>4</td>\n",
       "      <td>4</td>\n",
       "      <td>Auto Loans 30% Down Payment - Self Employed</td>\n",
       "      <td>2015-11-23</td>\n",
       "      <td>2019-10-03</td>\n",
       "      <td>103000.0</td>\n",
       "      <td>99054.45</td>\n",
       "      <td>0</td>\n",
       "      <td>M</td>\n",
       "      <td>2015-10-21</td>\n",
       "      <td>1979-01-01</td>\n",
       "      <td>Shop Owner</td>\n",
       "      <td>MITSUBISHI</td>\n",
       "      <td>1</td>\n",
       "      <td>1</td>\n",
       "      <td>1</td>\n",
       "      <td>1</td>\n",
       "    </tr>\n",
       "    <tr>\n",
       "      <th>4</th>\n",
       "      <td>2016-01-31</td>\n",
       "      <td>5</td>\n",
       "      <td>5</td>\n",
       "      <td>Auto Loans 30% Down Payment - Self Employed</td>\n",
       "      <td>2015-11-23</td>\n",
       "      <td>2018-11-03</td>\n",
       "      <td>94250.0</td>\n",
       "      <td>89450.17</td>\n",
       "      <td>0</td>\n",
       "      <td>M</td>\n",
       "      <td>2015-11-02</td>\n",
       "      <td>1977-01-20</td>\n",
       "      <td>Shop Owner</td>\n",
       "      <td>SEAT</td>\n",
       "      <td>1</td>\n",
       "      <td>1</td>\n",
       "      <td>1</td>\n",
       "      <td>1</td>\n",
       "    </tr>\n",
       "  </tbody>\n",
       "</table>\n",
       "</div>"
      ],
      "text/plain": [
       "  REPORTING_DATE  ACCOUNT_NUMBER  ...  PROFESSION_test CAR_TYPE_test\n",
       "0     2016-01-31               1  ...                1             1\n",
       "1     2016-01-31               2  ...                1             1\n",
       "2     2016-01-31               3  ...                1             1\n",
       "3     2016-01-31               4  ...                1             1\n",
       "4     2016-01-31               5  ...                1             1\n",
       "\n",
       "[5 rows x 18 columns]"
      ]
     },
     "execution_count": 8,
     "metadata": {},
     "output_type": "execute_result"
    }
   ],
   "source": [
    "df.head()\n"
   ]
  },
  {
   "cell_type": "code",
   "execution_count": 9,
   "metadata": {
    "colab": {
     "base_uri": "https://localhost:8080/"
    },
    "id": "Wt3pLbS1oy0T",
    "outputId": "801b0cb4-0472-4e5b-a7c8-5672659ae481"
   },
   "outputs": [
    {
     "name": "stdout",
     "output_type": "stream",
     "text": [
      "<class 'pandas.core.frame.DataFrame'>\n",
      "RangeIndex: 900860 entries, 0 to 900859\n",
      "Data columns (total 18 columns):\n",
      " #   Column                  Non-Null Count   Dtype         \n",
      "---  ------                  --------------   -----         \n",
      " 0   REPORTING_DATE          900860 non-null  datetime64[ns]\n",
      " 1   ACCOUNT_NUMBER          900860 non-null  int64         \n",
      " 2   CUSTOMER_ID             900860 non-null  int64         \n",
      " 3   PROGRAM_NAME            900860 non-null  object        \n",
      " 4   LOAN_OPEN_DATE          900860 non-null  datetime64[ns]\n",
      " 5   EXPECTED_CLOSE_DATE     900860 non-null  datetime64[ns]\n",
      " 6   ORIGINAL_BOOKED_AMOUNT  900860 non-null  float64       \n",
      " 7   OUTSTANDING             900860 non-null  float64       \n",
      " 8   BUCKET                  900860 non-null  int64         \n",
      " 9   SEX                     896332 non-null  object        \n",
      " 10  CUSTOMER_OPEN_DATE      900860 non-null  datetime64[ns]\n",
      " 11  BIRTH_DATE              896327 non-null  datetime64[ns]\n",
      " 12  PROFESSION              895302 non-null  object        \n",
      " 13  CAR_TYPE                889342 non-null  object        \n",
      " 14  SEX_test                900860 non-null  int64         \n",
      " 15  BIRTH_DATE_test         900860 non-null  int64         \n",
      " 16  PROFESSION_test         900860 non-null  int64         \n",
      " 17  CAR_TYPE_test           900860 non-null  int64         \n",
      "dtypes: datetime64[ns](5), float64(2), int64(7), object(4)\n",
      "memory usage: 123.7+ MB\n"
     ]
    }
   ],
   "source": [
    "df.info()\n",
    "categorical_variables = ['PROGRAM_NAME', 'SEX', 'PROFESSION', 'CAR_TYPE']"
   ]
  },
  {
   "cell_type": "code",
   "execution_count": 10,
   "metadata": {
    "colab": {
     "base_uri": "https://localhost:8080/"
    },
    "id": "5pF3QyzgzQrT",
    "outputId": "2965628a-1e95-4c6d-deab-223188282229"
   },
   "outputs": [
    {
     "name": "stdout",
     "output_type": "stream",
     "text": [
      "['SEX_test', 'BIRTH_DATE_test', 'PROFESSION_test', 'CAR_TYPE_test']\n"
     ]
    }
   ],
   "source": [
    "print (test_columns)"
   ]
  },
  {
   "cell_type": "code",
   "execution_count": 11,
   "metadata": {
    "colab": {
     "base_uri": "https://localhost:8080/"
    },
    "id": "iqpPsR3yoBkN",
    "outputId": "b47e16b4-2e29-4f7b-a7ee-99914363e67d"
   },
   "outputs": [
    {
     "name": "stdout",
     "output_type": "stream",
     "text": [
      "SEX_test\n",
      "Auto Loans Corporate Guarantee  is here and the column is  PROGRAM_NAME\n"
     ]
    },
    {
     "name": "stderr",
     "output_type": "stream",
     "text": [
      "/usr/local/lib/python3.7/dist-packages/ipykernel_launcher.py:11: RuntimeWarning: invalid value encountered in long_scalars\n",
      "  # This is added back by InteractiveShellApp.init_path()\n"
     ]
    },
    {
     "name": "stdout",
     "output_type": "stream",
     "text": [
      "BIRTH_DATE_test\n",
      "Auto Loans Corporate Guarantee  is here and the column is  PROGRAM_NAME\n",
      "PROFESSION_test\n",
      "Auto Loans Corporate Guarantee  is here and the column is  PROGRAM_NAME\n",
      "CAR_TYPE_test\n"
     ]
    }
   ],
   "source": [
    "\n",
    "for t in test_columns:\n",
    "  print (t)\n",
    "  for col in categorical_variables:\n",
    "    for i in df[col].unique():\n",
    "    #  print (i)\n",
    "      not_missing = df[df[col] == i][t].sum()\n",
    "    #  print (i, 'not_missing is ', not_missing)\n",
    "      test_rows = df[df[col] == i].shape[0]\n",
    "    #  print (i, 'test_rows is ', test_rows)\n",
    "      condition = (test_rows - not_missing)/test_rows\n",
    "    #  print ('condition is ', condition)\n",
    "      if condition > 0.9:\n",
    "        print (i, ' is here and the column is ', col)\n"
   ]
  },
  {
   "cell_type": "markdown",
   "metadata": {
    "id": "Y0emhfU4DTbr"
   },
   "source": [
    "## **1.** Initial steps"
   ]
  },
  {
   "cell_type": "markdown",
   "metadata": {
    "id": "rZmH3uuhDTbs"
   },
   "source": [
    "### **1.1.** Changing the name of the columns to lower case"
   ]
  },
  {
   "cell_type": "code",
   "execution_count": null,
   "metadata": {
    "colab": {
     "base_uri": "https://localhost:8080/"
    },
    "id": "HK0z3HCVDTbs",
    "outputId": "bb75a362-ca76-4ab5-9ba3-5d31c371b8a7"
   },
   "outputs": [
    {
     "name": "stdout",
     "output_type": "stream",
     "text": [
      "['REPORTING_DATE', 'ACCOUNT_NUMBER', 'CUSTOMER_ID', 'PROGRAM_NAME', 'LOAN_OPEN_DATE', 'EXPECTED_CLOSE_DATE', 'ORIGINAL_BOOKED_AMOUNT', 'OUTSTANDING', 'BUCKET', 'SEX', 'CUSTOMER_OPEN_DATE', 'BIRTH_DATE', 'PROFESSION', 'CAR_TYPE', 'SEX_test', 'BIRTH_DATE_test', 'PROFESSION_test', 'CAR_TYPE_test']\n"
     ]
    }
   ],
   "source": [
    "print(list(df.columns))"
   ]
  },
  {
   "cell_type": "code",
   "execution_count": 12,
   "metadata": {
    "id": "gZ8e3l2ODTbs"
   },
   "outputs": [],
   "source": [
    "#We want to transform the name of all the columns to lower case\n",
    "df.rename(columns=lambda x: x.lower(), inplace=True)"
   ]
  },
  {
   "cell_type": "code",
   "execution_count": null,
   "metadata": {
    "colab": {
     "base_uri": "https://localhost:8080/"
    },
    "id": "e-60brv8DTbt",
    "outputId": "cfcb175a-1fd2-4702-823f-248b8f84b56d"
   },
   "outputs": [
    {
     "name": "stdout",
     "output_type": "stream",
     "text": [
      "['reporting_date', 'account_number', 'customer_id', 'program_name', 'loan_open_date', 'expected_close_date', 'original_booked_amount', 'outstanding', 'bucket', 'sex', 'customer_open_date', 'birth_date', 'profession', 'car_type', 'sex_test', 'birth_date_test', 'profession_test', 'car_type_test']\n"
     ]
    }
   ],
   "source": [
    "print(list(df.columns))"
   ]
  },
  {
   "cell_type": "markdown",
   "metadata": {
    "id": "F3CRIigAqKCA"
   },
   "source": [
    "### **1.2.** Removing duplicate records"
   ]
  },
  {
   "cell_type": "code",
   "execution_count": 13,
   "metadata": {
    "colab": {
     "base_uri": "https://localhost:8080/"
    },
    "id": "2fVLZJgnDTbv",
    "outputId": "79920ac6-6422-4b92-d517-7de211b8310c"
   },
   "outputs": [
    {
     "name": "stdout",
     "output_type": "stream",
     "text": [
      "number of duplicate rows:  (0, 18)\n"
     ]
    }
   ],
   "source": [
    "#Locate the entire duplicated rows. Result = 0\n",
    "duplicate_rows_df = df[df.duplicated()]\n",
    "print('number of duplicate rows: ', duplicate_rows_df.shape)"
   ]
  },
  {
   "cell_type": "code",
   "execution_count": 14,
   "metadata": {
    "colab": {
     "base_uri": "https://localhost:8080/",
     "height": 1000
    },
    "id": "EbCKB2K6KKo1",
    "outputId": "b1c8ddbb-7480-4a84-ff63-4b23c5787cca"
   },
   "outputs": [
    {
     "name": "stdout",
     "output_type": "stream",
     "text": [
      "number of duplicate rows:  (861263, 18)\n"
     ]
    },
    {
     "name": "stderr",
     "output_type": "stream",
     "text": [
      "/usr/local/lib/python3.7/dist-packages/ipykernel_launcher.py:4: SettingWithCopyWarning: \n",
      "A value is trying to be set on a copy of a slice from a DataFrame\n",
      "\n",
      "See the caveats in the documentation: https://pandas.pydata.org/pandas-docs/stable/user_guide/indexing.html#returning-a-view-versus-a-copy\n",
      "  after removing the cwd from sys.path.\n"
     ]
    },
    {
     "data": {
      "text/html": [
       "<div>\n",
       "<style scoped>\n",
       "    .dataframe tbody tr th:only-of-type {\n",
       "        vertical-align: middle;\n",
       "    }\n",
       "\n",
       "    .dataframe tbody tr th {\n",
       "        vertical-align: top;\n",
       "    }\n",
       "\n",
       "    .dataframe thead th {\n",
       "        text-align: right;\n",
       "    }\n",
       "</style>\n",
       "<table border=\"1\" class=\"dataframe\">\n",
       "  <thead>\n",
       "    <tr style=\"text-align: right;\">\n",
       "      <th></th>\n",
       "      <th>reporting_date</th>\n",
       "      <th>account_number</th>\n",
       "      <th>customer_id</th>\n",
       "      <th>program_name</th>\n",
       "      <th>loan_open_date</th>\n",
       "      <th>expected_close_date</th>\n",
       "      <th>original_booked_amount</th>\n",
       "      <th>outstanding</th>\n",
       "      <th>bucket</th>\n",
       "      <th>sex</th>\n",
       "      <th>customer_open_date</th>\n",
       "      <th>birth_date</th>\n",
       "      <th>profession</th>\n",
       "      <th>car_type</th>\n",
       "      <th>sex_test</th>\n",
       "      <th>birth_date_test</th>\n",
       "      <th>profession_test</th>\n",
       "      <th>car_type_test</th>\n",
       "    </tr>\n",
       "  </thead>\n",
       "  <tbody>\n",
       "    <tr>\n",
       "      <th>31411</th>\n",
       "      <td>2016-02-29</td>\n",
       "      <td>1</td>\n",
       "      <td>1</td>\n",
       "      <td>Auto Loans 50% Down Payment - Employed</td>\n",
       "      <td>2015-11-25</td>\n",
       "      <td>2020-11-03</td>\n",
       "      <td>91000.0</td>\n",
       "      <td>87272.39</td>\n",
       "      <td>0</td>\n",
       "      <td>M</td>\n",
       "      <td>2015-10-27</td>\n",
       "      <td>1986-03-24</td>\n",
       "      <td>EMPLOYEE</td>\n",
       "      <td>KIA</td>\n",
       "      <td>1</td>\n",
       "      <td>1</td>\n",
       "      <td>1</td>\n",
       "      <td>1</td>\n",
       "    </tr>\n",
       "    <tr>\n",
       "      <th>49109</th>\n",
       "      <td>2016-03-31</td>\n",
       "      <td>1</td>\n",
       "      <td>1</td>\n",
       "      <td>Auto Loans 50% Down Payment - Employed</td>\n",
       "      <td>2015-11-25</td>\n",
       "      <td>2020-11-03</td>\n",
       "      <td>91000.0</td>\n",
       "      <td>86229.56</td>\n",
       "      <td>0</td>\n",
       "      <td>M</td>\n",
       "      <td>2015-10-27</td>\n",
       "      <td>1986-03-24</td>\n",
       "      <td>EMPLOYEE</td>\n",
       "      <td>KIA</td>\n",
       "      <td>1</td>\n",
       "      <td>1</td>\n",
       "      <td>1</td>\n",
       "      <td>1</td>\n",
       "    </tr>\n",
       "    <tr>\n",
       "      <th>85225</th>\n",
       "      <td>2016-04-28</td>\n",
       "      <td>1</td>\n",
       "      <td>1</td>\n",
       "      <td>Auto Loans 50% Down Payment - Employed</td>\n",
       "      <td>2015-11-25</td>\n",
       "      <td>2020-11-03</td>\n",
       "      <td>91000.0</td>\n",
       "      <td>85248.70</td>\n",
       "      <td>0</td>\n",
       "      <td>M</td>\n",
       "      <td>2015-10-27</td>\n",
       "      <td>1986-03-24</td>\n",
       "      <td>EMPLOYEE</td>\n",
       "      <td>KIA</td>\n",
       "      <td>1</td>\n",
       "      <td>1</td>\n",
       "      <td>1</td>\n",
       "      <td>1</td>\n",
       "    </tr>\n",
       "    <tr>\n",
       "      <th>100035</th>\n",
       "      <td>2016-05-31</td>\n",
       "      <td>1</td>\n",
       "      <td>1</td>\n",
       "      <td>Auto Loans 50% Down Payment - Employed</td>\n",
       "      <td>2015-11-25</td>\n",
       "      <td>2020-11-03</td>\n",
       "      <td>91000.0</td>\n",
       "      <td>84215.26</td>\n",
       "      <td>0</td>\n",
       "      <td>M</td>\n",
       "      <td>2015-10-27</td>\n",
       "      <td>1986-03-24</td>\n",
       "      <td>EMPLOYEE</td>\n",
       "      <td>KIA</td>\n",
       "      <td>1</td>\n",
       "      <td>1</td>\n",
       "      <td>1</td>\n",
       "      <td>1</td>\n",
       "    </tr>\n",
       "    <tr>\n",
       "      <th>131217</th>\n",
       "      <td>2016-06-29</td>\n",
       "      <td>1</td>\n",
       "      <td>1</td>\n",
       "      <td>Auto Loans 50% Down Payment - Employed</td>\n",
       "      <td>2015-11-25</td>\n",
       "      <td>2020-11-03</td>\n",
       "      <td>91000.0</td>\n",
       "      <td>83204.23</td>\n",
       "      <td>0</td>\n",
       "      <td>M</td>\n",
       "      <td>2015-10-27</td>\n",
       "      <td>1986-03-24</td>\n",
       "      <td>EMPLOYEE</td>\n",
       "      <td>KIA</td>\n",
       "      <td>1</td>\n",
       "      <td>1</td>\n",
       "      <td>1</td>\n",
       "      <td>1</td>\n",
       "    </tr>\n",
       "    <tr>\n",
       "      <th>156314</th>\n",
       "      <td>2016-07-31</td>\n",
       "      <td>1</td>\n",
       "      <td>1</td>\n",
       "      <td>Auto Loans 50% Down Payment - Employed</td>\n",
       "      <td>2015-11-25</td>\n",
       "      <td>2020-11-03</td>\n",
       "      <td>91000.0</td>\n",
       "      <td>82141.07</td>\n",
       "      <td>0</td>\n",
       "      <td>M</td>\n",
       "      <td>2015-10-27</td>\n",
       "      <td>1986-03-24</td>\n",
       "      <td>EMPLOYEE</td>\n",
       "      <td>KIA</td>\n",
       "      <td>1</td>\n",
       "      <td>1</td>\n",
       "      <td>1</td>\n",
       "      <td>1</td>\n",
       "    </tr>\n",
       "    <tr>\n",
       "      <th>173243</th>\n",
       "      <td>2016-08-31</td>\n",
       "      <td>1</td>\n",
       "      <td>1</td>\n",
       "      <td>Auto Loans 50% Down Payment - Employed</td>\n",
       "      <td>2015-11-25</td>\n",
       "      <td>2020-11-03</td>\n",
       "      <td>91000.0</td>\n",
       "      <td>81098.97</td>\n",
       "      <td>0</td>\n",
       "      <td>M</td>\n",
       "      <td>2015-10-27</td>\n",
       "      <td>1986-03-24</td>\n",
       "      <td>EMPLOYEE</td>\n",
       "      <td>KIA</td>\n",
       "      <td>1</td>\n",
       "      <td>1</td>\n",
       "      <td>1</td>\n",
       "      <td>1</td>\n",
       "    </tr>\n",
       "    <tr>\n",
       "      <th>194867</th>\n",
       "      <td>2016-09-29</td>\n",
       "      <td>1</td>\n",
       "      <td>1</td>\n",
       "      <td>Auto Loans 50% Down Payment - Employed</td>\n",
       "      <td>2015-11-25</td>\n",
       "      <td>2020-11-03</td>\n",
       "      <td>91000.0</td>\n",
       "      <td>80041.26</td>\n",
       "      <td>0</td>\n",
       "      <td>M</td>\n",
       "      <td>2015-10-27</td>\n",
       "      <td>1986-03-24</td>\n",
       "      <td>EMPLOYEE</td>\n",
       "      <td>KIA</td>\n",
       "      <td>1</td>\n",
       "      <td>1</td>\n",
       "      <td>1</td>\n",
       "      <td>1</td>\n",
       "    </tr>\n",
       "    <tr>\n",
       "      <th>227201</th>\n",
       "      <td>2016-10-31</td>\n",
       "      <td>1</td>\n",
       "      <td>1</td>\n",
       "      <td>Auto Loans 50% Down Payment - Employed</td>\n",
       "      <td>2015-11-25</td>\n",
       "      <td>2020-11-03</td>\n",
       "      <td>91000.0</td>\n",
       "      <td>78932.14</td>\n",
       "      <td>0</td>\n",
       "      <td>M</td>\n",
       "      <td>2015-10-27</td>\n",
       "      <td>1986-03-24</td>\n",
       "      <td>EMPLOYEE</td>\n",
       "      <td>KIA</td>\n",
       "      <td>1</td>\n",
       "      <td>1</td>\n",
       "      <td>1</td>\n",
       "      <td>1</td>\n",
       "    </tr>\n",
       "    <tr>\n",
       "      <th>257326</th>\n",
       "      <td>2016-11-30</td>\n",
       "      <td>1</td>\n",
       "      <td>1</td>\n",
       "      <td>Auto Loans 50% Down Payment - Employed</td>\n",
       "      <td>2015-11-25</td>\n",
       "      <td>2020-11-03</td>\n",
       "      <td>91000.0</td>\n",
       "      <td>77841.98</td>\n",
       "      <td>0</td>\n",
       "      <td>M</td>\n",
       "      <td>2015-10-27</td>\n",
       "      <td>1986-03-24</td>\n",
       "      <td>EMPLOYEE</td>\n",
       "      <td>KIA</td>\n",
       "      <td>1</td>\n",
       "      <td>1</td>\n",
       "      <td>1</td>\n",
       "      <td>1</td>\n",
       "    </tr>\n",
       "    <tr>\n",
       "      <th>264890</th>\n",
       "      <td>2016-12-29</td>\n",
       "      <td>1</td>\n",
       "      <td>1</td>\n",
       "      <td>Auto Loans 50% Down Payment - Employed</td>\n",
       "      <td>2015-11-25</td>\n",
       "      <td>2020-11-03</td>\n",
       "      <td>91000.0</td>\n",
       "      <td>76700.89</td>\n",
       "      <td>0</td>\n",
       "      <td>M</td>\n",
       "      <td>2015-10-27</td>\n",
       "      <td>1986-03-24</td>\n",
       "      <td>EMPLOYEE</td>\n",
       "      <td>KIA</td>\n",
       "      <td>1</td>\n",
       "      <td>1</td>\n",
       "      <td>1</td>\n",
       "      <td>1</td>\n",
       "    </tr>\n",
       "    <tr>\n",
       "      <th>301489</th>\n",
       "      <td>2017-01-31</td>\n",
       "      <td>1</td>\n",
       "      <td>1</td>\n",
       "      <td>Auto Loans 50% Down Payment - Employed</td>\n",
       "      <td>2015-11-25</td>\n",
       "      <td>2020-11-03</td>\n",
       "      <td>91000.0</td>\n",
       "      <td>75577.31</td>\n",
       "      <td>0</td>\n",
       "      <td>M</td>\n",
       "      <td>2015-10-27</td>\n",
       "      <td>1986-03-24</td>\n",
       "      <td>EMPLOYEE</td>\n",
       "      <td>KIA</td>\n",
       "      <td>1</td>\n",
       "      <td>1</td>\n",
       "      <td>1</td>\n",
       "      <td>1</td>\n",
       "    </tr>\n",
       "    <tr>\n",
       "      <th>309076</th>\n",
       "      <td>2017-02-28</td>\n",
       "      <td>1</td>\n",
       "      <td>1</td>\n",
       "      <td>Auto Loans 50% Down Payment - Employed</td>\n",
       "      <td>2015-11-25</td>\n",
       "      <td>2020-11-03</td>\n",
       "      <td>91000.0</td>\n",
       "      <td>74436.91</td>\n",
       "      <td>0</td>\n",
       "      <td>M</td>\n",
       "      <td>2015-10-27</td>\n",
       "      <td>1986-03-24</td>\n",
       "      <td>EMPLOYEE</td>\n",
       "      <td>KIA</td>\n",
       "      <td>1</td>\n",
       "      <td>1</td>\n",
       "      <td>1</td>\n",
       "      <td>1</td>\n",
       "    </tr>\n",
       "    <tr>\n",
       "      <th>331608</th>\n",
       "      <td>2017-03-30</td>\n",
       "      <td>1</td>\n",
       "      <td>1</td>\n",
       "      <td>Auto Loans 50% Down Payment - Employed</td>\n",
       "      <td>2015-11-25</td>\n",
       "      <td>2020-11-03</td>\n",
       "      <td>91000.0</td>\n",
       "      <td>73180.18</td>\n",
       "      <td>0</td>\n",
       "      <td>M</td>\n",
       "      <td>2015-10-27</td>\n",
       "      <td>1986-03-24</td>\n",
       "      <td>EMPLOYEE</td>\n",
       "      <td>KIA</td>\n",
       "      <td>1</td>\n",
       "      <td>1</td>\n",
       "      <td>1</td>\n",
       "      <td>1</td>\n",
       "    </tr>\n",
       "    <tr>\n",
       "      <th>373547</th>\n",
       "      <td>2017-04-30</td>\n",
       "      <td>1</td>\n",
       "      <td>1</td>\n",
       "      <td>Auto Loans 50% Down Payment - Employed</td>\n",
       "      <td>2015-11-25</td>\n",
       "      <td>2020-11-03</td>\n",
       "      <td>91000.0</td>\n",
       "      <td>72003.87</td>\n",
       "      <td>0</td>\n",
       "      <td>M</td>\n",
       "      <td>2015-10-27</td>\n",
       "      <td>1986-03-24</td>\n",
       "      <td>EMPLOYEE</td>\n",
       "      <td>KIA</td>\n",
       "      <td>1</td>\n",
       "      <td>1</td>\n",
       "      <td>1</td>\n",
       "      <td>1</td>\n",
       "    </tr>\n",
       "  </tbody>\n",
       "</table>\n",
       "</div>"
      ],
      "text/plain": [
       "       reporting_date  account_number  ...  profession_test car_type_test\n",
       "31411      2016-02-29               1  ...                1             1\n",
       "49109      2016-03-31               1  ...                1             1\n",
       "85225      2016-04-28               1  ...                1             1\n",
       "100035     2016-05-31               1  ...                1             1\n",
       "131217     2016-06-29               1  ...                1             1\n",
       "156314     2016-07-31               1  ...                1             1\n",
       "173243     2016-08-31               1  ...                1             1\n",
       "194867     2016-09-29               1  ...                1             1\n",
       "227201     2016-10-31               1  ...                1             1\n",
       "257326     2016-11-30               1  ...                1             1\n",
       "264890     2016-12-29               1  ...                1             1\n",
       "301489     2017-01-31               1  ...                1             1\n",
       "309076     2017-02-28               1  ...                1             1\n",
       "331608     2017-03-30               1  ...                1             1\n",
       "373547     2017-04-30               1  ...                1             1\n",
       "\n",
       "[15 rows x 18 columns]"
      ]
     },
     "execution_count": 14,
     "metadata": {},
     "output_type": "execute_result"
    }
   ],
   "source": [
    "#Check for duplicate rows based on ACCOUNT_NUMBER and CUSTOMER_ID\n",
    "duplicate_rows_df = df[df.duplicated(subset=['account_number', 'customer_id'])]\n",
    "print('number of duplicate rows: ', duplicate_rows_df.shape)\n",
    "duplicate_rows_df.sort_values(['customer_id', 'reporting_date'], ascending=True, inplace = True)\n",
    "duplicate_rows_df.head(15)"
   ]
  },
  {
   "cell_type": "code",
   "execution_count": 15,
   "metadata": {
    "colab": {
     "base_uri": "https://localhost:8080/"
    },
    "id": "HliMu8nTKgrG",
    "outputId": "79c5f129-b1af-47c8-c614-804deffa2edb"
   },
   "outputs": [
    {
     "name": "stdout",
     "output_type": "stream",
     "text": [
      "\n",
      " old shape:  (900860, 18)\n",
      "\n",
      " new shape:  (39597, 18)\n"
     ]
    }
   ],
   "source": [
    "# Drop duplicates and keep only last opened loan per account \n",
    "\n",
    "print(\"\\n old shape: \",  df.shape) # Confirm original dataframe shape\n",
    "df = df.sort_values(by=\"reporting_date\").drop_duplicates(subset=[\"account_number\", 'customer_id'], keep=\"last\") # drop duplicates\n",
    "print(\"\\n new shape: \",  df.shape) # Confirm dataframe reduction"
   ]
  },
  {
   "cell_type": "code",
   "execution_count": 16,
   "metadata": {
    "colab": {
     "base_uri": "https://localhost:8080/",
     "height": 411
    },
    "id": "gMrV45V0fP3j",
    "outputId": "8afe805d-5d90-4cd4-d5cd-9962dd1e6472"
   },
   "outputs": [
    {
     "data": {
      "text/html": [
       "<div>\n",
       "<style scoped>\n",
       "    .dataframe tbody tr th:only-of-type {\n",
       "        vertical-align: middle;\n",
       "    }\n",
       "\n",
       "    .dataframe tbody tr th {\n",
       "        vertical-align: top;\n",
       "    }\n",
       "\n",
       "    .dataframe thead th {\n",
       "        text-align: right;\n",
       "    }\n",
       "</style>\n",
       "<table border=\"1\" class=\"dataframe\">\n",
       "  <thead>\n",
       "    <tr style=\"text-align: right;\">\n",
       "      <th></th>\n",
       "      <th>reporting_date</th>\n",
       "      <th>account_number</th>\n",
       "      <th>customer_id</th>\n",
       "      <th>program_name</th>\n",
       "      <th>loan_open_date</th>\n",
       "      <th>expected_close_date</th>\n",
       "      <th>original_booked_amount</th>\n",
       "      <th>outstanding</th>\n",
       "      <th>bucket</th>\n",
       "      <th>sex</th>\n",
       "      <th>customer_open_date</th>\n",
       "      <th>birth_date</th>\n",
       "      <th>profession</th>\n",
       "      <th>car_type</th>\n",
       "      <th>sex_test</th>\n",
       "      <th>birth_date_test</th>\n",
       "      <th>profession_test</th>\n",
       "      <th>car_type_test</th>\n",
       "    </tr>\n",
       "  </thead>\n",
       "  <tbody>\n",
       "    <tr>\n",
       "      <th>15639</th>\n",
       "      <td>2016-01-31</td>\n",
       "      <td>15640</td>\n",
       "      <td>15378</td>\n",
       "      <td>Auto Loans 40% Down Payment - Self Employed</td>\n",
       "      <td>2013-01-02</td>\n",
       "      <td>2016-01-03</td>\n",
       "      <td>81600.0</td>\n",
       "      <td>0.0</td>\n",
       "      <td>0</td>\n",
       "      <td>M</td>\n",
       "      <td>2012-12-03</td>\n",
       "      <td>1969-02-19</td>\n",
       "      <td>Company Owner</td>\n",
       "      <td>NaN</td>\n",
       "      <td>1</td>\n",
       "      <td>1</td>\n",
       "      <td>1</td>\n",
       "      <td>0</td>\n",
       "    </tr>\n",
       "    <tr>\n",
       "      <th>15651</th>\n",
       "      <td>2016-01-31</td>\n",
       "      <td>15652</td>\n",
       "      <td>15390</td>\n",
       "      <td>Pick Up and Small Trucks</td>\n",
       "      <td>2013-11-25</td>\n",
       "      <td>2015-11-03</td>\n",
       "      <td>84000.0</td>\n",
       "      <td>0.0</td>\n",
       "      <td>0</td>\n",
       "      <td>M</td>\n",
       "      <td>2013-11-11</td>\n",
       "      <td>1984-02-18</td>\n",
       "      <td>Shop Owner</td>\n",
       "      <td>NaN</td>\n",
       "      <td>1</td>\n",
       "      <td>1</td>\n",
       "      <td>1</td>\n",
       "      <td>0</td>\n",
       "    </tr>\n",
       "    <tr>\n",
       "      <th>15582</th>\n",
       "      <td>2016-01-31</td>\n",
       "      <td>15583</td>\n",
       "      <td>15323</td>\n",
       "      <td>Auto Loans 30% Down Payment - Self Employed</td>\n",
       "      <td>2015-06-24</td>\n",
       "      <td>2020-06-03</td>\n",
       "      <td>113400.0</td>\n",
       "      <td>0.0</td>\n",
       "      <td>7</td>\n",
       "      <td>M</td>\n",
       "      <td>2015-04-29</td>\n",
       "      <td>1988-08-23</td>\n",
       "      <td>Shop Owner</td>\n",
       "      <td>NaN</td>\n",
       "      <td>1</td>\n",
       "      <td>1</td>\n",
       "      <td>1</td>\n",
       "      <td>0</td>\n",
       "    </tr>\n",
       "    <tr>\n",
       "      <th>15741</th>\n",
       "      <td>2016-01-31</td>\n",
       "      <td>15742</td>\n",
       "      <td>15477</td>\n",
       "      <td>Auto Loans 30% Down Payment - Employed</td>\n",
       "      <td>2015-01-22</td>\n",
       "      <td>2020-02-03</td>\n",
       "      <td>57750.0</td>\n",
       "      <td>0.0</td>\n",
       "      <td>0</td>\n",
       "      <td>M</td>\n",
       "      <td>2014-09-24</td>\n",
       "      <td>1975-11-01</td>\n",
       "      <td>EMPLOYEE</td>\n",
       "      <td>NaN</td>\n",
       "      <td>1</td>\n",
       "      <td>1</td>\n",
       "      <td>1</td>\n",
       "      <td>0</td>\n",
       "    </tr>\n",
       "    <tr>\n",
       "      <th>15689</th>\n",
       "      <td>2016-01-31</td>\n",
       "      <td>15690</td>\n",
       "      <td>15427</td>\n",
       "      <td>Auto Loans Special Deals</td>\n",
       "      <td>2012-01-30</td>\n",
       "      <td>2016-01-22</td>\n",
       "      <td>65600.0</td>\n",
       "      <td>0.0</td>\n",
       "      <td>0</td>\n",
       "      <td>M</td>\n",
       "      <td>2011-01-05</td>\n",
       "      <td>1985-12-18</td>\n",
       "      <td>EMPLOYEE</td>\n",
       "      <td>NaN</td>\n",
       "      <td>1</td>\n",
       "      <td>1</td>\n",
       "      <td>1</td>\n",
       "      <td>0</td>\n",
       "    </tr>\n",
       "  </tbody>\n",
       "</table>\n",
       "</div>"
      ],
      "text/plain": [
       "      reporting_date  account_number  ...  profession_test car_type_test\n",
       "15639     2016-01-31           15640  ...                1             0\n",
       "15651     2016-01-31           15652  ...                1             0\n",
       "15582     2016-01-31           15583  ...                1             0\n",
       "15741     2016-01-31           15742  ...                1             0\n",
       "15689     2016-01-31           15690  ...                1             0\n",
       "\n",
       "[5 rows x 18 columns]"
      ]
     },
     "execution_count": 16,
     "metadata": {},
     "output_type": "execute_result"
    }
   ],
   "source": [
    "df.head()"
   ]
  },
  {
   "cell_type": "code",
   "execution_count": 17,
   "metadata": {
    "colab": {
     "base_uri": "https://localhost:8080/"
    },
    "id": "ZDy7MtMfK2BJ",
    "outputId": "56197b4b-11ee-4b8d-dce7-3757feb02028"
   },
   "outputs": [
    {
     "name": "stdout",
     "output_type": "stream",
     "text": [
      "<class 'pandas.core.frame.DataFrame'>\n",
      "Int64Index: 39597 entries, 15639 to 900859\n",
      "Data columns (total 18 columns):\n",
      " #   Column                  Non-Null Count  Dtype         \n",
      "---  ------                  --------------  -----         \n",
      " 0   reporting_date          39597 non-null  datetime64[ns]\n",
      " 1   account_number          39597 non-null  int64         \n",
      " 2   customer_id             39597 non-null  int64         \n",
      " 3   program_name            39597 non-null  object        \n",
      " 4   loan_open_date          39597 non-null  datetime64[ns]\n",
      " 5   expected_close_date     39597 non-null  datetime64[ns]\n",
      " 6   original_booked_amount  39597 non-null  float64       \n",
      " 7   outstanding             39597 non-null  float64       \n",
      " 8   bucket                  39597 non-null  int64         \n",
      " 9   sex                     39320 non-null  object        \n",
      " 10  customer_open_date      39597 non-null  datetime64[ns]\n",
      " 11  birth_date              39319 non-null  datetime64[ns]\n",
      " 12  profession              39281 non-null  object        \n",
      " 13  car_type                37295 non-null  object        \n",
      " 14  sex_test                39597 non-null  int64         \n",
      " 15  birth_date_test         39597 non-null  int64         \n",
      " 16  profession_test         39597 non-null  int64         \n",
      " 17  car_type_test           39597 non-null  int64         \n",
      "dtypes: datetime64[ns](5), float64(2), int64(7), object(4)\n",
      "memory usage: 5.7+ MB\n"
     ]
    }
   ],
   "source": [
    "df.info()"
   ]
  },
  {
   "cell_type": "markdown",
   "metadata": {
    "id": "T3-m_-jzq44c"
   },
   "source": [
    "### **1.3.** Binning the target variable (\"bucket\")"
   ]
  },
  {
   "cell_type": "code",
   "execution_count": 18,
   "metadata": {
    "colab": {
     "base_uri": "https://localhost:8080/"
    },
    "id": "qob4cOOirANr",
    "outputId": "7ce4200d-ce5f-424f-8bf6-b828520ee0ef"
   },
   "outputs": [
    {
     "data": {
      "text/plain": [
       "0    34990\n",
       "1     2073\n",
       "7     1149\n",
       "2      805\n",
       "3      306\n",
       "4      147\n",
       "5       85\n",
       "6       42\n",
       "Name: bucket, dtype: int64"
      ]
     },
     "execution_count": 18,
     "metadata": {},
     "output_type": "execute_result"
    }
   ],
   "source": [
    "df['bucket'].value_counts()"
   ]
  },
  {
   "cell_type": "code",
   "execution_count": 19,
   "metadata": {
    "id": "3OpzEeazrCkp"
   },
   "outputs": [],
   "source": [
    "# The variable \"bucket\" indicates the number of unpaid installements at each reporting date. We have transformed\n",
    "# this variable to dummy variables to indicate whether the user has had unpaid installments (1) or not(0).\n",
    "bucket_replace = {2: 1, 3: 1, 4: 1, 5: 1, 6: 1, 7: 1}\n",
    "df = df.replace({'bucket': bucket_replace})"
   ]
  },
  {
   "cell_type": "code",
   "execution_count": 20,
   "metadata": {
    "colab": {
     "base_uri": "https://localhost:8080/"
    },
    "id": "BC9HfA33rEiE",
    "outputId": "69956a26-6dfd-4fcd-b5dc-52d5f159eb63"
   },
   "outputs": [
    {
     "data": {
      "text/plain": [
       "0    34990\n",
       "1     4607\n",
       "Name: bucket, dtype: int64"
      ]
     },
     "execution_count": 20,
     "metadata": {},
     "output_type": "execute_result"
    }
   ],
   "source": [
    "df['bucket'].value_counts()"
   ]
  },
  {
   "cell_type": "markdown",
   "metadata": {
    "id": "W6P8EoiFDTbu"
   },
   "source": [
    "## 2. Data Preparation"
   ]
  },
  {
   "cell_type": "markdown",
   "metadata": {
    "id": "L5j6NkYVrW9O"
   },
   "source": [
    "### **2.1**. Dealing with date columns"
   ]
  },
  {
   "cell_type": "markdown",
   "metadata": {
    "id": "Jx3Vq8jDrcxU"
   },
   "source": [
    "To deal with date columns, we decided to do the following:\n",
    "\n",
    "1. Identify Date Columns\n",
    "2. Convert them into date format\n",
    "3. Calculate the time difference between the mentioned date and the date of the 4. report\n",
    "5. All the dates will be in months except the age in years\n",
    "6. Calculate the expected loan duration in terms of months (e.g. a 44 months loan or a 60 months loan...etc.)\n",
    "7. Finally, drop the original date columns as they would be replaced by the duration columns"
   ]
  },
  {
   "cell_type": "code",
   "execution_count": 21,
   "metadata": {
    "id": "oKZ0RWkfrjp9"
   },
   "outputs": [],
   "source": [
    "from datetime import datetime\n",
    "\n",
    "#I am not chossing the 'REPORTING_DATE' columns as it is not helping our analysis\n",
    "date_columns = ['loan_open_date', 'expected_close_date', 'customer_open_date', 'birth_date'  ]\n",
    "\n",
    "# Assuming the report date is today's date\n",
    "today_date = datetime.strptime('2019-09-01',\"%Y-%m-%d\") \n",
    "\n",
    "\n",
    "for col in date_columns:\n",
    "    df[col] =  pd.to_datetime(df[col],format='%Y-%m-%d') \n",
    "    age_col = col.split('_')\n",
    "    age_col = col[0:(len(col)-4)]\n",
    "    age_col = ''.join(age_col)+'duration'\n",
    "    df[age_col] = df[col].apply(lambda x: today_date.month - x.month + 12*(today_date.year - x.year))\n",
    "\n",
    "df['birth_duration'] = df['birth_duration'].fillna(0).replace('NaN',0).replace('',0)\n",
    "df['age'] = df['birth_duration'].apply(lambda x: round(x/12))\n",
    "\n",
    "df['loan_expected_duration'] =  df['expected_close_date'].dt.month - df['loan_open_date'].dt.month + 12*(df['expected_close_date'].dt.year - df['loan_open_date'].dt.year)\n",
    "\n",
    "df.drop(['birth_duration', 'reporting_date', 'loan_open_date', 'expected_close_date',  'birth_date', 'customer_open_date'], axis = 1, inplace = True)"
   ]
  },
  {
   "cell_type": "markdown",
   "metadata": {
    "id": "JsGiVFSBDTby"
   },
   "source": [
    "### **2.2.** Removing Nans"
   ]
  },
  {
   "cell_type": "markdown",
   "metadata": {
    "id": "Rk5IS-JrDTby"
   },
   "source": [
    "#### **2.2.1.** Selecting only the numerics to replace NaNs or blanks with 0 "
   ]
  },
  {
   "cell_type": "code",
   "execution_count": 22,
   "metadata": {
    "colab": {
     "base_uri": "https://localhost:8080/"
    },
    "id": "B9vHNPHpDTby",
    "outputId": "d4517beb-9323-4af1-fbe0-ef0ba6bd6682",
    "scrolled": true
   },
   "outputs": [
    {
     "data": {
      "text/plain": [
       "account_number                0\n",
       "customer_id                   0\n",
       "program_name                  0\n",
       "original_booked_amount        0\n",
       "outstanding                   0\n",
       "bucket                        0\n",
       "sex                         277\n",
       "profession                  316\n",
       "car_type                   2302\n",
       "sex_test                      0\n",
       "birth_date_test               0\n",
       "profession_test               0\n",
       "car_type_test                 0\n",
       "loan_open_duration            0\n",
       "expected_close_duration       0\n",
       "customer_open_duration        0\n",
       "age                           0\n",
       "loan_expected_duration        0\n",
       "dtype: int64"
      ]
     },
     "execution_count": 22,
     "metadata": {},
     "output_type": "execute_result"
    }
   ],
   "source": [
    "#Check the amount of missing values that we have in each variable\n",
    "df.isnull().sum()"
   ]
  },
  {
   "cell_type": "code",
   "execution_count": 23,
   "metadata": {
    "id": "037oLTIJDTby"
   },
   "outputs": [],
   "source": [
    "list_numeric_columns = ['age']\n",
    "for item in list_numeric_columns:\n",
    "    df[item] = df[item].fillna(0).replace('NaN',0).replace('',0)"
   ]
  },
  {
   "cell_type": "markdown",
   "metadata": {
    "id": "eEcUryqWjAJi"
   },
   "source": [
    "###  **2.3.** Dealing with categorical variables using the observation rate"
   ]
  },
  {
   "cell_type": "code",
   "execution_count": 26,
   "metadata": {
    "colab": {
     "base_uri": "https://localhost:8080/"
    },
    "id": "RA4eJQnBuJsu",
    "outputId": "e3cff2ac-c1c8-458e-a15f-b6762a9f3c65"
   },
   "outputs": [
    {
     "data": {
      "text/plain": [
       "array(['RENAULT', 'KIA', 'HYUNDAI', 'NISSAN', 'Brilliance', 'CHEVROLET',\n",
       "       'SUZUKI', 'Speranza', 'GELY', 'SKODA', 'MITSUBISHI', 'Changan',\n",
       "       'Livan', 'JEEP', 'TOYOTA', 'CARRY', 'Great Wall', 'LADA',\n",
       "       'VOLKSWAGEN', 'FIAT', 'OPEL', 'BYD', 'Chana', 'Citroen', 'SEAT',\n",
       "       'Peugeot', 'DAIHATSU', 'Saipa', 'PROTON', 'VOLVO', 'MERCEDES',\n",
       "       'MAZDA', 'BMW', 'SUBARU', 'Jack', 'FORD', 'CHERY', 'Gelory',\n",
       "       'Isuzu', 'MABLE', 'HONDA', 'Mahindra', 'MG', 'BAIC', 'Ssang Yong',\n",
       "       'ZEMEX', 'Kenbo', 'HAIMA', 'SAWEAST', 'CHANGY', 'MINI', 'AUDI',\n",
       "       'Dodge', 'Faw', 'FLORIDA', 'DFSK', 'Zoty', 'HAWTAI', 'JAGUAR',\n",
       "       'VICTORY'], dtype=object)"
      ]
     },
     "execution_count": 26,
     "metadata": {},
     "output_type": "execute_result"
    }
   ],
   "source": [
    "#As we did before, let’s explore in how many different car types we have in the dataset:\n",
    "df['car_type'].unique()\n"
   ]
  },
  {
   "cell_type": "code",
   "execution_count": 27,
   "metadata": {
    "colab": {
     "base_uri": "https://localhost:8080/"
    },
    "id": "G0hYeu3_1o5h",
    "outputId": "5f75fa98-7115-489a-8b00-c7aac81edb5f"
   },
   "outputs": [
    {
     "name": "stdout",
     "output_type": "stream",
     "text": [
      "0    15\n",
      "Name: bucket, dtype: int64\n",
      "0    2\n",
      "Name: bucket, dtype: int64\n",
      "0    4\n",
      "Name: bucket, dtype: int64\n",
      "0    1\n",
      "Name: bucket, dtype: int64\n",
      "0    4\n",
      "Name: bucket, dtype: int64\n",
      "0    2\n",
      "Name: bucket, dtype: int64\n",
      "0    1\n",
      "Name: bucket, dtype: int64\n",
      "0    3\n",
      "Name: bucket, dtype: int64\n",
      "0    15\n",
      "Name: bucket, dtype: int64\n",
      "0    2\n",
      "Name: bucket, dtype: int64\n",
      "0    4\n",
      "Name: bucket, dtype: int64\n",
      "0    1\n",
      "Name: bucket, dtype: int64\n",
      "0    4\n",
      "Name: bucket, dtype: int64\n",
      "0    2\n",
      "Name: bucket, dtype: int64\n",
      "0    1\n",
      "Name: bucket, dtype: int64\n",
      "0    3\n",
      "Name: bucket, dtype: int64\n",
      "0    15\n",
      "Name: bucket, dtype: int64\n",
      "0    2\n",
      "Name: bucket, dtype: int64\n",
      "0    4\n",
      "Name: bucket, dtype: int64\n",
      "0    1\n",
      "Name: bucket, dtype: int64\n",
      "0    4\n",
      "Name: bucket, dtype: int64\n",
      "0    2\n",
      "Name: bucket, dtype: int64\n",
      "0    1\n",
      "Name: bucket, dtype: int64\n",
      "0    3\n",
      "Name: bucket, dtype: int64\n",
      "0    15\n",
      "Name: bucket, dtype: int64\n",
      "0    2\n",
      "Name: bucket, dtype: int64\n",
      "0    4\n",
      "Name: bucket, dtype: int64\n",
      "0    1\n",
      "Name: bucket, dtype: int64\n",
      "0    4\n",
      "Name: bucket, dtype: int64\n",
      "0    2\n",
      "Name: bucket, dtype: int64\n",
      "0    1\n",
      "Name: bucket, dtype: int64\n",
      "0    3\n",
      "Name: bucket, dtype: int64\n",
      "0    15\n",
      "Name: bucket, dtype: int64\n",
      "0    2\n",
      "Name: bucket, dtype: int64\n",
      "0    4\n",
      "Name: bucket, dtype: int64\n",
      "0    1\n",
      "Name: bucket, dtype: int64\n",
      "0    4\n",
      "Name: bucket, dtype: int64\n",
      "0    2\n",
      "Name: bucket, dtype: int64\n",
      "0    1\n",
      "Name: bucket, dtype: int64\n",
      "0    3\n",
      "Name: bucket, dtype: int64\n",
      "0    15\n",
      "Name: bucket, dtype: int64\n",
      "0    2\n",
      "Name: bucket, dtype: int64\n",
      "0    4\n",
      "Name: bucket, dtype: int64\n",
      "0    1\n",
      "Name: bucket, dtype: int64\n",
      "0    4\n",
      "Name: bucket, dtype: int64\n",
      "0    2\n",
      "Name: bucket, dtype: int64\n",
      "0    1\n",
      "Name: bucket, dtype: int64\n",
      "0    3\n",
      "Name: bucket, dtype: int64\n"
     ]
    }
   ],
   "source": [
    "observation_rate = {}\n",
    "list1 = []\n",
    "\n",
    "for cat in categorical_variables:\n",
    "  for i in df['car_type'].unique():\n",
    "  \n",
    "    if df[df['car_type'] == i]['bucket'].value_counts().shape[0] == 2:\n",
    "      pass\n",
    "    else: \n",
    "      list1.append(i)\n",
    "   \n",
    "\n",
    "\n",
    "  for i in list1:\n",
    "    print (df[df['car_type'] == i]['bucket'].value_counts())"
   ]
  },
  {
   "cell_type": "code",
   "execution_count": 28,
   "metadata": {
    "colab": {
     "base_uri": "https://localhost:8080/"
    },
    "id": "hEPXG4V9nV19",
    "outputId": "9be9e21f-8a4e-4b31-a0af-2ff7abaffcfa"
   },
   "outputs": [
    {
     "name": "stdout",
     "output_type": "stream",
     "text": [
      "{'program_name': {'Auto Loans 50% Down Payment - Employed': 0.10127909414971692, 'Auto Loans 50% Down Payment - Self Employed': 0.08226458694396303, 'Auto Loans 30% Down Payment - Employed': 0.17064377682403434, 'Auto Loans 40% Down Payment - Self Employed': 0.13864125422686752, 'Auto Loans Payroll Clients': 0.07142857142857142, 'Auto Loans 40% Down Payment - Employed': 0.1258208006778225, 'Auto Loans Special Deals': 0.027164685908319185, 'Pick Up and Small Trucks': 0.09558823529411764, 'Auto Loans 30% Down Payment - Self Employed': 0.1846739647786768, 'Auto Loans 20% Down Payment - Employed': 0.17134831460674158, 'Auto Loans 20% Down Payment - Self Employed': 0.0945273631840796, 'Auto Loans Secured against CD': 0.038461538461538464, 'Auto Loans Doctors - Self Employed': 0, 'Auto Loans Fully Secured': 0.07142857142857142, 'Auto Loans 50% Down Payment No Car Prohibition - Self Employed': 0.175, 'Auto Loans Doctors - Employed': 0, 'Auto Loans Run Off - Employed': 0, 'Auto Loans Run Off - Self Employed': 0.07142857142857142, 'Auto Loans 50% Down Payment No Car Prohibition - Employed': 0.25, 'Auto Loans 50% Down Payment Used Cars - Self Employed': 0, 'Auto Loans 50% Down Payment Used Cars - Employed': 0.09090909090909091, 'Auto Loans 30% Down Payment Used Cars - Employed': 0.5, 'Auto Loans 30% Down Payment Used Cars - Self Employed': 0}, 'profession': {'RETIRED': 0.034782608695652174, 'Shop Owner': 0.11789614441720526, 'EMPLOYEE': 0.12802597913796496, 'Company Owner': 0.12331030339441273, 'Accountant - Employee': 0.13677313677313677, 'Manager': 0.15028901734104047, 'HOUSEWIFE': 0.07551707551707551, 'JEWELLER': 0.05555555555555555, 'Contractor': 0.1362530413625304, 'Craftsman': 0.09523809523809523, 'TECHNICIAN': 0.12546125461254612, 'ENGINEER': 0.0735930735930736, 'Instructor / Teacher': 0.0994305738063951, 'PROFESSORS': 0.04597701149425287, 'Unemployed': 0.11815561959654179, 'DOCTOR': 0.050872093023255814, 'Business Man / Trader': 0.08602150537634409, 'Lawyer ? Employee': 0.25, 'Landlord': 0.08888888888888889, 'AGRARIAN': 0, 'SECRETARY': 0.14814814814814814, 'PHARMACIST': 0.053824362606232294, 'RELIGION PERSON': 0.04081632653061224, 'PRESS': 0, 'Car / Boat Agency / Deale': 0.07142857142857142, 'BANKER': 0.034482758620689655, 'Journalist': 0.12727272727272726, 'NURSE': 0.12758620689655173, 'CAE - Current Staff': 0, 'DRIVER': 0.0625, 'TOUR LEADER': 0, 'Broadcast / Media': 0.14285714285714285, 'CHEMIST': 0.06521739130434782, 'Athletes': 0.1, 'ARTIST': 0.08571428571428572, 'DIVER': 0.25, 'Real Estate Broker / Agen': 0.3333333333333333, 'Lawyer ? Self Employer': 0.2, 'Hotel Manager': 0, 'Pilot': 0, 'STUDENT': 0.05263157894736842, 'Bazaar Shop Owner': 0, 'Military Officer': 0, 'Politician': 0, 'Consultant': 0.1, 'Hostess': 0.25, 'CAE Ex-Staff Less Than 10': 0, 'Police Officer': 0, 'CAE IBS Staff': 0, 'ECONOMIST': 0, 'PUBLISHER': 0}, 'car_type': {'RENAULT': 0.1373695198329854, 'KIA': 0.09480204686237544, 'HYUNDAI': 0.11666449171342816, 'NISSAN': 0.11892675852066716, 'Brilliance': 0.1, 'CHEVROLET': 0.11342638097110282, 'SUZUKI': 0.07701863354037267, 'Speranza': 0.05761316872427984, 'GELY': 0.1365491651205937, 'SKODA': 0.08, 'MITSUBISHI': 0.09971509971509972, 'Changan': 0.13636363636363635, 'Livan': 0.125, 'JEEP': 0.15841584158415842, 'TOYOTA': 0.056768558951965066, 'CARRY': 0.3333333333333333, 'Great Wall': 0.07692307692307693, 'LADA': 0.16535433070866143, 'VOLKSWAGEN': 0.13157894736842105, 'FIAT': 0.1, 'OPEL': 0.10632183908045977, 'BYD': 0.1814488828706838, 'Chana': 0.0975609756097561, 'Citroen': 0.07526881720430108, 'SEAT': 0.10126582278481013, 'Peugeot': 0.08571428571428572, 'DAIHATSU': 0.05714285714285714, 'Saipa': 0.09316770186335403, 'PROTON': 0.0948905109489051, 'VOLVO': 0.1111111111111111, 'MERCEDES': 0.08771929824561403, 'MAZDA': 0.11428571428571428, 'BMW': 0.0962962962962963, 'SUBARU': 0.125, 'Jack': 0.15217391304347827, 'FORD': 0.09859154929577464, 'CHERY': 0.2023047375160051, 'Gelory': 0.11946902654867257, 'Isuzu': 0.08333333333333333, 'MABLE': 0.3333333333333333, 'HONDA': 0, 'Mahindra': 0, 'MG': 0.07692307692307693, 'BAIC': 0.22362869198312235, 'Ssang Yong': 0.12371134020618557, 'ZEMEX': 0.3333333333333333, 'Kenbo': 0.2028985507246377, 'HAIMA': 0.30952380952380953, 'SAWEAST': 0.6666666666666666, 'CHANGY': 0.06976744186046512, 'MINI': 0, 'AUDI': 0.1, 'Dodge': 0, 'Faw': 0.18181818181818182, 'FLORIDA': 0, 'DFSK': 0.0684931506849315, 'Zoty': 0.2, 'HAWTAI': 0, 'JAGUAR': 0, 'VICTORY': 0}}\n"
     ]
    }
   ],
   "source": [
    "observation_rate = {}\n",
    "\n",
    "for cat in categorical_variables:\n",
    "  observation_rate[cat] = {}\n",
    "  for i in df[cat].unique():\n",
    "\n",
    "    if df[df[cat] == i]['bucket'].value_counts().shape[0] == 2:\n",
    "      \n",
    "      observation_rate[cat][i] = df[(df[cat] == i)]['bucket'].value_counts()[1]/(df[(df[cat] == i)]['bucket'].value_counts()[1]+df[(df[cat] == i)]['bucket'].value_counts()[0])\n",
    "      \n",
    "    \n",
    "    else: \n",
    "      observation_rate[cat][i] = 0\n",
    "      \n",
    "\n",
    "\n",
    "  \n",
    "print(observation_rate)\n"
   ]
  },
  {
   "cell_type": "code",
   "execution_count": null,
   "metadata": {
    "colab": {
     "base_uri": "https://localhost:8080/",
     "height": 479
    },
    "id": "akR5lrKdXQ-C",
    "outputId": "74fc994e-6fc6-4eb5-83d6-ca22fa139354"
   },
   "outputs": [
    {
     "data": {
      "text/html": [
       "<div>\n",
       "<style scoped>\n",
       "    .dataframe tbody tr th:only-of-type {\n",
       "        vertical-align: middle;\n",
       "    }\n",
       "\n",
       "    .dataframe tbody tr th {\n",
       "        vertical-align: top;\n",
       "    }\n",
       "\n",
       "    .dataframe thead th {\n",
       "        text-align: right;\n",
       "    }\n",
       "</style>\n",
       "<table border=\"1\" class=\"dataframe\">\n",
       "  <thead>\n",
       "    <tr style=\"text-align: right;\">\n",
       "      <th></th>\n",
       "      <th>account_number</th>\n",
       "      <th>customer_id</th>\n",
       "      <th>program_name</th>\n",
       "      <th>original_booked_amount</th>\n",
       "      <th>outstanding</th>\n",
       "      <th>bucket</th>\n",
       "      <th>sex</th>\n",
       "      <th>profession</th>\n",
       "      <th>car_type</th>\n",
       "      <th>sex_test</th>\n",
       "      <th>birth_date_test</th>\n",
       "      <th>profession_test</th>\n",
       "      <th>car_type_test</th>\n",
       "      <th>loan_open_duration</th>\n",
       "      <th>expected_close_duration</th>\n",
       "      <th>customer_open_duration</th>\n",
       "      <th>age</th>\n",
       "      <th>loan_expected_duration</th>\n",
       "    </tr>\n",
       "  </thead>\n",
       "  <tbody>\n",
       "    <tr>\n",
       "      <th>110070</th>\n",
       "      <td>19665</td>\n",
       "      <td>19286</td>\n",
       "      <td>Auto Loans 50% Down Payment - Employed</td>\n",
       "      <td>35000.0</td>\n",
       "      <td>0.0</td>\n",
       "      <td>0</td>\n",
       "      <td>M</td>\n",
       "      <td>RETIRED</td>\n",
       "      <td>RENAULT</td>\n",
       "      <td>1</td>\n",
       "      <td>1</td>\n",
       "      <td>1</td>\n",
       "      <td>1</td>\n",
       "      <td>100</td>\n",
       "      <td>40</td>\n",
       "      <td>100</td>\n",
       "      <td>52</td>\n",
       "      <td>60</td>\n",
       "    </tr>\n",
       "    <tr>\n",
       "      <th>110096</th>\n",
       "      <td>14950</td>\n",
       "      <td>14707</td>\n",
       "      <td>Auto Loans 50% Down Payment - Self Employed</td>\n",
       "      <td>58000.0</td>\n",
       "      <td>0.0</td>\n",
       "      <td>0</td>\n",
       "      <td>M</td>\n",
       "      <td>Shop Owner</td>\n",
       "      <td>KIA</td>\n",
       "      <td>1</td>\n",
       "      <td>1</td>\n",
       "      <td>1</td>\n",
       "      <td>1</td>\n",
       "      <td>77</td>\n",
       "      <td>40</td>\n",
       "      <td>77</td>\n",
       "      <td>39</td>\n",
       "      <td>37</td>\n",
       "    </tr>\n",
       "    <tr>\n",
       "      <th>109791</th>\n",
       "      <td>8847</td>\n",
       "      <td>8728</td>\n",
       "      <td>Auto Loans 30% Down Payment - Employed</td>\n",
       "      <td>57400.0</td>\n",
       "      <td>0.0</td>\n",
       "      <td>0</td>\n",
       "      <td>M</td>\n",
       "      <td>EMPLOYEE</td>\n",
       "      <td>HYUNDAI</td>\n",
       "      <td>1</td>\n",
       "      <td>1</td>\n",
       "      <td>1</td>\n",
       "      <td>1</td>\n",
       "      <td>62</td>\n",
       "      <td>2</td>\n",
       "      <td>62</td>\n",
       "      <td>40</td>\n",
       "      <td>60</td>\n",
       "    </tr>\n",
       "    <tr>\n",
       "      <th>109788</th>\n",
       "      <td>8879</td>\n",
       "      <td>8759</td>\n",
       "      <td>Auto Loans 50% Down Payment - Self Employed</td>\n",
       "      <td>39000.0</td>\n",
       "      <td>0.0</td>\n",
       "      <td>1</td>\n",
       "      <td>M</td>\n",
       "      <td>Company Owner</td>\n",
       "      <td>NISSAN</td>\n",
       "      <td>1</td>\n",
       "      <td>1</td>\n",
       "      <td>1</td>\n",
       "      <td>1</td>\n",
       "      <td>86</td>\n",
       "      <td>26</td>\n",
       "      <td>86</td>\n",
       "      <td>38</td>\n",
       "      <td>60</td>\n",
       "    </tr>\n",
       "    <tr>\n",
       "      <th>109835</th>\n",
       "      <td>13819</td>\n",
       "      <td>13599</td>\n",
       "      <td>Auto Loans 30% Down Payment - Employed</td>\n",
       "      <td>61600.0</td>\n",
       "      <td>0.0</td>\n",
       "      <td>0</td>\n",
       "      <td>M</td>\n",
       "      <td>Accountant - Employee</td>\n",
       "      <td>HYUNDAI</td>\n",
       "      <td>1</td>\n",
       "      <td>1</td>\n",
       "      <td>1</td>\n",
       "      <td>1</td>\n",
       "      <td>50</td>\n",
       "      <td>-11</td>\n",
       "      <td>50</td>\n",
       "      <td>58</td>\n",
       "      <td>61</td>\n",
       "    </tr>\n",
       "  </tbody>\n",
       "</table>\n",
       "</div>"
      ],
      "text/plain": [
       "        account_number  customer_id  ... age  loan_expected_duration\n",
       "110070           19665        19286  ...  52                      60\n",
       "110096           14950        14707  ...  39                      37\n",
       "109791            8847         8728  ...  40                      60\n",
       "109788            8879         8759  ...  38                      60\n",
       "109835           13819        13599  ...  58                      61\n",
       "\n",
       "[5 rows x 18 columns]"
      ]
     },
     "execution_count": 35,
     "metadata": {},
     "output_type": "execute_result"
    }
   ],
   "source": [
    "df.head()"
   ]
  },
  {
   "cell_type": "code",
   "execution_count": 29,
   "metadata": {
    "colab": {
     "base_uri": "https://localhost:8080/",
     "height": 530
    },
    "id": "R92210H5xN9j",
    "outputId": "d6a8af55-6304-49fd-a0ec-917dac217024"
   },
   "outputs": [
    {
     "name": "stdout",
     "output_type": "stream",
     "text": [
      "program_name\n",
      "profession\n",
      "car_type\n"
     ]
    },
    {
     "data": {
      "text/html": [
       "<div>\n",
       "<style scoped>\n",
       "    .dataframe tbody tr th:only-of-type {\n",
       "        vertical-align: middle;\n",
       "    }\n",
       "\n",
       "    .dataframe tbody tr th {\n",
       "        vertical-align: top;\n",
       "    }\n",
       "\n",
       "    .dataframe thead th {\n",
       "        text-align: right;\n",
       "    }\n",
       "</style>\n",
       "<table border=\"1\" class=\"dataframe\">\n",
       "  <thead>\n",
       "    <tr style=\"text-align: right;\">\n",
       "      <th></th>\n",
       "      <th>account_number</th>\n",
       "      <th>customer_id</th>\n",
       "      <th>program_name</th>\n",
       "      <th>program_name_rate</th>\n",
       "      <th>original_booked_amount</th>\n",
       "      <th>outstanding</th>\n",
       "      <th>bucket</th>\n",
       "      <th>sex</th>\n",
       "      <th>profession</th>\n",
       "      <th>profession_rate</th>\n",
       "      <th>car_type</th>\n",
       "      <th>car_type_rate</th>\n",
       "      <th>sex_test</th>\n",
       "      <th>birth_date_test</th>\n",
       "      <th>profession_test</th>\n",
       "      <th>car_type_test</th>\n",
       "      <th>loan_open_duration</th>\n",
       "      <th>expected_close_duration</th>\n",
       "      <th>customer_open_duration</th>\n",
       "      <th>age</th>\n",
       "      <th>loan_expected_duration</th>\n",
       "    </tr>\n",
       "  </thead>\n",
       "  <tbody>\n",
       "    <tr>\n",
       "      <th>110070</th>\n",
       "      <td>19665</td>\n",
       "      <td>19286</td>\n",
       "      <td>Auto Loans 50% Down Payment - Employed</td>\n",
       "      <td>0.101279</td>\n",
       "      <td>35000.0</td>\n",
       "      <td>0.0</td>\n",
       "      <td>0</td>\n",
       "      <td>M</td>\n",
       "      <td>RETIRED</td>\n",
       "      <td>0.034783</td>\n",
       "      <td>RENAULT</td>\n",
       "      <td>0.137370</td>\n",
       "      <td>1</td>\n",
       "      <td>1</td>\n",
       "      <td>1</td>\n",
       "      <td>1</td>\n",
       "      <td>100</td>\n",
       "      <td>40</td>\n",
       "      <td>100</td>\n",
       "      <td>52</td>\n",
       "      <td>60</td>\n",
       "    </tr>\n",
       "    <tr>\n",
       "      <th>110096</th>\n",
       "      <td>14950</td>\n",
       "      <td>14707</td>\n",
       "      <td>Auto Loans 50% Down Payment - Self Employed</td>\n",
       "      <td>0.082265</td>\n",
       "      <td>58000.0</td>\n",
       "      <td>0.0</td>\n",
       "      <td>0</td>\n",
       "      <td>M</td>\n",
       "      <td>Shop Owner</td>\n",
       "      <td>0.117896</td>\n",
       "      <td>KIA</td>\n",
       "      <td>0.094802</td>\n",
       "      <td>1</td>\n",
       "      <td>1</td>\n",
       "      <td>1</td>\n",
       "      <td>1</td>\n",
       "      <td>77</td>\n",
       "      <td>40</td>\n",
       "      <td>77</td>\n",
       "      <td>39</td>\n",
       "      <td>37</td>\n",
       "    </tr>\n",
       "    <tr>\n",
       "      <th>109791</th>\n",
       "      <td>8847</td>\n",
       "      <td>8728</td>\n",
       "      <td>Auto Loans 30% Down Payment - Employed</td>\n",
       "      <td>0.170644</td>\n",
       "      <td>57400.0</td>\n",
       "      <td>0.0</td>\n",
       "      <td>0</td>\n",
       "      <td>M</td>\n",
       "      <td>EMPLOYEE</td>\n",
       "      <td>0.128026</td>\n",
       "      <td>HYUNDAI</td>\n",
       "      <td>0.116664</td>\n",
       "      <td>1</td>\n",
       "      <td>1</td>\n",
       "      <td>1</td>\n",
       "      <td>1</td>\n",
       "      <td>62</td>\n",
       "      <td>2</td>\n",
       "      <td>62</td>\n",
       "      <td>40</td>\n",
       "      <td>60</td>\n",
       "    </tr>\n",
       "    <tr>\n",
       "      <th>109788</th>\n",
       "      <td>8879</td>\n",
       "      <td>8759</td>\n",
       "      <td>Auto Loans 50% Down Payment - Self Employed</td>\n",
       "      <td>0.082265</td>\n",
       "      <td>39000.0</td>\n",
       "      <td>0.0</td>\n",
       "      <td>1</td>\n",
       "      <td>M</td>\n",
       "      <td>Company Owner</td>\n",
       "      <td>0.123310</td>\n",
       "      <td>NISSAN</td>\n",
       "      <td>0.118927</td>\n",
       "      <td>1</td>\n",
       "      <td>1</td>\n",
       "      <td>1</td>\n",
       "      <td>1</td>\n",
       "      <td>86</td>\n",
       "      <td>26</td>\n",
       "      <td>86</td>\n",
       "      <td>38</td>\n",
       "      <td>60</td>\n",
       "    </tr>\n",
       "    <tr>\n",
       "      <th>109835</th>\n",
       "      <td>13819</td>\n",
       "      <td>13599</td>\n",
       "      <td>Auto Loans 30% Down Payment - Employed</td>\n",
       "      <td>0.170644</td>\n",
       "      <td>61600.0</td>\n",
       "      <td>0.0</td>\n",
       "      <td>0</td>\n",
       "      <td>M</td>\n",
       "      <td>Accountant - Employee</td>\n",
       "      <td>0.136773</td>\n",
       "      <td>HYUNDAI</td>\n",
       "      <td>0.116664</td>\n",
       "      <td>1</td>\n",
       "      <td>1</td>\n",
       "      <td>1</td>\n",
       "      <td>1</td>\n",
       "      <td>50</td>\n",
       "      <td>-11</td>\n",
       "      <td>50</td>\n",
       "      <td>58</td>\n",
       "      <td>61</td>\n",
       "    </tr>\n",
       "  </tbody>\n",
       "</table>\n",
       "</div>"
      ],
      "text/plain": [
       "        account_number  customer_id  ... age  loan_expected_duration\n",
       "110070           19665        19286  ...  52                      60\n",
       "110096           14950        14707  ...  39                      37\n",
       "109791            8847         8728  ...  40                      60\n",
       "109788            8879         8759  ...  38                      60\n",
       "109835           13819        13599  ...  58                      61\n",
       "\n",
       "[5 rows x 21 columns]"
      ]
     },
     "execution_count": 29,
     "metadata": {},
     "output_type": "execute_result"
    }
   ],
   "source": [
    "for cat in categorical_variables:\n",
    "  print (cat)\n",
    "  cat_col = ''.join(cat)+'_rate'\n",
    "  location = df.columns.get_loc(cat)+1\n",
    "  df.insert(location, cat_col,True)\n",
    "  df[cat_col] = df[cat].map(observation_rate[cat]) \n",
    "\n",
    "df.head()"
   ]
  },
  {
   "cell_type": "markdown",
   "metadata": {
    "id": "OnTyzWZSDTbz"
   },
   "source": [
    "### **2.4**. Selecting non-numerics to replace NaNs with blanks"
   ]
  },
  {
   "cell_type": "code",
   "execution_count": 24,
   "metadata": {
    "id": "j2X5JVEpzxdY"
   },
   "outputs": [],
   "source": [
    "categorical_variables = ['program_name', 'profession', 'car_type']"
   ]
  },
  {
   "cell_type": "code",
   "execution_count": 25,
   "metadata": {
    "id": "IzY9ud6_rHUu"
   },
   "outputs": [],
   "source": [
    "df.dropna(subset = ['car_type', 'sex', 'profession'], inplace=True)"
   ]
  },
  {
   "cell_type": "code",
   "execution_count": null,
   "metadata": {
    "colab": {
     "base_uri": "https://localhost:8080/",
     "height": 562
    },
    "id": "jFiySAVgDTbz",
    "outputId": "c843b656-621f-4e6e-fee0-9b90261dd4a5"
   },
   "outputs": [
    {
     "ename": "KeyError",
     "evalue": "ignored",
     "output_type": "error",
     "traceback": [
      "\u001b[0;31m---------------------------------------------------------------------------\u001b[0m",
      "\u001b[0;31mKeyError\u001b[0m                                  Traceback (most recent call last)",
      "\u001b[0;32m/usr/local/lib/python3.7/dist-packages/pandas/core/indexes/base.py\u001b[0m in \u001b[0;36mget_loc\u001b[0;34m(self, key, method, tolerance)\u001b[0m\n\u001b[1;32m   2897\u001b[0m             \u001b[0;32mtry\u001b[0m\u001b[0;34m:\u001b[0m\u001b[0;34m\u001b[0m\u001b[0;34m\u001b[0m\u001b[0m\n\u001b[0;32m-> 2898\u001b[0;31m                 \u001b[0;32mreturn\u001b[0m \u001b[0mself\u001b[0m\u001b[0;34m.\u001b[0m\u001b[0m_engine\u001b[0m\u001b[0;34m.\u001b[0m\u001b[0mget_loc\u001b[0m\u001b[0;34m(\u001b[0m\u001b[0mcasted_key\u001b[0m\u001b[0;34m)\u001b[0m\u001b[0;34m\u001b[0m\u001b[0;34m\u001b[0m\u001b[0m\n\u001b[0m\u001b[1;32m   2899\u001b[0m             \u001b[0;32mexcept\u001b[0m \u001b[0mKeyError\u001b[0m \u001b[0;32mas\u001b[0m \u001b[0merr\u001b[0m\u001b[0;34m:\u001b[0m\u001b[0;34m\u001b[0m\u001b[0;34m\u001b[0m\u001b[0m\n",
      "\u001b[0;32mpandas/_libs/index.pyx\u001b[0m in \u001b[0;36mpandas._libs.index.IndexEngine.get_loc\u001b[0;34m()\u001b[0m\n",
      "\u001b[0;32mpandas/_libs/index.pyx\u001b[0m in \u001b[0;36mpandas._libs.index.IndexEngine.get_loc\u001b[0;34m()\u001b[0m\n",
      "\u001b[0;32mpandas/_libs/hashtable_class_helper.pxi\u001b[0m in \u001b[0;36mpandas._libs.hashtable.PyObjectHashTable.get_item\u001b[0;34m()\u001b[0m\n",
      "\u001b[0;32mpandas/_libs/hashtable_class_helper.pxi\u001b[0m in \u001b[0;36mpandas._libs.hashtable.PyObjectHashTable.get_item\u001b[0;34m()\u001b[0m\n",
      "\u001b[0;31mKeyError\u001b[0m: 'profession_class'",
      "\nThe above exception was the direct cause of the following exception:\n",
      "\u001b[0;31mKeyError\u001b[0m                                  Traceback (most recent call last)",
      "\u001b[0;32m<ipython-input-37-14bb14ca4610>\u001b[0m in \u001b[0;36m<module>\u001b[0;34m()\u001b[0m\n\u001b[1;32m     11\u001b[0m \u001b[0mlist_non_numeric_columns\u001b[0m \u001b[0;34m=\u001b[0m \u001b[0;34m[\u001b[0m\u001b[0;34m'profession_class'\u001b[0m\u001b[0;34m,\u001b[0m \u001b[0;34m'sex'\u001b[0m\u001b[0;34m]\u001b[0m\u001b[0;34m\u001b[0m\u001b[0;34m\u001b[0m\u001b[0m\n\u001b[1;32m     12\u001b[0m \u001b[0;32mfor\u001b[0m \u001b[0mitem\u001b[0m \u001b[0;32min\u001b[0m \u001b[0mlist_non_numeric_columns\u001b[0m\u001b[0;34m:\u001b[0m\u001b[0;34m\u001b[0m\u001b[0;34m\u001b[0m\u001b[0m\n\u001b[0;32m---> 13\u001b[0;31m     \u001b[0mdf\u001b[0m\u001b[0;34m[\u001b[0m\u001b[0mitem\u001b[0m\u001b[0;34m]\u001b[0m \u001b[0;34m=\u001b[0m \u001b[0mdf\u001b[0m\u001b[0;34m[\u001b[0m\u001b[0mitem\u001b[0m\u001b[0;34m]\u001b[0m\u001b[0;34m.\u001b[0m\u001b[0mfillna\u001b[0m\u001b[0;34m(\u001b[0m\u001b[0;34m''\u001b[0m\u001b[0;34m)\u001b[0m\u001b[0;34m.\u001b[0m\u001b[0mreplace\u001b[0m\u001b[0;34m(\u001b[0m\u001b[0;34m'NaN'\u001b[0m\u001b[0;34m,\u001b[0m\u001b[0;34m''\u001b[0m\u001b[0;34m)\u001b[0m\u001b[0;34m;\u001b[0m\u001b[0;34m\u001b[0m\u001b[0;34m\u001b[0m\u001b[0m\n\u001b[0m\u001b[1;32m     14\u001b[0m \u001b[0;34m\u001b[0m\u001b[0m\n\u001b[1;32m     15\u001b[0m \u001b[0;31m#2 - MAR for CAR_TYPE:\u001b[0m\u001b[0;34m\u001b[0m\u001b[0;34m\u001b[0m\u001b[0;34m\u001b[0m\u001b[0m\n",
      "\u001b[0;32m/usr/local/lib/python3.7/dist-packages/pandas/core/frame.py\u001b[0m in \u001b[0;36m__getitem__\u001b[0;34m(self, key)\u001b[0m\n\u001b[1;32m   2904\u001b[0m             \u001b[0;32mif\u001b[0m \u001b[0mself\u001b[0m\u001b[0;34m.\u001b[0m\u001b[0mcolumns\u001b[0m\u001b[0;34m.\u001b[0m\u001b[0mnlevels\u001b[0m \u001b[0;34m>\u001b[0m \u001b[0;36m1\u001b[0m\u001b[0;34m:\u001b[0m\u001b[0;34m\u001b[0m\u001b[0;34m\u001b[0m\u001b[0m\n\u001b[1;32m   2905\u001b[0m                 \u001b[0;32mreturn\u001b[0m \u001b[0mself\u001b[0m\u001b[0;34m.\u001b[0m\u001b[0m_getitem_multilevel\u001b[0m\u001b[0;34m(\u001b[0m\u001b[0mkey\u001b[0m\u001b[0;34m)\u001b[0m\u001b[0;34m\u001b[0m\u001b[0;34m\u001b[0m\u001b[0m\n\u001b[0;32m-> 2906\u001b[0;31m             \u001b[0mindexer\u001b[0m \u001b[0;34m=\u001b[0m \u001b[0mself\u001b[0m\u001b[0;34m.\u001b[0m\u001b[0mcolumns\u001b[0m\u001b[0;34m.\u001b[0m\u001b[0mget_loc\u001b[0m\u001b[0;34m(\u001b[0m\u001b[0mkey\u001b[0m\u001b[0;34m)\u001b[0m\u001b[0;34m\u001b[0m\u001b[0;34m\u001b[0m\u001b[0m\n\u001b[0m\u001b[1;32m   2907\u001b[0m             \u001b[0;32mif\u001b[0m \u001b[0mis_integer\u001b[0m\u001b[0;34m(\u001b[0m\u001b[0mindexer\u001b[0m\u001b[0;34m)\u001b[0m\u001b[0;34m:\u001b[0m\u001b[0;34m\u001b[0m\u001b[0;34m\u001b[0m\u001b[0m\n\u001b[1;32m   2908\u001b[0m                 \u001b[0mindexer\u001b[0m \u001b[0;34m=\u001b[0m \u001b[0;34m[\u001b[0m\u001b[0mindexer\u001b[0m\u001b[0;34m]\u001b[0m\u001b[0;34m\u001b[0m\u001b[0;34m\u001b[0m\u001b[0m\n",
      "\u001b[0;32m/usr/local/lib/python3.7/dist-packages/pandas/core/indexes/base.py\u001b[0m in \u001b[0;36mget_loc\u001b[0;34m(self, key, method, tolerance)\u001b[0m\n\u001b[1;32m   2898\u001b[0m                 \u001b[0;32mreturn\u001b[0m \u001b[0mself\u001b[0m\u001b[0;34m.\u001b[0m\u001b[0m_engine\u001b[0m\u001b[0;34m.\u001b[0m\u001b[0mget_loc\u001b[0m\u001b[0;34m(\u001b[0m\u001b[0mcasted_key\u001b[0m\u001b[0;34m)\u001b[0m\u001b[0;34m\u001b[0m\u001b[0;34m\u001b[0m\u001b[0m\n\u001b[1;32m   2899\u001b[0m             \u001b[0;32mexcept\u001b[0m \u001b[0mKeyError\u001b[0m \u001b[0;32mas\u001b[0m \u001b[0merr\u001b[0m\u001b[0;34m:\u001b[0m\u001b[0;34m\u001b[0m\u001b[0;34m\u001b[0m\u001b[0m\n\u001b[0;32m-> 2900\u001b[0;31m                 \u001b[0;32mraise\u001b[0m \u001b[0mKeyError\u001b[0m\u001b[0;34m(\u001b[0m\u001b[0mkey\u001b[0m\u001b[0;34m)\u001b[0m \u001b[0;32mfrom\u001b[0m \u001b[0merr\u001b[0m\u001b[0;34m\u001b[0m\u001b[0;34m\u001b[0m\u001b[0m\n\u001b[0m\u001b[1;32m   2901\u001b[0m \u001b[0;34m\u001b[0m\u001b[0m\n\u001b[1;32m   2902\u001b[0m         \u001b[0;32mif\u001b[0m \u001b[0mtolerance\u001b[0m \u001b[0;32mis\u001b[0m \u001b[0;32mnot\u001b[0m \u001b[0;32mNone\u001b[0m\u001b[0;34m:\u001b[0m\u001b[0;34m\u001b[0m\u001b[0;34m\u001b[0m\u001b[0m\n",
      "\u001b[0;31mKeyError\u001b[0m: 'profession_class'"
     ]
    }
   ],
   "source": [
    "# Within the non-numeric variables with missing values, we can distinguish two groups: \n",
    "    #1 - Non-numerics which have missing values related to the type of user (MNAR): Corporate users do not contain information\n",
    "    #regarding the sex or profession.\n",
    "    \n",
    "    #2 - Non-numerics with missing at random data (MAR)- concretelly, the variable CAR_TYPE.\n",
    "    \n",
    "#We will deal with these situations differently: \n",
    "\n",
    "#1 - MNAR for Corporate users: \n",
    "       \n",
    "list_non_numeric_columns = ['profession_class', 'sex']\n",
    "for item in list_non_numeric_columns:\n",
    "    df[item] = df[item].fillna('').replace('NaN','');\n",
    "    \n",
    "#2 - MAR for CAR_TYPE:\n",
    "    #Once the variable CAR_TYPE is converted to a categorical variable, we will replace the missing values with \n",
    "    #the most common value of the variable (the mode). Refer to point \"12 - Transforming the variable \"car_type\" \n",
    "    #to categorical\" to see this point.\n",
    "    "
   ]
  },
  {
   "cell_type": "markdown",
   "metadata": {
    "id": "PI3-JMTgrvnO"
   },
   "source": [
    "### **2.5** Dealing with categorical variables"
   ]
  },
  {
   "cell_type": "markdown",
   "metadata": {
    "id": "aXYnJvArsLoM"
   },
   "source": [
    "#### **2.5.1.** Transforming the variable \"program_name\" into a categorical variable\n",
    "For the PROGRAM_NAME categorical variable, we decided to bin it into 4 categories:\n",
    "1. The \"Employed\" Category: Contains all program types targeted to employed people\n",
    "2. The \"Self Employed\" Category: Contains all program types targeted to Self Employed people\n",
    "3. The \"Corporates\" Category: Contains all program types targeted to companies\n",
    "4. The \"Others\" Category: contains all other categories"
   ]
  },
  {
   "cell_type": "code",
   "execution_count": null,
   "metadata": {
    "colab": {
     "base_uri": "https://localhost:8080/"
    },
    "id": "JOTrVWr4sU7G",
    "outputId": "298c6af7-7cc4-452d-b834-81ecdf9bf9a2"
   },
   "outputs": [
    {
     "data": {
      "text/plain": [
       "110070         Auto Loans 50% Down Payment - Employed\n",
       "110096    Auto Loans 50% Down Payment - Self Employed\n",
       "109791         Auto Loans 30% Down Payment - Employed\n",
       "109788    Auto Loans 50% Down Payment - Self Employed\n",
       "109835         Auto Loans 30% Down Payment - Employed\n",
       "                             ...                     \n",
       "890128         Auto Loans 50% Down Payment - Employed\n",
       "890129         Auto Loans 30% Down Payment - Employed\n",
       "890130    Auto Loans 30% Down Payment - Self Employed\n",
       "890117         Auto Loans 50% Down Payment - Employed\n",
       "900859         Auto Loans 40% Down Payment - Employed\n",
       "Name: program_name, Length: 37023, dtype: object"
      ]
     },
     "execution_count": 38,
     "metadata": {},
     "output_type": "execute_result"
    }
   ],
   "source": [
    "df['program_name']"
   ]
  },
  {
   "cell_type": "code",
   "execution_count": null,
   "metadata": {
    "id": "3mOk5q-WscOi"
   },
   "outputs": [],
   "source": [
    "program_employed_map = ['Auto Loans 50% Down Payment - Employed', 'Auto Loans 30% Down Payment - Employed',\n",
    "              'Auto Loans 40% Down Payment - Employed', 'Auto Loans Payroll Clients', \n",
    "               'Auto Loans 20% Down Payment - Employed', 'Auto Loans Doctors - Employed',\n",
    "               'Auto Loans 50% Down Payment No Car Prohibition - Employed', \n",
    "               'Auto Loans 50% Down Payment Used Cars - Employed', 'Auto Loans Run Off - Employed',\n",
    "               'Auto Loans 30% Down Payment Used Cars - Employed']\n",
    "df['program_class'] = np.where(df['program_name'].isin(program_employed_map), 'Employed', df['program_name'])"
   ]
  },
  {
   "cell_type": "code",
   "execution_count": null,
   "metadata": {
    "id": "AhTgsylcsfGq"
   },
   "outputs": [],
   "source": [
    "program_self_map = ['Auto Loans 50% Down Payment - Self Employed', 'Auto Loans 50% Down Payment - Self Employed', 'Auto Loans 40% Down Payment - Self Employed',\n",
    "                   'Auto Loans 30% Down Payment - Self Employed', 'Auto Loans 20% Down Payment - Self Employed',\n",
    "                   'Auto Loans 50% Down Payment No Car Prohibition - Self Employed',\n",
    "                   'Auto Loans Doctors - Self Employed', 'Auto Loans Run Off - Self Employed', \n",
    "                   'Auto Loans 50% Down Payment Used Cars - Self Employed',\n",
    "                   'Auto Loans 30% Down Payment Used Cars - Self Employed']\n",
    "df['program_class'] = np.where(df['program_class'].isin(program_self_map), 'Self Employed', df['program_class'])"
   ]
  },
  {
   "cell_type": "code",
   "execution_count": null,
   "metadata": {
    "id": "ChC-MWOCshR3"
   },
   "outputs": [],
   "source": [
    "program_others_map = ['Pick Up and Small Trucks', 'Auto Loans Special Deals', 'Auto Loans Secured against CD',\n",
    "                     'Auto Loans Fully Secured']\n",
    "df['program_class'] = np.where(df['program_class'].isin(program_others_map), 'Others', df['program_class'])"
   ]
  },
  {
   "cell_type": "code",
   "execution_count": null,
   "metadata": {
    "id": "HUCa98q0sjHP"
   },
   "outputs": [],
   "source": [
    "program_corporates_map = ['Auto Loans Corporate Guarantee']\n",
    "df['program_class'] = np.where(df['program_class'].isin(program_corporates_map), 'Corporates', df['program_class'])"
   ]
  },
  {
   "cell_type": "code",
   "execution_count": null,
   "metadata": {
    "id": "Bz9hnPWZslST"
   },
   "outputs": [],
   "source": [
    "df['program_class'].value_counts()"
   ]
  },
  {
   "cell_type": "code",
   "execution_count": null,
   "metadata": {
    "id": "tl-3M0PLsn-8"
   },
   "outputs": [],
   "source": [
    "#The function below transforms the variable \"program_class\" into a categorical variable.\n",
    "\n",
    "df['program_class'] = df.program_class.astype(\"category\").cat.codes\n",
    "df.program_class, df.dtypes"
   ]
  },
  {
   "cell_type": "code",
   "execution_count": null,
   "metadata": {
    "id": "ku_OGLcOsp-Z"
   },
   "outputs": [],
   "source": [
    "df[\"program_class\"] = df[\"program_class\"].astype(\"category\")\n",
    "df.program_class, df.dtypes"
   ]
  },
  {
   "cell_type": "code",
   "execution_count": null,
   "metadata": {
    "id": "VbJ1sPL2sr26"
   },
   "outputs": [],
   "source": [
    "feat_type = ['Categorical' if x.name == 'category' else 'Numerical' for x in df.dtypes]\n",
    "feat_type\n",
    "del df['program_name']\n",
    "df"
   ]
  },
  {
   "cell_type": "code",
   "execution_count": null,
   "metadata": {
    "id": "IkiYgm37sv2b"
   },
   "outputs": [],
   "source": [
    "df['program_class'].value_counts()"
   ]
  },
  {
   "cell_type": "markdown",
   "metadata": {
    "id": "VygvzB_mszfj"
   },
   "source": [
    "#### **2.5.2.** Merging the variable \"profession\" and tranforming it into a categorical variable \n",
    "For the PROFESSION categorical variable, we decided to bin it into 4 categories:\n",
    "1. Employee\n",
    "2. Biz_owner \n",
    "3. Manager\n",
    "4. Other"
   ]
  },
  {
   "cell_type": "code",
   "execution_count": null,
   "metadata": {
    "id": "M-dG2NB7tSg-"
   },
   "outputs": [],
   "source": [
    "#Let’s explore in how many different professions we have in the dataset:\n",
    "\n",
    "df['profession'].value_counts()"
   ]
  },
  {
   "cell_type": "code",
   "execution_count": null,
   "metadata": {
    "id": "xMSFEU4Itf4H"
   },
   "outputs": [],
   "source": [
    "#First, lets transform all the scales of the \"profession\" variable to lower case\n",
    "df[\"profession\"] = df[\"profession\"].str.lower()"
   ]
  },
  {
   "cell_type": "code",
   "execution_count": null,
   "metadata": {
    "id": "niJuleQJtiCz"
   },
   "outputs": [],
   "source": [
    "employee_map = ['instructor / teacher', 'accountant - employee', 'employee',\n",
    "     'engineer','doctor', 'pharmacist', 'nurse', \n",
    "     'technician', 'secretary', 'professors', 'banker',\n",
    "     'journalist', 'lawyer ? employee', 'hostess', 'pilot',\n",
    "     'police officer', 'cae - current staff', 'military officer', \n",
    "     'cae ibs staff', 'hotel manager']\n",
    "df['profession_class'] = np.where(df['profession'].isin(employee_map), 'Employee', df['profession'])"
   ]
  },
  {
   "cell_type": "code",
   "execution_count": null,
   "metadata": {
    "id": "q_yLZEpotj0z"
   },
   "outputs": [],
   "source": [
    "business_owner_map = ['company owner','shop owner', 'contractor','business man / trader','landlord', 'jeweller', \n",
    "                     'tour leader', 'car / boat agency / deale', 'broadcast / media', 'craftsman', \n",
    "                      'lawyer ? self employer', 'consultant', 'bazaar shop owner', 'real estate broker / agen', \n",
    "                     'agrarian', 'press', 'publisher']\n",
    "df['profession_class'] = np.where(df['profession_class'].isin(business_owner_map), 'Biz_owner', df['profession_class'])"
   ]
  },
  {
   "cell_type": "code",
   "execution_count": null,
   "metadata": {
    "id": "yVHKC8obtmG4"
   },
   "outputs": [],
   "source": [
    "others_map = ['housewife', 'retired', 'unemployed', 'religion person', 'driver', 'chemist', 'artist', 'athletes',\n",
    "             'student', 'diver', 'cae ex-staff less than 10', 'politician', 'economist']\n",
    "df['profession_class'] = np.where(df['profession_class'].isin(others_map), 'Others', df['profession_class'])"
   ]
  },
  {
   "cell_type": "code",
   "execution_count": null,
   "metadata": {
    "id": "hLQiJX1Ftnuk"
   },
   "outputs": [],
   "source": [
    "df['profession_class'].value_counts()"
   ]
  },
  {
   "cell_type": "code",
   "execution_count": null,
   "metadata": {
    "id": "A43DeyautpRh"
   },
   "outputs": [],
   "source": [
    "df['profession_class'] = df.profession_class.astype(\"category\").cat.codes"
   ]
  },
  {
   "cell_type": "code",
   "execution_count": null,
   "metadata": {
    "id": "SoaWjrpOtq4I"
   },
   "outputs": [],
   "source": [
    "df[\"profession_class\"] = df[\"profession_class\"].astype(\"category\")\n",
    "df.profession_class"
   ]
  },
  {
   "cell_type": "code",
   "execution_count": null,
   "metadata": {
    "id": "CgBj_bEQtv0n"
   },
   "outputs": [],
   "source": [
    "feat_type = ['Categorical' if x.name == 'category' else 'Numerical' for x in df.dtypes]\n",
    "feat_type\n",
    "del df['profession']\n",
    "df"
   ]
  },
  {
   "cell_type": "code",
   "execution_count": null,
   "metadata": {
    "id": "oCTtNdpvtwbJ"
   },
   "outputs": [],
   "source": [
    "df['profession_class'].value_counts()"
   ]
  },
  {
   "cell_type": "markdown",
   "metadata": {
    "id": "ML6PPxentyQn"
   },
   "source": [
    "#### **2.5.3**. Merging the variable \"car_type\" and transforming it into a categorical variable\n",
    "For the CAR_TYPE categorical variable, we decided to bin it into 4 categories:\n",
    "1. Asian cars\n",
    "2. American cars \n",
    "3. European cars\n",
    "4. Other"
   ]
  },
  {
   "cell_type": "code",
   "execution_count": null,
   "metadata": {
    "colab": {
     "base_uri": "https://localhost:8080/"
    },
    "id": "_7dxbIvCzm6I",
    "outputId": "1dedd693-36ef-4d51-94fb-8858f946d5cf"
   },
   "outputs": [
    {
     "name": "stdout",
     "output_type": "stream",
     "text": [
      "<class 'pandas.core.frame.DataFrame'>\n",
      "Int64Index: 39597 entries, 15639 to 900859\n",
      "Data columns (total 14 columns):\n",
      " #   Column                   Non-Null Count  Dtype  \n",
      "---  ------                   --------------  -----  \n",
      " 0   account_number           39597 non-null  int64  \n",
      " 1   customer_id              39597 non-null  int64  \n",
      " 2   program_name             39597 non-null  object \n",
      " 3   original_booked_amount   39597 non-null  float64\n",
      " 4   outstanding              39597 non-null  float64\n",
      " 5   bucket                   39597 non-null  int64  \n",
      " 6   sex                      39320 non-null  object \n",
      " 7   profession               39281 non-null  object \n",
      " 8   car_type                 37295 non-null  object \n",
      " 9   loan_open_duration       39597 non-null  int64  \n",
      " 10  expected_close_duration  39597 non-null  int64  \n",
      " 11  customer_open_duration   39597 non-null  int64  \n",
      " 12  age                      39597 non-null  int64  \n",
      " 13  loan_expected_duration   39597 non-null  int64  \n",
      "dtypes: float64(2), int64(8), object(4)\n",
      "memory usage: 4.5+ MB\n"
     ]
    }
   ],
   "source": [
    "df.info()"
   ]
  },
  {
   "cell_type": "code",
   "execution_count": null,
   "metadata": {
    "colab": {
     "base_uri": "https://localhost:8080/"
    },
    "id": "wQpyHst-T95h",
    "outputId": "1ec31d75-bf98-4958-980c-aee25f67c182"
   },
   "outputs": [
    {
     "name": "stdout",
     "output_type": "stream",
     "text": [
      "{'Auto Loans 50% Down Payment - Employed': 0.10122602955045583, 'Auto Loans 50% Down Payment - Self Employed': 0.08213173376398662, 'Auto Loans 30% Down Payment - Employed': 0.1704974271012007, 'Auto Loans 40% Down Payment - Self Employed': 0.13838600797790734, 'Auto Loans Payroll Clients': 0.07142857142857142, 'Auto Loans 40% Down Payment - Employed': 0.12595258255715494, 'Auto Loans Special Deals': 0.027164685908319185, 'Pick Up and Small Trucks': 0.09558823529411764, 'Auto Loans 30% Down Payment - Self Employed': 0.1845861084681256, 'Auto Loans Corporate Guarantee': 0.01694915254237288, 'Auto Loans 20% Down Payment - Employed': 0.17086834733893558, 'Auto Loans 20% Down Payment - Self Employed': 0.0945273631840796, 'Auto Loans Secured against CD': 0.038461538461538464, 'Auto Loans Doctors - Self Employed': 0, 'Auto Loans Fully Secured': 0.07142857142857142, 'Auto Loans 50% Down Payment No Car Prohibition - Self Employed': 0.1728395061728395, 'Auto Loans Doctors - Employed': 0, 'Auto Loans Run Off - Employed': 0, 'Auto Loans Run Off - Self Employed': 0.07142857142857142, 'Auto Loans 50% Down Payment No Car Prohibition - Employed': 0.25, 'Auto Loans 50% Down Payment Used Cars - Self Employed': 0, 'Auto Loans 50% Down Payment Used Cars - Employed': 0.09090909090909091, 'Auto Loans 30% Down Payment Used Cars - Employed': 0.5, 'Auto Loans 30% Down Payment Used Cars - Self Employed': 0}\n",
      "{'RETIRED': 0.034782608695652174, 'Shop Owner': 0.11789614441720526, 'EMPLOYEE': 0.12802597913796496, 'Company Owner': 0.12331030339441273, 'Accountant - Employee': 0.13677313677313677, 'Manager': 0.15028901734104047, 'HOUSEWIFE': 0.07551707551707551, 'JEWELLER': 0.05555555555555555, 'Contractor': 0.1362530413625304, 'Craftsman': 0.09523809523809523, 'TECHNICIAN': 0.12546125461254612, 'ENGINEER': 0.0735930735930736, 'Instructor / Teacher': 0.0994305738063951, nan: 0, 'PROFESSORS': 0.04597701149425287, 'Unemployed': 0.11815561959654179, 'DOCTOR': 0.050872093023255814, 'Business Man / Trader': 0.08602150537634409, 'Lawyer ? Employee': 0.25, 'Landlord': 0.08888888888888889, 'AGRARIAN': 0, 'SECRETARY': 0.14814814814814814, 'PHARMACIST': 0.053824362606232294, 'RELIGION PERSON': 0.04081632653061224, 'PRESS': 0, 'Car / Boat Agency / Deale': 0.07142857142857142, 'BANKER': 0.034482758620689655, 'Journalist': 0.12727272727272726, 'NURSE': 0.12758620689655173, 'CAE - Current Staff': 0, 'DRIVER': 0.0625, 'TOUR LEADER': 0, 'Broadcast / Media': 0.14285714285714285, 'CHEMIST': 0.06521739130434782, 'Athletes': 0.1, 'ARTIST': 0.08571428571428572, 'DIVER': 0.25, 'Real Estate Broker / Agen': 0.3333333333333333, 'Lawyer ? Self Employer': 0.2, 'Hotel Manager': 0, 'Pilot': 0, 'STUDENT': 0.05263157894736842, 'Bazaar Shop Owner': 0, 'Military Officer': 0, 'Politician': 0, 'Consultant': 0.1, 'Hostess': 0.25, 'CAE Ex-Staff Less Than 10': 0, 'Police Officer': 0, 'CAE IBS Staff': 0, 'ECONOMIST': 0, 'PUBLISHER': 0}\n",
      "{'RENAULT': 0.13611915597848573, 'KIA': 0.09457654288004275, 'HYUNDAI': 0.11592323651452283, 'NISSAN': 0.11798561151079137, 'Brilliance': 0.09885931558935361, 'CHEVROLET': 0.11271732760304747, 'SUZUKI': 0.07701863354037267, 'Speranza': 0.057494866529774126, 'GELY': 0.1363973313565604, 'SKODA': 0.07905138339920949, 'MITSUBISHI': 0.09911504424778761, 'Changan': 0.13636363636363635, 'Livan': 0.125, 'JEEP': 0.15841584158415842, 'TOYOTA': 0.05698005698005698, 'Peugeot': 0.0851063829787234, 'MERCEDES': 0.07142857142857142, 'CARRY': 0.3333333333333333, 'Great Wall': 0.07692307692307693, 'LADA': 0.1649214659685864, 'VOLKSWAGEN': 0.13580246913580246, 'FIAT': 0.09693877551020408, 'OPEL': 0.10601719197707736, 'BYD': 0.18187964841108858, 'Chana': 0.0975609756097561, 'Citroen': 0.07368421052631578, 'SEAT': 0.1, 'DAIHATSU': 0.056338028169014086, 'Saipa': 0.09316770186335403, 'PROTON': 0.0948905109489051, 'VOLVO': 0.1111111111111111, 'MAZDA': 0.11320754716981132, 'BMW': 0.08904109589041095, 'SUBARU': 0.12280701754385964, 'Jack': 0.15053763440860216, 'FORD': 0.09333333333333334, 'CHERY': 0.20076238881829733, 'Gelory': 0.11946902654867257, 'Isuzu': 0.08333333333333333, 'MABLE': 0.3333333333333333, 'HONDA': 0, 'Mahindra': 0, 'MG': 0.07407407407407407, 'BAIC': 0.2217573221757322, 'Ssang Yong': 0.12244897959183673, 'ZEMEX': 0.3333333333333333, 'Kenbo': 0.2028985507246377, 'MINI': 0, 'HAIMA': 0.30952380952380953, 'SAWEAST': 0.6666666666666666, 'CHANGY': 0.06976744186046512, 'AUDI': 0.1, 'Dodge': 0, 'Faw': 0.18181818181818182, 'FLORIDA': 0, 'DFSK': 0.0684931506849315, 'Zoty': 0.2, 'HAWTAI': 0, 'JAGUAR': 0, 'VICTORY': 0}\n"
     ]
    }
   ],
   "source": [
    "for i in categorical_variables:\n",
    "  print (observation_rate[i])"
   ]
  },
  {
   "cell_type": "code",
   "execution_count": null,
   "metadata": {
    "id": "zIyjqORwuLC1"
   },
   "outputs": [],
   "source": [
    "#We shall also transform all the scales to lower case\n",
    "df[\"car_type\"] = df[\"car_type\"].str.lower()"
   ]
  },
  {
   "cell_type": "code",
   "execution_count": null,
   "metadata": {
    "id": "D50xfd2euMoM"
   },
   "outputs": [],
   "source": [
    "df['car_type'].value_counts()"
   ]
  },
  {
   "cell_type": "code",
   "execution_count": null,
   "metadata": {
    "id": "gXFroL90uOHz"
   },
   "outputs": [],
   "source": [
    "car_type_replace = {'kia': \"asian cars\",\n",
    "                    'carry': \"others\",\n",
    "                    'chevrolet': \"american cars\",\n",
    "                    'mitsubishi': \"asian cars\",\n",
    "                    'seat': \"european cars\",\n",
    "                    'skoda': \"european cars\",\n",
    "                    'renault': \"european cars\",\n",
    "                    'mercedes': \"european cars\",\n",
    "                    'jack': \"asian cars\",\n",
    "                    'byd': \"asian cars\",\n",
    "                    'gely': \"asian cars\",\n",
    "                    'hyundai': \"asian cars\",\n",
    "                    'nissan': \"asian cars\",\n",
    "                    'changan': \"asian cars\",\n",
    "                    'gelory': \"asian cars\",\n",
    "                    'suzuki': \"asian cars\",\n",
    "                    'bmw': \"european cars\",\n",
    "                    'daihatsu': \"asian cars\",\n",
    "                    'ssang yong': \"asian cars\",\n",
    "                    'baic': \"asian cars\",\n",
    "                    'toyota': \"asian cars\",\n",
    "                    'lada': \"others\",\n",
    "                    'mazda': \"asian cars\",\n",
    "                    'brilliance': \"asian cars\",\n",
    "                    'kenbo': \"asian cars\",\n",
    "                    'speranza': \"others\",\n",
    "                    'saipa': \"others\",\n",
    "                    'opel': \"european cars\",\n",
    "                    'peugeot': \"european cars\",\n",
    "                    'chana': \"asian cars\",\n",
    "                    'citroen': \"european cars\",\n",
    "                    'isuzu': \"asian cars\",\n",
    "                    'proton': \"asian cars\",\n",
    "                    'honda': \"asian cars\",\n",
    "                    'volkswagen': \"european cars\",\n",
    "                    'chery': \"others\",\n",
    "                    'fiat': \"european cars\",\n",
    "                    'subaru': \"asian cars\",\n",
    "                    'jeep': \"american cars\",\n",
    "                    'volvo': \"european cars\",\n",
    "                    'mini': \"european cars\",\n",
    "                    'ford': \"american cars\",\n",
    "                    'great wall': \"asian cars\",\n",
    "                    'mg': \"european cars\",\n",
    "                    'mable': \"asian cars\",\n",
    "                    'haima': \"asian cars\",\n",
    "                    'changy': \"asian cars\",\n",
    "                    'audi': \"european cars\",\n",
    "                    'mahindra': \"others\",\n",
    "                    'livan': \"asian cars\",\n",
    "                    'florida': \"others\",\n",
    "                    'dodge': \"american cars\",\n",
    "                    'zemex': \"asian cars\",\n",
    "                    'dfsk': \"asian cars\",\n",
    "                    'saweast': \"asian cars\",\n",
    "                    'zoty': \"asian cars\",\n",
    "                    'faw': \"asian cars\",\n",
    "                    'hawtai': \"asian cars\",\n",
    "                    'jaguar': \"european cars\",\n",
    "                    'victory': \"american cars\"}\n",
    "\n",
    "df = df.replace({'car_type': car_type_replace})\n",
    "\n",
    "df['car_type'].value_counts()  "
   ]
  },
  {
   "cell_type": "code",
   "execution_count": null,
   "metadata": {
    "id": "pEnzMMuGuRVp"
   },
   "outputs": [],
   "source": [
    "df['car_type'] = df.car_type.astype(\"category\").cat.codes"
   ]
  },
  {
   "cell_type": "code",
   "execution_count": null,
   "metadata": {
    "id": "DQSNfToXnuaE"
   },
   "outputs": [],
   "source": [
    "df[\"car_type\"] = df[\"car_type\"].astype(\"category\")\n",
    "df.car_type, df.dtypes"
   ]
  },
  {
   "cell_type": "code",
   "execution_count": null,
   "metadata": {
    "id": "Iy_o-jmjnvBN"
   },
   "outputs": [],
   "source": [
    "df[\"car_type\"] = df[\"car_type\"].astype(\"category\")\n",
    "df.car_type, df.dtypes"
   ]
  },
  {
   "cell_type": "code",
   "execution_count": null,
   "metadata": {
    "id": "mtwl7FJun2pD"
   },
   "outputs": [],
   "source": [
    "feat_type = ['Categorical' if x.name == 'category' else 'Numerical' for x in df.dtypes]\n",
    "feat_type\n",
    "# Then use feat_type in your class: cls.fit(X_train, y_train, X_test, y_test, feat_type=feat_type)\n",
    "\n",
    "df"
   ]
  },
  {
   "cell_type": "markdown",
   "metadata": {
    "id": "x6QPKEXqDTbz"
   },
   "source": [
    "### **2.6.** Transforming the variable \"sex\" into dummy variables"
   ]
  },
  {
   "cell_type": "code",
   "execution_count": 30,
   "metadata": {
    "colab": {
     "base_uri": "https://localhost:8080/",
     "height": 949
    },
    "id": "NS1tfrI4DTb0",
    "outputId": "30a2ef65-afe1-4a25-c6fb-2a80cd6af2c1"
   },
   "outputs": [
    {
     "data": {
      "text/html": [
       "<div>\n",
       "<style scoped>\n",
       "    .dataframe tbody tr th:only-of-type {\n",
       "        vertical-align: middle;\n",
       "    }\n",
       "\n",
       "    .dataframe tbody tr th {\n",
       "        vertical-align: top;\n",
       "    }\n",
       "\n",
       "    .dataframe thead th {\n",
       "        text-align: right;\n",
       "    }\n",
       "</style>\n",
       "<table border=\"1\" class=\"dataframe\">\n",
       "  <thead>\n",
       "    <tr style=\"text-align: right;\">\n",
       "      <th></th>\n",
       "      <th>account_number</th>\n",
       "      <th>customer_id</th>\n",
       "      <th>program_name</th>\n",
       "      <th>program_name_rate</th>\n",
       "      <th>original_booked_amount</th>\n",
       "      <th>outstanding</th>\n",
       "      <th>bucket</th>\n",
       "      <th>profession</th>\n",
       "      <th>profession_rate</th>\n",
       "      <th>car_type</th>\n",
       "      <th>car_type_rate</th>\n",
       "      <th>sex_test</th>\n",
       "      <th>birth_date_test</th>\n",
       "      <th>profession_test</th>\n",
       "      <th>car_type_test</th>\n",
       "      <th>loan_open_duration</th>\n",
       "      <th>expected_close_duration</th>\n",
       "      <th>customer_open_duration</th>\n",
       "      <th>age</th>\n",
       "      <th>loan_expected_duration</th>\n",
       "      <th>F</th>\n",
       "      <th>M</th>\n",
       "    </tr>\n",
       "  </thead>\n",
       "  <tbody>\n",
       "    <tr>\n",
       "      <th>110070</th>\n",
       "      <td>19665</td>\n",
       "      <td>19286</td>\n",
       "      <td>Auto Loans 50% Down Payment - Employed</td>\n",
       "      <td>0.101279</td>\n",
       "      <td>35000.0</td>\n",
       "      <td>0.00</td>\n",
       "      <td>0</td>\n",
       "      <td>RETIRED</td>\n",
       "      <td>0.034783</td>\n",
       "      <td>RENAULT</td>\n",
       "      <td>0.137370</td>\n",
       "      <td>1</td>\n",
       "      <td>1</td>\n",
       "      <td>1</td>\n",
       "      <td>1</td>\n",
       "      <td>100</td>\n",
       "      <td>40</td>\n",
       "      <td>100</td>\n",
       "      <td>52</td>\n",
       "      <td>60</td>\n",
       "      <td>0</td>\n",
       "      <td>1</td>\n",
       "    </tr>\n",
       "    <tr>\n",
       "      <th>110096</th>\n",
       "      <td>14950</td>\n",
       "      <td>14707</td>\n",
       "      <td>Auto Loans 50% Down Payment - Self Employed</td>\n",
       "      <td>0.082265</td>\n",
       "      <td>58000.0</td>\n",
       "      <td>0.00</td>\n",
       "      <td>0</td>\n",
       "      <td>Shop Owner</td>\n",
       "      <td>0.117896</td>\n",
       "      <td>KIA</td>\n",
       "      <td>0.094802</td>\n",
       "      <td>1</td>\n",
       "      <td>1</td>\n",
       "      <td>1</td>\n",
       "      <td>1</td>\n",
       "      <td>77</td>\n",
       "      <td>40</td>\n",
       "      <td>77</td>\n",
       "      <td>39</td>\n",
       "      <td>37</td>\n",
       "      <td>0</td>\n",
       "      <td>1</td>\n",
       "    </tr>\n",
       "    <tr>\n",
       "      <th>109791</th>\n",
       "      <td>8847</td>\n",
       "      <td>8728</td>\n",
       "      <td>Auto Loans 30% Down Payment - Employed</td>\n",
       "      <td>0.170644</td>\n",
       "      <td>57400.0</td>\n",
       "      <td>0.00</td>\n",
       "      <td>0</td>\n",
       "      <td>EMPLOYEE</td>\n",
       "      <td>0.128026</td>\n",
       "      <td>HYUNDAI</td>\n",
       "      <td>0.116664</td>\n",
       "      <td>1</td>\n",
       "      <td>1</td>\n",
       "      <td>1</td>\n",
       "      <td>1</td>\n",
       "      <td>62</td>\n",
       "      <td>2</td>\n",
       "      <td>62</td>\n",
       "      <td>40</td>\n",
       "      <td>60</td>\n",
       "      <td>0</td>\n",
       "      <td>1</td>\n",
       "    </tr>\n",
       "    <tr>\n",
       "      <th>109788</th>\n",
       "      <td>8879</td>\n",
       "      <td>8759</td>\n",
       "      <td>Auto Loans 50% Down Payment - Self Employed</td>\n",
       "      <td>0.082265</td>\n",
       "      <td>39000.0</td>\n",
       "      <td>0.00</td>\n",
       "      <td>1</td>\n",
       "      <td>Company Owner</td>\n",
       "      <td>0.123310</td>\n",
       "      <td>NISSAN</td>\n",
       "      <td>0.118927</td>\n",
       "      <td>1</td>\n",
       "      <td>1</td>\n",
       "      <td>1</td>\n",
       "      <td>1</td>\n",
       "      <td>86</td>\n",
       "      <td>26</td>\n",
       "      <td>86</td>\n",
       "      <td>38</td>\n",
       "      <td>60</td>\n",
       "      <td>0</td>\n",
       "      <td>1</td>\n",
       "    </tr>\n",
       "    <tr>\n",
       "      <th>109835</th>\n",
       "      <td>13819</td>\n",
       "      <td>13599</td>\n",
       "      <td>Auto Loans 30% Down Payment - Employed</td>\n",
       "      <td>0.170644</td>\n",
       "      <td>61600.0</td>\n",
       "      <td>0.00</td>\n",
       "      <td>0</td>\n",
       "      <td>Accountant - Employee</td>\n",
       "      <td>0.136773</td>\n",
       "      <td>HYUNDAI</td>\n",
       "      <td>0.116664</td>\n",
       "      <td>1</td>\n",
       "      <td>1</td>\n",
       "      <td>1</td>\n",
       "      <td>1</td>\n",
       "      <td>50</td>\n",
       "      <td>-11</td>\n",
       "      <td>50</td>\n",
       "      <td>58</td>\n",
       "      <td>61</td>\n",
       "      <td>0</td>\n",
       "      <td>1</td>\n",
       "    </tr>\n",
       "    <tr>\n",
       "      <th>...</th>\n",
       "      <td>...</td>\n",
       "      <td>...</td>\n",
       "      <td>...</td>\n",
       "      <td>...</td>\n",
       "      <td>...</td>\n",
       "      <td>...</td>\n",
       "      <td>...</td>\n",
       "      <td>...</td>\n",
       "      <td>...</td>\n",
       "      <td>...</td>\n",
       "      <td>...</td>\n",
       "      <td>...</td>\n",
       "      <td>...</td>\n",
       "      <td>...</td>\n",
       "      <td>...</td>\n",
       "      <td>...</td>\n",
       "      <td>...</td>\n",
       "      <td>...</td>\n",
       "      <td>...</td>\n",
       "      <td>...</td>\n",
       "      <td>...</td>\n",
       "      <td>...</td>\n",
       "    </tr>\n",
       "    <tr>\n",
       "      <th>890128</th>\n",
       "      <td>35650</td>\n",
       "      <td>34676</td>\n",
       "      <td>Auto Loans 50% Down Payment - Employed</td>\n",
       "      <td>0.101279</td>\n",
       "      <td>70000.0</td>\n",
       "      <td>31414.81</td>\n",
       "      <td>0</td>\n",
       "      <td>EMPLOYEE</td>\n",
       "      <td>0.128026</td>\n",
       "      <td>HYUNDAI</td>\n",
       "      <td>0.116664</td>\n",
       "      <td>1</td>\n",
       "      <td>1</td>\n",
       "      <td>1</td>\n",
       "      <td>1</td>\n",
       "      <td>15</td>\n",
       "      <td>-34</td>\n",
       "      <td>15</td>\n",
       "      <td>61</td>\n",
       "      <td>49</td>\n",
       "      <td>0</td>\n",
       "      <td>1</td>\n",
       "    </tr>\n",
       "    <tr>\n",
       "      <th>890129</th>\n",
       "      <td>29420</td>\n",
       "      <td>28755</td>\n",
       "      <td>Auto Loans 30% Down Payment - Employed</td>\n",
       "      <td>0.170644</td>\n",
       "      <td>151298.0</td>\n",
       "      <td>120570.56</td>\n",
       "      <td>1</td>\n",
       "      <td>EMPLOYEE</td>\n",
       "      <td>0.128026</td>\n",
       "      <td>RENAULT</td>\n",
       "      <td>0.137370</td>\n",
       "      <td>1</td>\n",
       "      <td>1</td>\n",
       "      <td>1</td>\n",
       "      <td>1</td>\n",
       "      <td>32</td>\n",
       "      <td>-52</td>\n",
       "      <td>32</td>\n",
       "      <td>59</td>\n",
       "      <td>84</td>\n",
       "      <td>1</td>\n",
       "      <td>0</td>\n",
       "    </tr>\n",
       "    <tr>\n",
       "      <th>890130</th>\n",
       "      <td>24903</td>\n",
       "      <td>24346</td>\n",
       "      <td>Auto Loans 30% Down Payment - Self Employed</td>\n",
       "      <td>0.184674</td>\n",
       "      <td>119700.0</td>\n",
       "      <td>52737.84</td>\n",
       "      <td>0</td>\n",
       "      <td>Company Owner</td>\n",
       "      <td>0.123310</td>\n",
       "      <td>CHEVROLET</td>\n",
       "      <td>0.113426</td>\n",
       "      <td>1</td>\n",
       "      <td>1</td>\n",
       "      <td>1</td>\n",
       "      <td>1</td>\n",
       "      <td>41</td>\n",
       "      <td>-19</td>\n",
       "      <td>41</td>\n",
       "      <td>60</td>\n",
       "      <td>60</td>\n",
       "      <td>0</td>\n",
       "      <td>1</td>\n",
       "    </tr>\n",
       "    <tr>\n",
       "      <th>890117</th>\n",
       "      <td>28380</td>\n",
       "      <td>27749</td>\n",
       "      <td>Auto Loans 50% Down Payment - Employed</td>\n",
       "      <td>0.101279</td>\n",
       "      <td>76000.0</td>\n",
       "      <td>5327.39</td>\n",
       "      <td>0</td>\n",
       "      <td>EMPLOYEE</td>\n",
       "      <td>0.128026</td>\n",
       "      <td>RENAULT</td>\n",
       "      <td>0.137370</td>\n",
       "      <td>1</td>\n",
       "      <td>1</td>\n",
       "      <td>1</td>\n",
       "      <td>1</td>\n",
       "      <td>35</td>\n",
       "      <td>-1</td>\n",
       "      <td>36</td>\n",
       "      <td>34</td>\n",
       "      <td>36</td>\n",
       "      <td>1</td>\n",
       "      <td>0</td>\n",
       "    </tr>\n",
       "    <tr>\n",
       "      <th>900859</th>\n",
       "      <td>4350</td>\n",
       "      <td>4307</td>\n",
       "      <td>Auto Loans 40% Down Payment - Employed</td>\n",
       "      <td>0.125821</td>\n",
       "      <td>120000.0</td>\n",
       "      <td>0.00</td>\n",
       "      <td>0</td>\n",
       "      <td>ENGINEER</td>\n",
       "      <td>0.073593</td>\n",
       "      <td>KIA</td>\n",
       "      <td>0.094802</td>\n",
       "      <td>1</td>\n",
       "      <td>1</td>\n",
       "      <td>1</td>\n",
       "      <td>1</td>\n",
       "      <td>60</td>\n",
       "      <td>0</td>\n",
       "      <td>72</td>\n",
       "      <td>33</td>\n",
       "      <td>60</td>\n",
       "      <td>0</td>\n",
       "      <td>1</td>\n",
       "    </tr>\n",
       "  </tbody>\n",
       "</table>\n",
       "<p>37023 rows × 22 columns</p>\n",
       "</div>"
      ],
      "text/plain": [
       "        account_number  customer_id  ...  F  M\n",
       "110070           19665        19286  ...  0  1\n",
       "110096           14950        14707  ...  0  1\n",
       "109791            8847         8728  ...  0  1\n",
       "109788            8879         8759  ...  0  1\n",
       "109835           13819        13599  ...  0  1\n",
       "...                ...          ...  ... .. ..\n",
       "890128           35650        34676  ...  0  1\n",
       "890129           29420        28755  ...  1  0\n",
       "890130           24903        24346  ...  0  1\n",
       "890117           28380        27749  ...  1  0\n",
       "900859            4350         4307  ...  0  1\n",
       "\n",
       "[37023 rows x 22 columns]"
      ]
     },
     "execution_count": 30,
     "metadata": {},
     "output_type": "execute_result"
    }
   ],
   "source": [
    "#Transform the scales of the variable \"sex\" to 0 and 1, respectively.\n",
    "\n",
    "# Get one hot encoding of column sex\n",
    "one_hot = pd.get_dummies(df['sex'])\n",
    "# Drop column sex as it is now encoded\n",
    "df = df.drop('sex',axis = 1)\n",
    "# Join the encoded df\n",
    "df = df.join(one_hot)\n",
    "df "
   ]
  },
  {
   "cell_type": "markdown",
   "metadata": {
    "id": "UZ1jVnzyDTb2"
   },
   "source": [
    "### **2.7.** Dropping the variables \"account_number\", \"customer_id\" and \"reporting_date\""
   ]
  },
  {
   "cell_type": "code",
   "execution_count": 32,
   "metadata": {
    "colab": {
     "base_uri": "https://localhost:8080/",
     "height": 562
    },
    "id": "PvFZ7SrEDTb2",
    "outputId": "3e6bc11e-32df-4abf-c958-0483ed6b7c6b"
   },
   "outputs": [
    {
     "ename": "KeyError",
     "evalue": "ignored",
     "output_type": "error",
     "traceback": [
      "\u001b[0;31m---------------------------------------------------------------------------\u001b[0m",
      "\u001b[0;31mKeyError\u001b[0m                                  Traceback (most recent call last)",
      "\u001b[0;32m/usr/local/lib/python3.7/dist-packages/pandas/core/indexes/base.py\u001b[0m in \u001b[0;36mget_loc\u001b[0;34m(self, key, method, tolerance)\u001b[0m\n\u001b[1;32m   2897\u001b[0m             \u001b[0;32mtry\u001b[0m\u001b[0;34m:\u001b[0m\u001b[0;34m\u001b[0m\u001b[0;34m\u001b[0m\u001b[0m\n\u001b[0;32m-> 2898\u001b[0;31m                 \u001b[0;32mreturn\u001b[0m \u001b[0mself\u001b[0m\u001b[0;34m.\u001b[0m\u001b[0m_engine\u001b[0m\u001b[0;34m.\u001b[0m\u001b[0mget_loc\u001b[0m\u001b[0;34m(\u001b[0m\u001b[0mcasted_key\u001b[0m\u001b[0;34m)\u001b[0m\u001b[0;34m\u001b[0m\u001b[0;34m\u001b[0m\u001b[0m\n\u001b[0m\u001b[1;32m   2899\u001b[0m             \u001b[0;32mexcept\u001b[0m \u001b[0mKeyError\u001b[0m \u001b[0;32mas\u001b[0m \u001b[0merr\u001b[0m\u001b[0;34m:\u001b[0m\u001b[0;34m\u001b[0m\u001b[0;34m\u001b[0m\u001b[0m\n",
      "\u001b[0;32mpandas/_libs/index.pyx\u001b[0m in \u001b[0;36mpandas._libs.index.IndexEngine.get_loc\u001b[0;34m()\u001b[0m\n",
      "\u001b[0;32mpandas/_libs/index.pyx\u001b[0m in \u001b[0;36mpandas._libs.index.IndexEngine.get_loc\u001b[0;34m()\u001b[0m\n",
      "\u001b[0;32mpandas/_libs/hashtable_class_helper.pxi\u001b[0m in \u001b[0;36mpandas._libs.hashtable.PyObjectHashTable.get_item\u001b[0;34m()\u001b[0m\n",
      "\u001b[0;32mpandas/_libs/hashtable_class_helper.pxi\u001b[0m in \u001b[0;36mpandas._libs.hashtable.PyObjectHashTable.get_item\u001b[0;34m()\u001b[0m\n",
      "\u001b[0;31mKeyError\u001b[0m: 'account_number'",
      "\nThe above exception was the direct cause of the following exception:\n",
      "\u001b[0;31mKeyError\u001b[0m                                  Traceback (most recent call last)",
      "\u001b[0;32m<ipython-input-32-ae2664dcde4d>\u001b[0m in \u001b[0;36m<module>\u001b[0;34m()\u001b[0m\n\u001b[1;32m      4\u001b[0m \u001b[0;34m\u001b[0m\u001b[0m\n\u001b[1;32m      5\u001b[0m \u001b[0;34m\u001b[0m\u001b[0m\n\u001b[0;32m----> 6\u001b[0;31m \u001b[0;32mdel\u001b[0m \u001b[0mdf\u001b[0m\u001b[0;34m[\u001b[0m\u001b[0;34m'account_number'\u001b[0m\u001b[0;34m]\u001b[0m\u001b[0;34m\u001b[0m\u001b[0;34m\u001b[0m\u001b[0m\n\u001b[0m\u001b[1;32m      7\u001b[0m \u001b[0;32mdel\u001b[0m \u001b[0mdf\u001b[0m\u001b[0;34m[\u001b[0m\u001b[0;34m'customer_id'\u001b[0m\u001b[0;34m]\u001b[0m\u001b[0;34m\u001b[0m\u001b[0;34m\u001b[0m\u001b[0m\n",
      "\u001b[0;32m/usr/local/lib/python3.7/dist-packages/pandas/core/generic.py\u001b[0m in \u001b[0;36m__delitem__\u001b[0;34m(self, key)\u001b[0m\n\u001b[1;32m   3711\u001b[0m             \u001b[0;31m# there was no match, this call should raise the appropriate\u001b[0m\u001b[0;34m\u001b[0m\u001b[0;34m\u001b[0m\u001b[0;34m\u001b[0m\u001b[0m\n\u001b[1;32m   3712\u001b[0m             \u001b[0;31m# exception:\u001b[0m\u001b[0;34m\u001b[0m\u001b[0;34m\u001b[0m\u001b[0;34m\u001b[0m\u001b[0m\n\u001b[0;32m-> 3713\u001b[0;31m             \u001b[0mloc\u001b[0m \u001b[0;34m=\u001b[0m \u001b[0mself\u001b[0m\u001b[0;34m.\u001b[0m\u001b[0maxes\u001b[0m\u001b[0;34m[\u001b[0m\u001b[0;34m-\u001b[0m\u001b[0;36m1\u001b[0m\u001b[0;34m]\u001b[0m\u001b[0;34m.\u001b[0m\u001b[0mget_loc\u001b[0m\u001b[0;34m(\u001b[0m\u001b[0mkey\u001b[0m\u001b[0;34m)\u001b[0m\u001b[0;34m\u001b[0m\u001b[0;34m\u001b[0m\u001b[0m\n\u001b[0m\u001b[1;32m   3714\u001b[0m             \u001b[0mself\u001b[0m\u001b[0;34m.\u001b[0m\u001b[0m_mgr\u001b[0m\u001b[0;34m.\u001b[0m\u001b[0midelete\u001b[0m\u001b[0;34m(\u001b[0m\u001b[0mloc\u001b[0m\u001b[0;34m)\u001b[0m\u001b[0;34m\u001b[0m\u001b[0;34m\u001b[0m\u001b[0m\n\u001b[1;32m   3715\u001b[0m \u001b[0;34m\u001b[0m\u001b[0m\n",
      "\u001b[0;32m/usr/local/lib/python3.7/dist-packages/pandas/core/indexes/base.py\u001b[0m in \u001b[0;36mget_loc\u001b[0;34m(self, key, method, tolerance)\u001b[0m\n\u001b[1;32m   2898\u001b[0m                 \u001b[0;32mreturn\u001b[0m \u001b[0mself\u001b[0m\u001b[0;34m.\u001b[0m\u001b[0m_engine\u001b[0m\u001b[0;34m.\u001b[0m\u001b[0mget_loc\u001b[0m\u001b[0;34m(\u001b[0m\u001b[0mcasted_key\u001b[0m\u001b[0;34m)\u001b[0m\u001b[0;34m\u001b[0m\u001b[0;34m\u001b[0m\u001b[0m\n\u001b[1;32m   2899\u001b[0m             \u001b[0;32mexcept\u001b[0m \u001b[0mKeyError\u001b[0m \u001b[0;32mas\u001b[0m \u001b[0merr\u001b[0m\u001b[0;34m:\u001b[0m\u001b[0;34m\u001b[0m\u001b[0;34m\u001b[0m\u001b[0m\n\u001b[0;32m-> 2900\u001b[0;31m                 \u001b[0;32mraise\u001b[0m \u001b[0mKeyError\u001b[0m\u001b[0;34m(\u001b[0m\u001b[0mkey\u001b[0m\u001b[0;34m)\u001b[0m \u001b[0;32mfrom\u001b[0m \u001b[0merr\u001b[0m\u001b[0;34m\u001b[0m\u001b[0;34m\u001b[0m\u001b[0m\n\u001b[0m\u001b[1;32m   2901\u001b[0m \u001b[0;34m\u001b[0m\u001b[0m\n\u001b[1;32m   2902\u001b[0m         \u001b[0;32mif\u001b[0m \u001b[0mtolerance\u001b[0m \u001b[0;32mis\u001b[0m \u001b[0;32mnot\u001b[0m \u001b[0;32mNone\u001b[0m\u001b[0;34m:\u001b[0m\u001b[0;34m\u001b[0m\u001b[0;34m\u001b[0m\u001b[0m\n",
      "\u001b[0;31mKeyError\u001b[0m: 'account_number'"
     ]
    }
   ],
   "source": [
    "#Since the aim of the project is to find which variables are good for segmentation, variables that only provide\n",
    "#identification of the client or account (account_number and customer_id) do not provide relevant information and\n",
    "#therefore, we have decided to remove them from the dataset. \n",
    "\n",
    "\n",
    "del df['account_number']\n",
    "del df['customer_id']"
   ]
  },
  {
   "cell_type": "markdown",
   "metadata": {
    "id": "qndTpGx8DTb4"
   },
   "source": [
    "## **3.** Logistic regression model - all variables"
   ]
  },
  {
   "cell_type": "code",
   "execution_count": 33,
   "metadata": {
    "colab": {
     "base_uri": "https://localhost:8080/"
    },
    "id": "BHVQUmJC3yFi",
    "outputId": "88cac925-0d7c-4752-d07b-f61d34965feb"
   },
   "outputs": [
    {
     "name": "stdout",
     "output_type": "stream",
     "text": [
      "<class 'pandas.core.frame.DataFrame'>\n",
      "Int64Index: 37023 entries, 110070 to 900859\n",
      "Data columns (total 21 columns):\n",
      " #   Column                   Non-Null Count  Dtype  \n",
      "---  ------                   --------------  -----  \n",
      " 0   customer_id              37023 non-null  int64  \n",
      " 1   program_name             37023 non-null  object \n",
      " 2   program_name_rate        37023 non-null  float64\n",
      " 3   original_booked_amount   37023 non-null  float64\n",
      " 4   outstanding              37023 non-null  float64\n",
      " 5   bucket                   37023 non-null  int64  \n",
      " 6   profession               37023 non-null  object \n",
      " 7   profession_rate          37023 non-null  float64\n",
      " 8   car_type                 37023 non-null  object \n",
      " 9   car_type_rate            37023 non-null  float64\n",
      " 10  sex_test                 37023 non-null  int64  \n",
      " 11  birth_date_test          37023 non-null  int64  \n",
      " 12  profession_test          37023 non-null  int64  \n",
      " 13  car_type_test            37023 non-null  int64  \n",
      " 14  loan_open_duration       37023 non-null  int64  \n",
      " 15  expected_close_duration  37023 non-null  int64  \n",
      " 16  customer_open_duration   37023 non-null  int64  \n",
      " 17  age                      37023 non-null  int64  \n",
      " 18  loan_expected_duration   37023 non-null  int64  \n",
      " 19  F                        37023 non-null  uint8  \n",
      " 20  M                        37023 non-null  uint8  \n",
      "dtypes: float64(5), int64(11), object(3), uint8(2)\n",
      "memory usage: 7.0+ MB\n"
     ]
    }
   ],
   "source": [
    "df.info()"
   ]
  },
  {
   "cell_type": "code",
   "execution_count": 34,
   "metadata": {
    "id": "JPhi6nPcDTb4"
   },
   "outputs": [],
   "source": [
    "target = 'bucket'\n",
    "# all_variables = ['original_booked_amount', 'outstanding', 'car_type', 'age', 'loan_expected_duration', 'program_class', 'profession_class', 'F','M']\n",
    "all_variables = ['original_booked_amount', 'outstanding', 'car_type_rate', 'age', 'loan_expected_duration', 'program_name_rate', 'profession_rate', 'F','M']"
   ]
  },
  {
   "cell_type": "code",
   "execution_count": 35,
   "metadata": {
    "id": "o9os93S9DTb4"
   },
   "outputs": [],
   "source": [
    "from sklearn.model_selection import train_test_split, cross_val_score, GridSearchCV\n",
    "splitter = train_test_split\n",
    "\"-----------------------\"\n",
    "\n",
    "df_train, df_test = splitter(df, test_size = 0.2, random_state = 42)"
   ]
  },
  {
   "cell_type": "code",
   "execution_count": 36,
   "metadata": {
    "id": "bkTx1SJJDTb4"
   },
   "outputs": [],
   "source": [
    "X_train = df_train[all_variables]\n",
    "y_train = df_train[target]"
   ]
  },
  {
   "cell_type": "code",
   "execution_count": 37,
   "metadata": {
    "id": "xHzs1V7iDTb4"
   },
   "outputs": [],
   "source": [
    "X_test = df_test[all_variables]\n",
    "y_test = df_test[target]"
   ]
  },
  {
   "cell_type": "code",
   "execution_count": 38,
   "metadata": {
    "id": "2-OcRdh4DTb4"
   },
   "outputs": [],
   "source": [
    "from sklearn.linear_model import LogisticRegression\n",
    "method = LogisticRegression(random_state=0)\n",
    "fitted_full_model = method.fit(X_train, y_train)\n",
    "y_pred = fitted_full_model.predict(X_test)"
   ]
  },
  {
   "cell_type": "code",
   "execution_count": 39,
   "metadata": {
    "id": "RkpgFoYLDTb4"
   },
   "outputs": [],
   "source": [
    "y_pred = fitted_full_model.predict_proba(X_test)[:,0]"
   ]
  },
  {
   "cell_type": "code",
   "execution_count": 40,
   "metadata": {
    "colab": {
     "base_uri": "https://localhost:8080/"
    },
    "id": "H5ZtgfG9DTb5",
    "outputId": "05100133-d7d1-49d5-8234-3fb57c78b4f3"
   },
   "outputs": [
    {
     "data": {
      "text/plain": [
       "array([0.8828555 , 0.86312132, 0.90374619, ..., 0.94773423, 0.90048541,\n",
       "       0.88333917])"
      ]
     },
     "execution_count": 40,
     "metadata": {},
     "output_type": "execute_result"
    }
   ],
   "source": [
    "y_pred"
   ]
  },
  {
   "cell_type": "code",
   "execution_count": 41,
   "metadata": {
    "colab": {
     "base_uri": "https://localhost:8080/"
    },
    "id": "qx4GiL-VDTb5",
    "outputId": "ff545b25-9899-4440-a999-11edc6ca0984"
   },
   "outputs": [
    {
     "data": {
      "text/plain": [
       "885517    0\n",
       "892159    0\n",
       "446576    0\n",
       "892299    0\n",
       "533924    0\n",
       "         ..\n",
       "891097    0\n",
       "884231    0\n",
       "418990    0\n",
       "477098    0\n",
       "273491    0\n",
       "Name: bucket, Length: 7405, dtype: int64"
      ]
     },
     "execution_count": 41,
     "metadata": {},
     "output_type": "execute_result"
    }
   ],
   "source": [
    "y_test"
   ]
  },
  {
   "cell_type": "code",
   "execution_count": 42,
   "metadata": {
    "colab": {
     "base_uri": "https://localhost:8080/"
    },
    "id": "BuEyJfJNDTb5",
    "outputId": "c9cae365-e6ad-47d4-8b6e-c49d6b90b8c4"
   },
   "outputs": [
    {
     "data": {
      "text/plain": [
       "-0.2727757669055355"
      ]
     },
     "execution_count": 42,
     "metadata": {},
     "output_type": "execute_result"
    }
   ],
   "source": [
    "#GINI Coefficient\n",
    "from sklearn.metrics import roc_curve, auc\n",
    "fpr,tpr,thresholds = roc_curve(y_test, y_pred)\n",
    "roc_auc = auc(fpr,tpr)\n",
    "GINI = (2*roc_auc) -1\n",
    "GINI"
   ]
  },
  {
   "cell_type": "code",
   "execution_count": 43,
   "metadata": {
    "colab": {
     "base_uri": "https://localhost:8080/"
    },
    "id": "rPHzCk3WDTb5",
    "outputId": "4885420d-ae0c-496c-f8e1-47b429f32984"
   },
   "outputs": [
    {
     "data": {
      "text/plain": [
       "LogisticRegression(C=1.0, class_weight=None, dual=False, fit_intercept=True,\n",
       "                   intercept_scaling=1, l1_ratio=None, max_iter=100,\n",
       "                   multi_class='auto', n_jobs=None, penalty='l2',\n",
       "                   random_state=None, solver='lbfgs', tol=0.0001, verbose=0,\n",
       "                   warm_start=False)"
      ]
     },
     "execution_count": 43,
     "metadata": {},
     "output_type": "execute_result"
    }
   ],
   "source": [
    "from sklearn.linear_model import LogisticRegression\n",
    "from sklearn import metrics\n",
    "#X_train, X_test,y_train, y_test = train_test_split(x,y,test_size=0.2,random_state = 42)\n",
    "logreg = LogisticRegression()\n",
    "logreg.fit(X_train, y_train)"
   ]
  },
  {
   "cell_type": "code",
   "execution_count": 44,
   "metadata": {
    "colab": {
     "base_uri": "https://localhost:8080/"
    },
    "id": "z7NMR6HPDTb5",
    "outputId": "33d9d07b-327d-4501-eb43-e18ff6597952"
   },
   "outputs": [
    {
     "name": "stdout",
     "output_type": "stream",
     "text": [
      "Accuracy of logistic regression classifier on test set: 0.88\n"
     ]
    }
   ],
   "source": [
    "#Computing the accuracy of our model\n",
    "y_pred = logreg.predict(X_test)\n",
    "print('Accuracy of logistic regression classifier on test set: {:.2f}'.format(logreg.score(X_test, y_test)))"
   ]
  },
  {
   "cell_type": "code",
   "execution_count": 45,
   "metadata": {
    "colab": {
     "base_uri": "https://localhost:8080/"
    },
    "id": "Q5muP6KADTb5",
    "outputId": "602ad727-a609-4f84-9fa4-f807dbd189e2"
   },
   "outputs": [
    {
     "name": "stdout",
     "output_type": "stream",
     "text": [
      "              precision    recall  f1-score   support\n",
      "\n",
      "           0       0.88      1.00      0.94      6524\n",
      "           1       0.00      0.00      0.00       881\n",
      "\n",
      "    accuracy                           0.88      7405\n",
      "   macro avg       0.44      0.50      0.47      7405\n",
      "weighted avg       0.78      0.88      0.83      7405\n",
      "\n"
     ]
    },
    {
     "name": "stderr",
     "output_type": "stream",
     "text": [
      "/usr/local/lib/python3.7/dist-packages/sklearn/metrics/_classification.py:1272: UndefinedMetricWarning: Precision and F-score are ill-defined and being set to 0.0 in labels with no predicted samples. Use `zero_division` parameter to control this behavior.\n",
      "  _warn_prf(average, modifier, msg_start, len(result))\n"
     ]
    }
   ],
   "source": [
    "from sklearn.metrics import classification_report\n",
    "print(classification_report(y_test, y_pred))"
   ]
  },
  {
   "cell_type": "code",
   "execution_count": 46,
   "metadata": {
    "colab": {
     "base_uri": "https://localhost:8080/",
     "height": 295
    },
    "id": "XqG4_7tWDTb5",
    "outputId": "d28dc10e-4ad8-466b-d16f-52e94ae265ad"
   },
   "outputs": [
    {
     "data": {
      "image/png": "[encoded data removed]",
      "text/plain": [
       "<Figure size 432x288 with 1 Axes>"
      ]
     },
     "metadata": {
      "needs_background": "light"
     },
     "output_type": "display_data"
    }
   ],
   "source": [
    "from sklearn.metrics import roc_auc_score\n",
    "from sklearn.metrics import roc_curve\n",
    "logit_roc_auc = roc_auc_score(y_test, logreg.predict(X_test))\n",
    "fpr, tpr, thresholds = roc_curve(y_test, logreg.predict_proba(X_test)[:,1])\n",
    "plt.figure()\n",
    "plt.plot(fpr, tpr, label='Logistic Regression (area = %0.2f)' % logit_roc_auc)\n",
    "plt.plot([0, 1], [0, 1],'r--')\n",
    "plt.xlim([0.0, 1.0])\n",
    "plt.ylim([0.0, 1.05])\n",
    "plt.xlabel('False Positive Rate')\n",
    "plt.ylabel('True Positive Rate')\n",
    "plt.title('Receiver operating characteristic')\n",
    "plt.legend(loc=\"lower right\")\n",
    "plt.savefig('Log_ROC')\n",
    "plt.show()"
   ]
  },
  {
   "cell_type": "code",
   "execution_count": 47,
   "metadata": {
    "colab": {
     "base_uri": "https://localhost:8080/"
    },
    "id": "w1UFz2psDTb5",
    "outputId": "a5e376c2-c285-4845-a438-94eedfe39de6"
   },
   "outputs": [
    {
     "name": "stdout",
     "output_type": "stream",
     "text": [
      "[[6524    0]\n",
      " [ 881    0]]\n"
     ]
    }
   ],
   "source": [
    "from sklearn.metrics import confusion_matrix\n",
    "confusion_matrix = confusion_matrix(y_test, y_pred)\n",
    "print(confusion_matrix)"
   ]
  },
  {
   "cell_type": "markdown",
   "metadata": {
    "id": "JYw3C5YKDTb7"
   },
   "source": [
    "# Decission Trees Test #1 for the Group assignment"
   ]
  },
  {
   "cell_type": "code",
   "execution_count": 48,
   "metadata": {
    "colab": {
     "base_uri": "https://localhost:8080/"
    },
    "id": "s07-CWujDTb7",
    "outputId": "07997b29-cf0f-4765-c7aa-fca53a570687"
   },
   "outputs": [
    {
     "name": "stderr",
     "output_type": "stream",
     "text": [
      "/usr/local/lib/python3.7/dist-packages/ipykernel_launcher.py:3: UserWarning: Pandas doesn't allow columns to be created via a new attribute name - see https://pandas.pydata.org/pandas-docs/stable/indexing.html#attribute-access\n",
      "  This is separate from the ipykernel package so we can avoid doing imports until\n"
     ]
    }
   ],
   "source": [
    "df.target = 'bucket'\n",
    "# df.all_variables = ['original_booked_amount', 'outstanding', 'car_type', 'age','loan_expected_duration', 'program_class', 'profession_class', 'F',  'M']\n",
    "df.all_variables = ['original_booked_amount', 'outstanding', 'car_type_rate', 'age', 'loan_expected_duration', 'program_name_rate', 'profession_rate', 'F', 'M']\n",
    "#all_variables = ['original_booked_amount', 'outstanding', 'car_type_rate', 'age', 'loan_expected_duration', 'program_name_rate', 'profession_rate', 'F', 'M']"
   ]
  },
  {
   "cell_type": "code",
   "execution_count": 49,
   "metadata": {
    "id": "rvpW0NpkDTb7"
   },
   "outputs": [],
   "source": [
    "from sklearn.model_selection import train_test_split, cross_val_score, GridSearchCV\n",
    "splitter = train_test_split\n",
    "\"-----------------------\"\n",
    "\n",
    "df_train, df_test = splitter(df, test_size = 0.2, random_state = 42)"
   ]
  },
  {
   "cell_type": "code",
   "execution_count": 50,
   "metadata": {
    "colab": {
     "base_uri": "https://localhost:8080/",
     "height": 216
    },
    "id": "knJgKqO-DTb7",
    "outputId": "967f8c27-716f-4839-babe-0f463497a2f0"
   },
   "outputs": [
    {
     "data": {
      "image/png": "[encoded data removed]",
      "text/plain": [
       "<Figure size 7200x1440 with 1 Axes>"
      ]
     },
     "metadata": {
      "needs_background": "light"
     },
     "output_type": "display_data"
    }
   ],
   "source": [
    "from sklearn import tree\n",
    "from matplotlib import pyplot as plt\n",
    "\n",
    "X = df_train[all_variables]\n",
    "Y = df_train[target]\n",
    "\n",
    "#build decision tree\n",
    "clf = tree.DecisionTreeClassifier(criterion='gini', splitter='best', max_depth=4,min_samples_leaf=4)\n",
    "#max_depth represents max level allowed in each tree, min_samples_leaf minumum samples storable in leaf node\n",
    "\n",
    "#fit the tree to iris dataset\n",
    "clf.fit(X,Y)\n",
    "\n",
    "#plot decision tree\n",
    "fig, ax = plt.subplots(figsize=(100, 20)) #figsize value changes the size of plot\n",
    "tree.plot_tree(clf,ax=ax,feature_names= ['original_booked_amount', 'outstanding', 'car_type', 'age','loan_expected_duration', 'program_class', 'profession_class', 'F',  'M'])\n",
    "plt.show()\n",
    "\n"
   ]
  },
  {
   "cell_type": "code",
   "execution_count": 51,
   "metadata": {
    "colab": {
     "base_uri": "https://localhost:8080/"
    },
    "id": "FjmFWi85hWEO",
    "outputId": "9ed01358-d00c-4565-c6f2-2c947d5b30b1"
   },
   "outputs": [
    {
     "data": {
      "text/plain": [
       "Index(['original_booked_amount', 'outstanding', 'car_type_rate', 'age',\n",
       "       'loan_expected_duration', 'program_name_rate', 'profession_rate', 'F',\n",
       "       'M'],\n",
       "      dtype='object')"
      ]
     },
     "execution_count": 51,
     "metadata": {},
     "output_type": "execute_result"
    }
   ],
   "source": [
    "X.columns"
   ]
  },
  {
   "cell_type": "code",
   "execution_count": 52,
   "metadata": {
    "colab": {
     "base_uri": "https://localhost:8080/"
    },
    "id": "fULDHfmNVCDz",
    "outputId": "2a50121b-a6fd-4e22-925d-5ac8492056c0"
   },
   "outputs": [
    {
     "name": "stdout",
     "output_type": "stream",
     "text": [
      "|--- outstanding <= 0.66\n",
      "|   |--- loan_expected_duration <= 53.50\n",
      "|   |   |--- age <= 35.50\n",
      "|   |   |   |--- program_name_rate <= 0.15\n",
      "|   |   |   |   |--- class: 0\n",
      "|   |   |   |--- program_name_rate >  0.15\n",
      "|   |   |   |   |--- class: 0\n",
      "|   |   |--- age >  35.50\n",
      "|   |   |   |--- original_booked_amount <= 64062.50\n",
      "|   |   |   |   |--- class: 0\n",
      "|   |   |   |--- original_booked_amount >  64062.50\n",
      "|   |   |   |   |--- class: 0\n",
      "|   |--- loan_expected_duration >  53.50\n",
      "|   |   |--- program_name_rate <= 0.13\n",
      "|   |   |   |--- car_type_rate <= 0.14\n",
      "|   |   |   |   |--- class: 0\n",
      "|   |   |   |--- car_type_rate >  0.14\n",
      "|   |   |   |   |--- class: 0\n",
      "|   |   |--- program_name_rate >  0.13\n",
      "|   |   |   |--- program_name_rate <= 0.22\n",
      "|   |   |   |   |--- class: 0\n",
      "|   |   |   |--- program_name_rate >  0.22\n",
      "|   |   |   |   |--- class: 1\n",
      "|--- outstanding >  0.66\n",
      "|   |--- program_name_rate <= 0.13\n",
      "|   |   |--- original_booked_amount <= 147050.00\n",
      "|   |   |   |--- age <= 40.50\n",
      "|   |   |   |   |--- class: 0\n",
      "|   |   |   |--- age >  40.50\n",
      "|   |   |   |   |--- class: 0\n",
      "|   |   |--- original_booked_amount >  147050.00\n",
      "|   |   |   |--- program_name_rate <= 0.03\n",
      "|   |   |   |   |--- class: 0\n",
      "|   |   |   |--- program_name_rate >  0.03\n",
      "|   |   |   |   |--- class: 0\n",
      "|   |--- program_name_rate >  0.13\n",
      "|   |   |--- original_booked_amount <= 67610.00\n",
      "|   |   |   |--- outstanding <= 16348.40\n",
      "|   |   |   |   |--- class: 0\n",
      "|   |   |   |--- outstanding >  16348.40\n",
      "|   |   |   |   |--- class: 0\n",
      "|   |   |--- original_booked_amount >  67610.00\n",
      "|   |   |   |--- loan_expected_duration <= 46.50\n",
      "|   |   |   |   |--- class: 0\n",
      "|   |   |   |--- loan_expected_duration >  46.50\n",
      "|   |   |   |   |--- class: 0\n",
      "\n"
     ]
    }
   ],
   "source": [
    "# We export the results of the decission tree using the \"export_text\" method from sklearn. Later, we create an \n",
    "# object that contain the rules of the\n",
    "from sklearn.tree import export_text\n",
    "from sklearn.tree import _tree\n",
    "#tree_rules = export_text(clf, feature_names=list(X.columns))\n",
    "tree_rules = export_text(clf, feature_names=list(X.columns))\n",
    "print (tree_rules)"
   ]
  },
  {
   "cell_type": "code",
   "execution_count": 53,
   "metadata": {
    "id": "YaiZYkdzs9Rp"
   },
   "outputs": [],
   "source": [
    "# Reference: https://mljar.com/blog/extract-rules-decision-tree/ (with modification)\n",
    "\n",
    "def get_rules(tree, feature_names, class_names):\n",
    "    tree_ = tree.tree_\n",
    "    feature_name = [\n",
    "        feature_names[i] if i != _tree.TREE_UNDEFINED else \"undefined!\"\n",
    "        for i in tree_.feature\n",
    "    ]\n",
    "\n",
    "    paths = []\n",
    "    path = []\n",
    "    \n",
    "    final_thresholds = {}\n",
    "\n",
    "    def recurse(node, path, paths):\n",
    "        \n",
    "        if tree_.feature[node] != _tree.TREE_UNDEFINED:\n",
    "            name = feature_name[node]\n",
    "            threshold = tree_.threshold[node]\n",
    "            p1, p2 = list(path), list(path)\n",
    "            p1 += [f\"({name} <= {np.round(threshold, 3)})\"]\n",
    "            recurse(tree_.children_left[node], p1, paths)\n",
    "            p2 += [f\"({name} > {np.round(threshold, 3)})\"]\n",
    "            recurse(tree_.children_right[node], p2, paths)\n",
    "            final_thresholds[name] = threshold\n",
    "        else:\n",
    "            path += [(tree_.value[node], tree_.n_node_samples[node])]\n",
    "            paths += [path]\n",
    "        return final_thresholds\n",
    "\n",
    "    final_thresholds = recurse(0, path, paths)\n",
    "\n",
    "    # sort by samples count\n",
    "    samples_count = [p[-1][1] for p in paths]\n",
    "    ii = list(np.argsort(samples_count))\n",
    "    paths = [paths[i] for i in reversed(ii)]\n",
    "    \n",
    "    rules = []\n",
    "    for path in paths:\n",
    "        rule = \"if \"\n",
    "        \n",
    "        for p in path[:-1]:\n",
    "            if rule != \"if \":\n",
    "                rule += \" and \"\n",
    "            rule += str(p)\n",
    "        rule += \" then \"\n",
    "        if class_names is None:\n",
    "            rule += \"response: \"+str(np.round(path[-1][0][0][0],3))\n",
    "        else:\n",
    "            classes = path[-1][0][0]\n",
    "            l = np.argmax(classes)\n",
    "            rule += f\"class: {class_names[l]} (proba: {np.round(100.0*classes[l]/np.sum(classes),2)}%)\"\n",
    "        rule += f\" | based on {path[-1][1]:,} samples\"\n",
    "        rules += [rule]\n",
    "        \n",
    "    return rules, final_thresholds\n",
    "    "
   ]
  },
  {
   "cell_type": "code",
   "execution_count": 54,
   "metadata": {
    "colab": {
     "base_uri": "https://localhost:8080/"
    },
    "id": "6_41XUmCuf0I",
    "outputId": "352d9ca7-7cf7-4b41-a3b1-27f77a5694ee"
   },
   "outputs": [
    {
     "name": "stdout",
     "output_type": "stream",
     "text": [
      "if (outstanding <= 0.66) and (loan_expected_duration > 53.5) and (program_name_rate <= 0.132) and (car_type_rate <= 0.145) then class: original_booked_amount (proba: 94.79%) | based on 6,778 samples\n",
      "if (outstanding > 0.66) and (program_name_rate > 0.132) and (original_booked_amount > 67610.0) and (loan_expected_duration > 46.5) then class: original_booked_amount (proba: 75.72%) | based on 3,620 samples\n",
      "if (outstanding > 0.66) and (program_name_rate <= 0.132) and (original_booked_amount <= 147050.0) and (age <= 40.5) then class: original_booked_amount (proba: 77.49%) | based on 3,545 samples\n",
      "if (outstanding <= 0.66) and (loan_expected_duration > 53.5) and (program_name_rate > 0.132) and (program_name_rate <= 0.217) then class: original_booked_amount (proba: 90.44%) | based on 3,431 samples\n",
      "if (outstanding > 0.66) and (program_name_rate <= 0.132) and (original_booked_amount <= 147050.0) and (age > 40.5) then class: original_booked_amount (proba: 83.64%) | based on 2,470 samples\n",
      "if (outstanding <= 0.66) and (loan_expected_duration <= 53.5) and (age > 35.5) and (original_booked_amount <= 64062.5) then class: original_booked_amount (proba: 97.59%) | based on 2,411 samples\n",
      "if (outstanding <= 0.66) and (loan_expected_duration <= 53.5) and (age > 35.5) and (original_booked_amount > 64062.5) then class: original_booked_amount (proba: 98.91%) | based on 2,392 samples\n",
      "if (outstanding > 0.66) and (program_name_rate <= 0.132) and (original_booked_amount > 147050.0) and (program_name_rate > 0.033) then class: original_booked_amount (proba: 85.67%) | based on 1,598 samples\n",
      "if (outstanding <= 0.66) and (loan_expected_duration <= 53.5) and (age <= 35.5) and (program_name_rate <= 0.155) then class: original_booked_amount (proba: 96.09%) | based on 1,535 samples\n",
      "if (outstanding <= 0.66) and (loan_expected_duration > 53.5) and (program_name_rate <= 0.132) and (car_type_rate > 0.145) then class: original_booked_amount (proba: 88.79%) | based on 437 samples\n",
      "if (outstanding > 0.66) and (program_name_rate > 0.132) and (original_booked_amount <= 67610.0) and (outstanding <= 16348.4) then class: original_booked_amount (proba: 73.47%) | based on 426 samples\n",
      "if (outstanding > 0.66) and (program_name_rate > 0.132) and (original_booked_amount <= 67610.0) and (outstanding > 16348.4) then class: original_booked_amount (proba: 60.59%) | based on 340 samples\n",
      "if (outstanding <= 0.66) and (loan_expected_duration <= 53.5) and (age <= 35.5) and (program_name_rate > 0.155) then class: original_booked_amount (proba: 92.54%) | based on 228 samples\n",
      "if (outstanding > 0.66) and (program_name_rate > 0.132) and (original_booked_amount > 67610.0) and (loan_expected_duration <= 46.5) then class: original_booked_amount (proba: 88.34%) | based on 223 samples\n",
      "if (outstanding > 0.66) and (program_name_rate <= 0.132) and (original_booked_amount > 147050.0) and (program_name_rate <= 0.033) then class: original_booked_amount (proba: 97.18%) | based on 177 samples\n",
      "if (outstanding <= 0.66) and (loan_expected_duration > 53.5) and (program_name_rate > 0.132) and (program_name_rate > 0.217) then class: outstanding (proba: 71.43%) | based on 7 samples\n"
     ]
    }
   ],
   "source": [
    "rules, final_thresholds = get_rules(clf, all_variables, all_variables)\n",
    "for r in rules:\n",
    "    print(r)"
   ]
  },
  {
   "cell_type": "code",
   "execution_count": 55,
   "metadata": {
    "colab": {
     "base_uri": "https://localhost:8080/"
    },
    "id": "RWaV5CFZ2aBE",
    "outputId": "25c777ff-1cd2-4e45-fd37-6101230554d4"
   },
   "outputs": [
    {
     "data": {
      "text/plain": [
       "{'age': 40.5,\n",
       " 'car_type_rate': 0.14477171003818512,\n",
       " 'loan_expected_duration': 46.5,\n",
       " 'original_booked_amount': 67610.0,\n",
       " 'outstanding': 0.6600000262260437,\n",
       " 'program_name_rate': 0.13223102688789368}"
      ]
     },
     "execution_count": 55,
     "metadata": {},
     "output_type": "execute_result"
    }
   ],
   "source": [
    "final_thresholds"
   ]
  },
  {
   "cell_type": "code",
   "execution_count": 56,
   "metadata": {
    "colab": {
     "base_uri": "https://localhost:8080/"
    },
    "id": "mcYblcUQVGNA",
    "outputId": "f3e5eb5b-4972-4d31-9704-6563a38fbee0"
   },
   "outputs": [
    {
     "name": "stdout",
     "output_type": "stream",
     "text": [
      "original_booked_amount : used for the split. 67610.0\n",
      "outstanding : used for the split. 0.6600000262260437\n",
      "car_type_rate : used for the split. 0.14477171003818512\n",
      "age : used for the split. 40.5\n",
      "loan_expected_duration : used for the split. 46.5\n",
      "program_name_rate : used for the split. 0.13223102688789368\n",
      "profession_rate : Not good for segmentation. After analysis we did not find a good split using this variable\n",
      "F : Not good for segmentation. After analysis we did not find a good split using this variable\n",
      "M : Not good for segmentation. After analysis we did not find a good split using this variable\n"
     ]
    }
   ],
   "source": [
    "relevant_columns = []\n",
    "thresholds = []\n",
    "\n",
    "for variable in X.columns:\n",
    "    if variable in tree_rules:\n",
    "        relevant_columns.append(variable)\n",
    "        #thresholds.append(threshold)\n",
    "        #print (variable, \": used for the split.\", threshold)\n",
    "        print (variable, \": used for the split.\", final_thresholds[variable])\n",
    "        #print (variable, \": used for the split.\", \"\\n\".join(str(item) for item in threshold))\n",
    "\n",
    "    else:\n",
    "        print (variable, \": Not good for segmentation. After analysis we did not find a good split using this variable\")"
   ]
  },
  {
   "cell_type": "code",
   "execution_count": 130,
   "metadata": {
    "colab": {
     "base_uri": "https://localhost:8080/"
    },
    "id": "hfetWsVv2V4k",
    "outputId": "bda69226-6a54-4413-f0f6-f49a4c4a8da4"
   },
   "outputs": [
    {
     "name": "stdout",
     "output_type": "stream",
     "text": [
      "\u001b[1m Variable by Variable Risk Based Segmentation Analysis: \u001b[0m\n"
     ]
    },
    {
     "name": "stderr",
     "output_type": "stream",
     "text": [
      "/usr/local/lib/python3.7/dist-packages/ipykernel_launcher.py:5: UserWarning: Boolean Series key will be reindexed to match DataFrame index.\n",
      "  \"\"\"\n",
      "/usr/local/lib/python3.7/dist-packages/ipykernel_launcher.py:6: UserWarning: Boolean Series key will be reindexed to match DataFrame index.\n",
      "  \n",
      "/usr/local/lib/python3.7/dist-packages/ipykernel_launcher.py:7: UserWarning: Boolean Series key will be reindexed to match DataFrame index.\n",
      "  import sys\n",
      "/usr/local/lib/python3.7/dist-packages/ipykernel_launcher.py:8: UserWarning: Boolean Series key will be reindexed to match DataFrame index.\n",
      "  \n"
     ]
    },
    {
     "name": "stdout",
     "output_type": "stream",
     "text": [
      "original_booked_amount - Good for segmentation:\n",
      "     Segment1: original_booked_amount < 67610.0 [GINI Full Model: 3.8388% / GINI Segmented Model: 3.8388%]\n",
      "     Segment2: original_booked_amount > 67610.0 [GINI Full Model: 26.7895% / GINI Segmented Model: 26.7895%]\n"
     ]
    },
    {
     "name": "stderr",
     "output_type": "stream",
     "text": [
      "/usr/local/lib/python3.7/dist-packages/ipykernel_launcher.py:5: UserWarning: Boolean Series key will be reindexed to match DataFrame index.\n",
      "  \"\"\"\n",
      "/usr/local/lib/python3.7/dist-packages/ipykernel_launcher.py:6: UserWarning: Boolean Series key will be reindexed to match DataFrame index.\n",
      "  \n",
      "/usr/local/lib/python3.7/dist-packages/ipykernel_launcher.py:7: UserWarning: Boolean Series key will be reindexed to match DataFrame index.\n",
      "  import sys\n",
      "/usr/local/lib/python3.7/dist-packages/ipykernel_launcher.py:8: UserWarning: Boolean Series key will be reindexed to match DataFrame index.\n",
      "  \n"
     ]
    },
    {
     "name": "stdout",
     "output_type": "stream",
     "text": [
      "outstanding - Good for segmentation:\n",
      "     Segment1: outstanding < 0.6600000262260437 [GINI Full Model: -18.8904% / GINI Segmented Model: -18.8904%]\n",
      "     Segment2: outstanding > 0.6600000262260437 [GINI Full Model: 8.2376% / GINI Segmented Model: 8.2376%]\n"
     ]
    },
    {
     "name": "stderr",
     "output_type": "stream",
     "text": [
      "/usr/local/lib/python3.7/dist-packages/ipykernel_launcher.py:5: UserWarning: Boolean Series key will be reindexed to match DataFrame index.\n",
      "  \"\"\"\n",
      "/usr/local/lib/python3.7/dist-packages/ipykernel_launcher.py:6: UserWarning: Boolean Series key will be reindexed to match DataFrame index.\n",
      "  \n",
      "/usr/local/lib/python3.7/dist-packages/ipykernel_launcher.py:7: UserWarning: Boolean Series key will be reindexed to match DataFrame index.\n",
      "  import sys\n",
      "/usr/local/lib/python3.7/dist-packages/ipykernel_launcher.py:8: UserWarning: Boolean Series key will be reindexed to match DataFrame index.\n",
      "  \n"
     ]
    },
    {
     "name": "stdout",
     "output_type": "stream",
     "text": [
      "car_type_rate - Good for segmentation:\n",
      "     Segment1: car_type_rate < 0.14477171003818512 [GINI Full Model: 26.4802% / GINI Segmented Model: 26.4802%]\n",
      "     Segment2: car_type_rate > 0.14477171003818512 [GINI Full Model: 12.7661% / GINI Segmented Model: 12.7661%]\n"
     ]
    },
    {
     "name": "stderr",
     "output_type": "stream",
     "text": [
      "/usr/local/lib/python3.7/dist-packages/ipykernel_launcher.py:5: UserWarning: Boolean Series key will be reindexed to match DataFrame index.\n",
      "  \"\"\"\n",
      "/usr/local/lib/python3.7/dist-packages/ipykernel_launcher.py:6: UserWarning: Boolean Series key will be reindexed to match DataFrame index.\n",
      "  \n",
      "/usr/local/lib/python3.7/dist-packages/ipykernel_launcher.py:7: UserWarning: Boolean Series key will be reindexed to match DataFrame index.\n",
      "  import sys\n",
      "/usr/local/lib/python3.7/dist-packages/ipykernel_launcher.py:8: UserWarning: Boolean Series key will be reindexed to match DataFrame index.\n",
      "  \n"
     ]
    },
    {
     "name": "stdout",
     "output_type": "stream",
     "text": [
      "age - Good for segmentation:\n",
      "     Segment1: age < 40.5 [GINI Full Model: 21.7900% / GINI Segmented Model: 21.7900%]\n",
      "     Segment2: age > 40.5 [GINI Full Model: 15.4826% / GINI Segmented Model: 15.4826%]\n"
     ]
    },
    {
     "name": "stderr",
     "output_type": "stream",
     "text": [
      "/usr/local/lib/python3.7/dist-packages/ipykernel_launcher.py:5: UserWarning: Boolean Series key will be reindexed to match DataFrame index.\n",
      "  \"\"\"\n",
      "/usr/local/lib/python3.7/dist-packages/ipykernel_launcher.py:6: UserWarning: Boolean Series key will be reindexed to match DataFrame index.\n",
      "  \n",
      "/usr/local/lib/python3.7/dist-packages/ipykernel_launcher.py:7: UserWarning: Boolean Series key will be reindexed to match DataFrame index.\n",
      "  import sys\n",
      "/usr/local/lib/python3.7/dist-packages/ipykernel_launcher.py:8: UserWarning: Boolean Series key will be reindexed to match DataFrame index.\n",
      "  \n"
     ]
    },
    {
     "name": "stdout",
     "output_type": "stream",
     "text": [
      "loan_expected_duration - Good for segmentation:\n",
      "     Segment1: loan_expected_duration < 46.5 [GINI Full Model: 18.2667% / GINI Segmented Model: 18.2667%]\n",
      "     Segment2: loan_expected_duration > 46.5 [GINI Full Model: 25.3106% / GINI Segmented Model: 25.3106%]\n"
     ]
    },
    {
     "name": "stderr",
     "output_type": "stream",
     "text": [
      "/usr/local/lib/python3.7/dist-packages/ipykernel_launcher.py:5: UserWarning: Boolean Series key will be reindexed to match DataFrame index.\n",
      "  \"\"\"\n",
      "/usr/local/lib/python3.7/dist-packages/ipykernel_launcher.py:6: UserWarning: Boolean Series key will be reindexed to match DataFrame index.\n",
      "  \n",
      "/usr/local/lib/python3.7/dist-packages/ipykernel_launcher.py:7: UserWarning: Boolean Series key will be reindexed to match DataFrame index.\n",
      "  import sys\n",
      "/usr/local/lib/python3.7/dist-packages/ipykernel_launcher.py:8: UserWarning: Boolean Series key will be reindexed to match DataFrame index.\n",
      "  \n"
     ]
    },
    {
     "name": "stdout",
     "output_type": "stream",
     "text": [
      "program_name_rate - Good for segmentation:\n",
      "     Segment1: program_name_rate < 0.13223102688789368 [GINI Full Model: 32.5423% / GINI Segmented Model: 32.5423%]\n",
      "     Segment2: program_name_rate > 0.13223102688789368 [GINI Full Model: 25.4960% / GINI Segmented Model: 25.4960%]\n",
      "profession_rate Not good for segmentation. After analysis we did not find a good split using this variable\n",
      "F Not good for segmentation. After analysis we did not find a good split using this variable\n",
      "M Not good for segmentation. After analysis we did not find a good split using this variable\n"
     ]
    }
   ],
   "source": [
    "print (\"\\033[1m Variable by Variable Risk Based Segmentation Analysis: \\033[0m\")\n",
    "\n",
    "for variable in X.columns:\n",
    "    if variable in tree_rules:\n",
    "        df_train_seg1 = df_train[df[variable] <final_thresholds[variable]]\n",
    "        df_train_seg2 = df_train[df[variable] >final_thresholds[variable]]\n",
    "        df_test_seg1 = df_test[df[variable] <final_thresholds[variable]]\n",
    "        df_test_seg2 = df_test[df[variable] >final_thresholds[variable]]\n",
    "\n",
    "        X_train_seg1 = df_train_seg1[all_variables]\n",
    "        y_train_seg1 = df_train_seg1[target]\n",
    "        X_test_seg1 = df_test_seg1[all_variables]\n",
    "        y_test_seg1 = df_test_seg1[target]\n",
    "        fitted_model_seg1 = method.fit(X_train_seg1, y_train_seg1)\n",
    "\n",
    "        X_train_seg2 = df_train_seg2[all_variables]\n",
    "        y_train_seg2 = df_train_seg2[target]\n",
    "        X_test_seg2 = df_test_seg2[all_variables]\n",
    "        y_test_seg2 = df_test_seg2[target]\n",
    "        fitted_model_seg2 = method.fit(X_train_seg2, y_train_seg2)        \n",
    "\n",
    "        def GINI(y_test, y_pred_probadbility):\n",
    "            from sklearn.metrics import roc_curve, auc\n",
    "            fpr, tpr, thresholds = roc_curve(y_test, y_pred_probadbility)\n",
    "            roc_auc = auc(fpr, tpr)\n",
    "            GINI = (2 * roc_auc) - 1\n",
    "            return(GINI)\n",
    "\n",
    "        y_pred_seg1_proba = fitted_model_seg1.predict_proba(X_test_seg1)[:,1]\n",
    "        y_pred_seg1_fullmodel_proba = fitted_full_model.predict_proba(X_test_seg1)[:,1]\n",
    "        y_pred_seg2_proba = fitted_model_seg2.predict_proba(X_test_seg2)[:,1]\n",
    "        y_pred_seg2_fullmodel_proba = fitted_full_model.predict_proba(X_test_seg2)[:,1]\n",
    "        \n",
    "        print (variable, \"- Good for segmentation:\")\n",
    "\n",
    "        print(\"     Segment1:\", variable, \"<\", final_thresholds[variable], \"[GINI Full Model: {:.4f}% / GINI Segmented Model: {:.4f}%]\".format(\n",
    "            GINI(y_test_seg1, y_pred_seg1_proba)*100,\n",
    "            GINI(y_test_seg1, y_pred_seg1_fullmodel_proba)*100\n",
    "        )) \n",
    "\n",
    "        print(\"     Segment2:\", variable, \">\", final_thresholds[variable], \"[GINI Full Model: {:.4f}% / GINI Segmented Model: {:.4f}%]\".format(\n",
    "            GINI(y_test_seg2, y_pred_seg2_proba)*100,\n",
    "            GINI(y_test_seg2, y_pred_seg2_fullmodel_proba)*100\n",
    "        )) \n",
    "\n",
    "    else: \n",
    "      print (variable, \"Not good for segmentation. After analysis we did not find a good split using this variable\") "
   ]
  },
  {
   "cell_type": "code",
   "execution_count": 131,
   "metadata": {
    "colab": {
     "base_uri": "https://localhost:8080/"
    },
    "id": "4_6SLV2g55AR",
    "outputId": "6d5414e5-8dc5-48d9-ec88-2c0a5a5cf8de"
   },
   "outputs": [
    {
     "name": "stdout",
     "output_type": "stream",
     "text": [
      "{'car_type_segment2': ['RENAULT', 'KIA', 'HYUNDAI', 'NISSAN', 'Brilliance', 'CHEVROLET', 'SUZUKI', 'Speranza', 'GELY', 'SKODA', 'MITSUBISHI', 'Changan', 'Livan', 'TOYOTA', 'Great Wall', 'VOLKSWAGEN', 'FIAT', 'OPEL', 'Chana', 'Citroen', 'SEAT', 'Peugeot', 'DAIHATSU', 'Saipa', 'PROTON', 'VOLVO', 'MERCEDES', 'MAZDA', 'BMW', 'SUBARU', 'FORD', 'Gelory', 'Isuzu', 'HONDA', 'Mahindra', 'MG', 'Ssang Yong', 'CHANGY', 'MINI', 'AUDI', 'Dodge', 'FLORIDA', 'DFSK', 'HAWTAI', 'JAGUAR', 'VICTORY'], 'car_type_segment1': ['JEEP', 'CARRY', 'LADA', 'BYD', 'Jack', 'CHERY', 'MABLE', 'BAIC', 'ZEMEX', 'Kenbo', 'HAIMA', 'SAWEAST', 'Faw', 'Zoty'], 'program_name_segment2': ['Auto Loans 50% Down Payment - Employed', 'Auto Loans 50% Down Payment - Self Employed', 'Auto Loans Payroll Clients', 'Auto Loans 40% Down Payment - Employed', 'Auto Loans Special Deals', 'Pick Up and Small Trucks', 'Auto Loans 20% Down Payment - Self Employed', 'Auto Loans Secured against CD', 'Auto Loans Doctors - Self Employed', 'Auto Loans Fully Secured', 'Auto Loans Doctors - Employed', 'Auto Loans Run Off - Employed', 'Auto Loans Run Off - Self Employed', 'Auto Loans 50% Down Payment Used Cars - Self Employed', 'Auto Loans 50% Down Payment Used Cars - Employed', 'Auto Loans 30% Down Payment Used Cars - Self Employed'], 'program_name_segment1': ['Auto Loans 30% Down Payment - Employed', 'Auto Loans 40% Down Payment - Self Employed', 'Auto Loans 30% Down Payment - Self Employed', 'Auto Loans 20% Down Payment - Employed', 'Auto Loans 50% Down Payment No Car Prohibition - Self Employed', 'Auto Loans 50% Down Payment No Car Prohibition - Employed', 'Auto Loans 30% Down Payment Used Cars - Employed']}\n"
     ]
    }
   ],
   "source": [
    "relevent_categories = ['car_type', 'program_name']\n",
    "cat_type = {}\n",
    "\n",
    "for i in relevent_categories:\n",
    "  column_header = i+'_rate'\n",
    "  for cat in observation_rate[i]:   \n",
    "    if observation_rate[i][cat] >= final_thresholds[column_header]: \n",
    "      #cat_type[i+'_segment1'].append(cat)\n",
    "      test1 = i+'_segment1'\n",
    "      cat_type.setdefault(test1, []).append(cat)\n",
    "    else:  \n",
    "      #cat_type[i+'_segment2'].append(cat)\n",
    "      test2 = i+'_segment2'\n",
    "      cat_type.setdefault(test2, []).append(cat)\n",
    "\n",
    "print (cat_type)"
   ]
  }
 ],
 "metadata": {
  "celltoolbar": "Raw Cell Format",
  "colab": {
   "collapsed_sections": [
    "5xK2MzF-DTb7",
    "xUoteTTwDTb5",
    "58QMHvCDDTb6",
    "hFC7L3kKDTb6",
    "DymHKIN4DTb6"
   ],
   "name": "Group assignment_05.09.2021_v1.ipynb",
   "provenance": []
  },
  "interpreter": {
   "hash": "dca0ade3e726a953b501b15e8e990130d2b7799f14cfd9f4271676035ebe5511"
  },
  "kernelspec": {
   "display_name": "Python 3",
   "language": "python",
   "name": "python3"
  },
  "language_info": {
   "codemirror_mode": {
    "name": "ipython",
    "version": 3
   },
   "file_extension": ".py",
   "mimetype": "text/x-python",
   "name": "python",
   "nbconvert_exporter": "python",
   "pygments_lexer": "ipython3",
   "version": "3.8.10"
  }
 },
 "nbformat": 4,
 "nbformat_minor": 1
}
