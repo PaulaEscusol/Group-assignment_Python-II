{
 "cells": [
  {
   "cell_type": "markdown",
   "metadata": {
    "id": "yoiH3wJPDTbh"
   },
   "source": [
    "#  Group assignment\n"
   ]
  },
  {
   "cell_type": "code",
   "execution_count": 1,
   "metadata": {
    "id": "gD6C6qJsDTbm"
   },
   "outputs": [],
   "source": [
    "#Importing libraries\n",
    "#Importing libraries\n",
    "import pandas as pd\n",
    "import numpy as np\n",
    "import math\n",
    "import matplotlib.pyplot as plt\n",
    "from datetime import datetime\n",
    "from sklearn.preprocessing import LabelBinarizer\n",
    "from sklearn.experimental import enable_iterative_imputer\n",
    "from sklearn.feature_selection import RFE\n",
    "from sklearn.impute import IterativeImputer\n",
    "from sklearn.model_selection import cross_val_score, train_test_split\n",
    "from sklearn.linear_model import LogisticRegression\n",
    "from sklearn.tree import DecisionTreeClassifier\n",
    "from sklearn.utils import resample\n",
    "from sklearn.preprocessing import OneHotEncoder\n",
    "from sklearn.metrics import accuracy_score, f1_score, recall_score, \\\n",
    "    matthews_corrcoef, precision_score, confusion_matrix, make_scorer\n",
    "import seaborn as sns\n",
    "import datetime\n",
    "from datetime import timedelta\n",
    "from dateutil.relativedelta import relativedelta"
   ]
  },
  {
   "cell_type": "code",
   "execution_count": 2,
   "metadata": {
    "id": "kLqsLsy5qDcV"
   },
   "outputs": [],
   "source": [
    "df = pd.read_csv('AUTO_LOANS_DATA.csv', sep = ';')"
   ]
  },
  {
   "cell_type": "code",
   "execution_count": 3,
   "metadata": {
    "colab": {
     "base_uri": "https://localhost:8080/",
     "height": 204
    },
    "id": "AQ30yJertvxK",
    "outputId": "c3e2b4e2-c95a-45b5-fcf6-b91ca077c84c"
   },
   "outputs": [
    {
     "data": {
      "text/html": [
       "<div>\n",
       "<style scoped>\n",
       "    .dataframe tbody tr th:only-of-type {\n",
       "        vertical-align: middle;\n",
       "    }\n",
       "\n",
       "    .dataframe tbody tr th {\n",
       "        vertical-align: top;\n",
       "    }\n",
       "\n",
       "    .dataframe thead th {\n",
       "        text-align: right;\n",
       "    }\n",
       "</style>\n",
       "<table border=\"1\" class=\"dataframe\">\n",
       "  <thead>\n",
       "    <tr style=\"text-align: right;\">\n",
       "      <th></th>\n",
       "      <th>REPORTING_DATE</th>\n",
       "      <th>ACCOUNT_NUMBER</th>\n",
       "      <th>CUSTOMER_ID</th>\n",
       "      <th>PROGRAM_NAME</th>\n",
       "      <th>LOAN_OPEN_DATE</th>\n",
       "      <th>EXPECTED_CLOSE_DATE</th>\n",
       "      <th>ORIGINAL_BOOKED_AMOUNT</th>\n",
       "      <th>OUTSTANDING</th>\n",
       "      <th>BUCKET</th>\n",
       "      <th>SEX</th>\n",
       "      <th>CUSTOMER_OPEN_DATE</th>\n",
       "      <th>BIRTH_DATE</th>\n",
       "      <th>PROFESSION</th>\n",
       "      <th>CAR_TYPE</th>\n",
       "    </tr>\n",
       "  </thead>\n",
       "  <tbody>\n",
       "    <tr>\n",
       "      <th>0</th>\n",
       "      <td>2016-01-31</td>\n",
       "      <td>1</td>\n",
       "      <td>1</td>\n",
       "      <td>Auto Loans 50% Down Payment - Employed</td>\n",
       "      <td>2015-11-25</td>\n",
       "      <td>2020-11-03</td>\n",
       "      <td>91000.0</td>\n",
       "      <td>88223.40</td>\n",
       "      <td>0</td>\n",
       "      <td>M</td>\n",
       "      <td>2015-10-27</td>\n",
       "      <td>1986-03-24</td>\n",
       "      <td>EMPLOYEE</td>\n",
       "      <td>KIA</td>\n",
       "    </tr>\n",
       "    <tr>\n",
       "      <th>1</th>\n",
       "      <td>2016-01-31</td>\n",
       "      <td>2</td>\n",
       "      <td>2</td>\n",
       "      <td>Pick Up and Small Trucks</td>\n",
       "      <td>2015-12-08</td>\n",
       "      <td>2017-12-03</td>\n",
       "      <td>35000.0</td>\n",
       "      <td>33714.82</td>\n",
       "      <td>0</td>\n",
       "      <td>M</td>\n",
       "      <td>2015-11-29</td>\n",
       "      <td>1985-08-18</td>\n",
       "      <td>EMPLOYEE</td>\n",
       "      <td>CARRY</td>\n",
       "    </tr>\n",
       "    <tr>\n",
       "      <th>2</th>\n",
       "      <td>2016-01-31</td>\n",
       "      <td>3</td>\n",
       "      <td>3</td>\n",
       "      <td>Auto Loans 40% Down Payment - Employed</td>\n",
       "      <td>2016-01-12</td>\n",
       "      <td>2021-01-03</td>\n",
       "      <td>52500.0</td>\n",
       "      <td>52500.00</td>\n",
       "      <td>0</td>\n",
       "      <td>F</td>\n",
       "      <td>2015-12-28</td>\n",
       "      <td>1985-07-02</td>\n",
       "      <td>HOUSEWIFE</td>\n",
       "      <td>CHEVROLET</td>\n",
       "    </tr>\n",
       "    <tr>\n",
       "      <th>3</th>\n",
       "      <td>2016-01-31</td>\n",
       "      <td>4</td>\n",
       "      <td>4</td>\n",
       "      <td>Auto Loans 30% Down Payment - Self Employed</td>\n",
       "      <td>2015-11-23</td>\n",
       "      <td>2019-10-03</td>\n",
       "      <td>103000.0</td>\n",
       "      <td>99054.45</td>\n",
       "      <td>0</td>\n",
       "      <td>M</td>\n",
       "      <td>2015-10-21</td>\n",
       "      <td>1979-01-01</td>\n",
       "      <td>Shop Owner</td>\n",
       "      <td>MITSUBISHI</td>\n",
       "    </tr>\n",
       "    <tr>\n",
       "      <th>4</th>\n",
       "      <td>2016-01-31</td>\n",
       "      <td>5</td>\n",
       "      <td>5</td>\n",
       "      <td>Auto Loans 30% Down Payment - Self Employed</td>\n",
       "      <td>2015-11-23</td>\n",
       "      <td>2018-11-03</td>\n",
       "      <td>94250.0</td>\n",
       "      <td>89450.17</td>\n",
       "      <td>0</td>\n",
       "      <td>M</td>\n",
       "      <td>2015-11-02</td>\n",
       "      <td>1977-01-20</td>\n",
       "      <td>Shop Owner</td>\n",
       "      <td>SEAT</td>\n",
       "    </tr>\n",
       "  </tbody>\n",
       "</table>\n",
       "</div>"
      ],
      "text/plain": [
       "  REPORTING_DATE  ACCOUNT_NUMBER  CUSTOMER_ID  \\\n",
       "0     2016-01-31               1            1   \n",
       "1     2016-01-31               2            2   \n",
       "2     2016-01-31               3            3   \n",
       "3     2016-01-31               4            4   \n",
       "4     2016-01-31               5            5   \n",
       "\n",
       "                                  PROGRAM_NAME LOAN_OPEN_DATE  \\\n",
       "0       Auto Loans 50% Down Payment - Employed     2015-11-25   \n",
       "1                     Pick Up and Small Trucks     2015-12-08   \n",
       "2       Auto Loans 40% Down Payment - Employed     2016-01-12   \n",
       "3  Auto Loans 30% Down Payment - Self Employed     2015-11-23   \n",
       "4  Auto Loans 30% Down Payment - Self Employed     2015-11-23   \n",
       "\n",
       "  EXPECTED_CLOSE_DATE  ORIGINAL_BOOKED_AMOUNT  OUTSTANDING  BUCKET SEX  \\\n",
       "0          2020-11-03                 91000.0     88223.40       0   M   \n",
       "1          2017-12-03                 35000.0     33714.82       0   M   \n",
       "2          2021-01-03                 52500.0     52500.00       0   F   \n",
       "3          2019-10-03                103000.0     99054.45       0   M   \n",
       "4          2018-11-03                 94250.0     89450.17       0   M   \n",
       "\n",
       "  CUSTOMER_OPEN_DATE  BIRTH_DATE  PROFESSION    CAR_TYPE  \n",
       "0         2015-10-27  1986-03-24    EMPLOYEE         KIA  \n",
       "1         2015-11-29  1985-08-18    EMPLOYEE       CARRY  \n",
       "2         2015-12-28  1985-07-02   HOUSEWIFE   CHEVROLET  \n",
       "3         2015-10-21  1979-01-01  Shop Owner  MITSUBISHI  \n",
       "4         2015-11-02  1977-01-20  Shop Owner        SEAT  "
      ]
     },
     "execution_count": 3,
     "metadata": {},
     "output_type": "execute_result"
    }
   ],
   "source": [
    "df.head()"
   ]
  },
  {
   "cell_type": "code",
   "execution_count": 4,
   "metadata": {
    "id": "IZ6B9cSQDTbn"
   },
   "outputs": [],
   "source": [
    "# conda install -c conda-forge missingno"
   ]
  },
  {
   "cell_type": "code",
   "execution_count": 5,
   "metadata": {
    "id": "rvzx9Vr6DTbo"
   },
   "outputs": [],
   "source": [
    "import missingno as msno"
   ]
  },
  {
   "cell_type": "code",
   "execution_count": 6,
   "metadata": {
    "id": "udVGi_ovDTbp"
   },
   "outputs": [],
   "source": [
    "#Inserting and readingg the data (excel file)\n",
    "#df = pd.read_excel(\"AUTO_LOANS_DATA.xlsx\")\n",
    "#df"
   ]
  },
  {
   "cell_type": "markdown",
   "metadata": {
    "id": "a5xy6HM3DTbt"
   },
   "source": [
    "## 1. **PENDING** - Missing not at random analysis -  Analyzing missing values"
   ]
  },
  {
   "cell_type": "code",
   "execution_count": 7,
   "metadata": {
    "colab": {
     "base_uri": "https://localhost:8080/",
     "height": 539
    },
    "id": "USwdFj9LDTbt",
    "outputId": "06c6f0f2-761a-4787-b7d7-dd6c0a12977d"
   },
   "outputs": [
    {
     "data": {
      "text/plain": [
       "<AxesSubplot:>"
      ]
     },
     "execution_count": 7,
     "metadata": {},
     "output_type": "execute_result"
    },
    {
     "data": {
      "image/png": "[encoded data removed]",
      "text/plain": [
       "<Figure size 1800x720 with 2 Axes>"
      ]
     },
     "metadata": {
      "needs_background": "light"
     },
     "output_type": "display_data"
    }
   ],
   "source": [
    "#Visualize the distribution of the missing values\n",
    "msno.matrix(df)\n"
   ]
  },
  {
   "cell_type": "code",
   "execution_count": 8,
   "metadata": {
    "colab": {
     "base_uri": "https://localhost:8080/"
    },
    "id": "MOHY7Arge0-f",
    "outputId": "8bb0069a-7964-46b1-8db0-307cdeb727d3"
   },
   "outputs": [
    {
     "name": "stdout",
     "output_type": "stream",
     "text": [
      "SEX            4528\n",
      "BIRTH_DATE     4533\n",
      "PROFESSION     5558\n",
      "CAR_TYPE      11518\n",
      "dtype: int64\n",
      "     SEX  BIRTH_DATE     PROFESSION  CAR_TYPE\n",
      "11   NaN         NaN            NaN  MERCEDES\n",
      "61     M  1972-08-17         DOCTOR       NaN\n",
      "117    M  1986-02-20         DRIVER       NaN\n",
      "118    M  1967-03-24  Company Owner       NaN\n",
      "143    M  1982-06-23     Contractor       NaN\n"
     ]
    }
   ],
   "source": [
    "null_columns=df.columns[df.isnull().any()]\n",
    "print(df[null_columns].isnull().sum())\n",
    "print(df[df.isnull().any(axis=1)][null_columns].head())"
   ]
  },
  {
   "cell_type": "markdown",
   "metadata": {
    "id": "Y0emhfU4DTbr"
   },
   "source": [
    "## **1.** Initial steps"
   ]
  },
  {
   "cell_type": "markdown",
   "metadata": {
    "id": "rZmH3uuhDTbs"
   },
   "source": [
    "### **1.1.** Changing the name of the columns to lower case"
   ]
  },
  {
   "cell_type": "code",
   "execution_count": 9,
   "metadata": {
    "colab": {
     "base_uri": "https://localhost:8080/"
    },
    "id": "HK0z3HCVDTbs",
    "outputId": "bb75a362-ca76-4ab5-9ba3-5d31c371b8a7"
   },
   "outputs": [
    {
     "name": "stdout",
     "output_type": "stream",
     "text": [
      "['REPORTING_DATE', 'ACCOUNT_NUMBER', 'CUSTOMER_ID', 'PROGRAM_NAME', 'LOAN_OPEN_DATE', 'EXPECTED_CLOSE_DATE', 'ORIGINAL_BOOKED_AMOUNT', 'OUTSTANDING', 'BUCKET', 'SEX', 'CUSTOMER_OPEN_DATE', 'BIRTH_DATE', 'PROFESSION', 'CAR_TYPE']\n"
     ]
    }
   ],
   "source": [
    "print(list(df.columns))"
   ]
  },
  {
   "cell_type": "code",
   "execution_count": 10,
   "metadata": {
    "id": "gZ8e3l2ODTbs"
   },
   "outputs": [],
   "source": [
    "#We want to transform the name of all the columns to lower case\n",
    "df.rename(columns=lambda x: x.lower(), inplace=True)"
   ]
  },
  {
   "cell_type": "code",
   "execution_count": 11,
   "metadata": {
    "colab": {
     "base_uri": "https://localhost:8080/"
    },
    "id": "e-60brv8DTbt",
    "outputId": "cfcb175a-1fd2-4702-823f-248b8f84b56d"
   },
   "outputs": [
    {
     "name": "stdout",
     "output_type": "stream",
     "text": [
      "['reporting_date', 'account_number', 'customer_id', 'program_name', 'loan_open_date', 'expected_close_date', 'original_booked_amount', 'outstanding', 'bucket', 'sex', 'customer_open_date', 'birth_date', 'profession', 'car_type']\n"
     ]
    }
   ],
   "source": [
    "print(list(df.columns))"
   ]
  },
  {
   "cell_type": "markdown",
   "metadata": {
    "id": "F3CRIigAqKCA"
   },
   "source": [
    "### **1.2.** Removing duplicate records"
   ]
  },
  {
   "cell_type": "code",
   "execution_count": 12,
   "metadata": {
    "colab": {
     "base_uri": "https://localhost:8080/"
    },
    "id": "2fVLZJgnDTbv",
    "outputId": "79920ac6-6422-4b92-d517-7de211b8310c"
   },
   "outputs": [
    {
     "name": "stdout",
     "output_type": "stream",
     "text": [
      "number of duplicate rows:  (0, 14)\n"
     ]
    }
   ],
   "source": [
    "#Locate the entire duplicated rows. Result = 0\n",
    "duplicate_rows_df = df[df.duplicated()]\n",
    "print('number of duplicate rows: ', duplicate_rows_df.shape)"
   ]
  },
  {
   "cell_type": "code",
   "execution_count": 13,
   "metadata": {
    "colab": {
     "base_uri": "https://localhost:8080/",
     "height": 1000
    },
    "id": "EbCKB2K6KKo1",
    "outputId": "b1c8ddbb-7480-4a84-ff63-4b23c5787cca"
   },
   "outputs": [
    {
     "name": "stdout",
     "output_type": "stream",
     "text": [
      "number of duplicate rows:  (861263, 14)\n"
     ]
    },
    {
     "name": "stderr",
     "output_type": "stream",
     "text": [
      "C:\\Users\\aaljeshi\\Anaconda3\\lib\\site-packages\\pandas\\util\\_decorators.py:311: SettingWithCopyWarning: \n",
      "A value is trying to be set on a copy of a slice from a DataFrame\n",
      "\n",
      "See the caveats in the documentation: https://pandas.pydata.org/pandas-docs/stable/user_guide/indexing.html#returning-a-view-versus-a-copy\n",
      "  return func(*args, **kwargs)\n"
     ]
    }
   ],
   "source": [
    "#Check for duplicate rows based on ACCOUNT_NUMBER and CUSTOMER_ID\n",
    "duplicate_rows_df = df[df.duplicated(subset=['account_number', 'customer_id'])]\n",
    "print('number of duplicate rows: ', duplicate_rows_df.shape)\n",
    "duplicate_rows_df.sort_values(['customer_id', 'reporting_date'], ascending=True, inplace = True)\n"
   ]
  },
  {
   "cell_type": "code",
   "execution_count": 14,
   "metadata": {
    "colab": {
     "base_uri": "https://localhost:8080/"
    },
    "id": "HliMu8nTKgrG",
    "outputId": "79c5f129-b1af-47c8-c614-804deffa2edb"
   },
   "outputs": [
    {
     "name": "stdout",
     "output_type": "stream",
     "text": [
      "\n",
      " old shape:  (900860, 14)\n",
      "\n",
      " new shape:  (39597, 14)\n"
     ]
    }
   ],
   "source": [
    "# Drop duplicates and keep only last opened loan per account \n",
    "\n",
    "print(\"\\n old shape: \",  df.shape) # Confirm original dataframe shape\n",
    "df = df.sort_values(by=\"reporting_date\").drop_duplicates(subset=[\"account_number\", 'customer_id'], keep=\"last\") # drop duplicates\n",
    "print(\"\\n new shape: \",  df.shape) # Confirm dataframe reduction"
   ]
  },
  {
   "cell_type": "code",
   "execution_count": 15,
   "metadata": {
    "colab": {
     "base_uri": "https://localhost:8080/",
     "height": 411
    },
    "id": "gMrV45V0fP3j",
    "outputId": "8afe805d-5d90-4cd4-d5cd-9962dd1e6472"
   },
   "outputs": [
    {
     "data": {
      "text/html": [
       "<div>\n",
       "<style scoped>\n",
       "    .dataframe tbody tr th:only-of-type {\n",
       "        vertical-align: middle;\n",
       "    }\n",
       "\n",
       "    .dataframe tbody tr th {\n",
       "        vertical-align: top;\n",
       "    }\n",
       "\n",
       "    .dataframe thead th {\n",
       "        text-align: right;\n",
       "    }\n",
       "</style>\n",
       "<table border=\"1\" class=\"dataframe\">\n",
       "  <thead>\n",
       "    <tr style=\"text-align: right;\">\n",
       "      <th></th>\n",
       "      <th>reporting_date</th>\n",
       "      <th>account_number</th>\n",
       "      <th>customer_id</th>\n",
       "      <th>program_name</th>\n",
       "      <th>loan_open_date</th>\n",
       "      <th>expected_close_date</th>\n",
       "      <th>original_booked_amount</th>\n",
       "      <th>outstanding</th>\n",
       "      <th>bucket</th>\n",
       "      <th>sex</th>\n",
       "      <th>customer_open_date</th>\n",
       "      <th>birth_date</th>\n",
       "      <th>profession</th>\n",
       "      <th>car_type</th>\n",
       "    </tr>\n",
       "  </thead>\n",
       "  <tbody>\n",
       "    <tr>\n",
       "      <th>15639</th>\n",
       "      <td>2016-01-31</td>\n",
       "      <td>15640</td>\n",
       "      <td>15378</td>\n",
       "      <td>Auto Loans 40% Down Payment - Self Employed</td>\n",
       "      <td>2013-01-02</td>\n",
       "      <td>2016-01-03</td>\n",
       "      <td>81600.0</td>\n",
       "      <td>0.0</td>\n",
       "      <td>0</td>\n",
       "      <td>M</td>\n",
       "      <td>2012-12-03</td>\n",
       "      <td>1969-02-19</td>\n",
       "      <td>Company Owner</td>\n",
       "      <td>NaN</td>\n",
       "    </tr>\n",
       "    <tr>\n",
       "      <th>15651</th>\n",
       "      <td>2016-01-31</td>\n",
       "      <td>15652</td>\n",
       "      <td>15390</td>\n",
       "      <td>Pick Up and Small Trucks</td>\n",
       "      <td>2013-11-25</td>\n",
       "      <td>2015-11-03</td>\n",
       "      <td>84000.0</td>\n",
       "      <td>0.0</td>\n",
       "      <td>0</td>\n",
       "      <td>M</td>\n",
       "      <td>2013-11-11</td>\n",
       "      <td>1984-02-18</td>\n",
       "      <td>Shop Owner</td>\n",
       "      <td>NaN</td>\n",
       "    </tr>\n",
       "    <tr>\n",
       "      <th>15582</th>\n",
       "      <td>2016-01-31</td>\n",
       "      <td>15583</td>\n",
       "      <td>15323</td>\n",
       "      <td>Auto Loans 30% Down Payment - Self Employed</td>\n",
       "      <td>2015-06-24</td>\n",
       "      <td>2020-06-03</td>\n",
       "      <td>113400.0</td>\n",
       "      <td>0.0</td>\n",
       "      <td>7</td>\n",
       "      <td>M</td>\n",
       "      <td>2015-04-29</td>\n",
       "      <td>1988-08-23</td>\n",
       "      <td>Shop Owner</td>\n",
       "      <td>NaN</td>\n",
       "    </tr>\n",
       "    <tr>\n",
       "      <th>15741</th>\n",
       "      <td>2016-01-31</td>\n",
       "      <td>15742</td>\n",
       "      <td>15477</td>\n",
       "      <td>Auto Loans 30% Down Payment - Employed</td>\n",
       "      <td>2015-01-22</td>\n",
       "      <td>2020-02-03</td>\n",
       "      <td>57750.0</td>\n",
       "      <td>0.0</td>\n",
       "      <td>0</td>\n",
       "      <td>M</td>\n",
       "      <td>2014-09-24</td>\n",
       "      <td>1975-11-01</td>\n",
       "      <td>EMPLOYEE</td>\n",
       "      <td>NaN</td>\n",
       "    </tr>\n",
       "    <tr>\n",
       "      <th>15689</th>\n",
       "      <td>2016-01-31</td>\n",
       "      <td>15690</td>\n",
       "      <td>15427</td>\n",
       "      <td>Auto Loans Special Deals</td>\n",
       "      <td>2012-01-30</td>\n",
       "      <td>2016-01-22</td>\n",
       "      <td>65600.0</td>\n",
       "      <td>0.0</td>\n",
       "      <td>0</td>\n",
       "      <td>M</td>\n",
       "      <td>2011-01-05</td>\n",
       "      <td>1985-12-18</td>\n",
       "      <td>EMPLOYEE</td>\n",
       "      <td>NaN</td>\n",
       "    </tr>\n",
       "  </tbody>\n",
       "</table>\n",
       "</div>"
      ],
      "text/plain": [
       "      reporting_date  account_number  customer_id  \\\n",
       "15639     2016-01-31           15640        15378   \n",
       "15651     2016-01-31           15652        15390   \n",
       "15582     2016-01-31           15583        15323   \n",
       "15741     2016-01-31           15742        15477   \n",
       "15689     2016-01-31           15690        15427   \n",
       "\n",
       "                                      program_name loan_open_date  \\\n",
       "15639  Auto Loans 40% Down Payment - Self Employed     2013-01-02   \n",
       "15651                     Pick Up and Small Trucks     2013-11-25   \n",
       "15582  Auto Loans 30% Down Payment - Self Employed     2015-06-24   \n",
       "15741       Auto Loans 30% Down Payment - Employed     2015-01-22   \n",
       "15689                     Auto Loans Special Deals     2012-01-30   \n",
       "\n",
       "      expected_close_date  original_booked_amount  outstanding  bucket sex  \\\n",
       "15639          2016-01-03                 81600.0          0.0       0   M   \n",
       "15651          2015-11-03                 84000.0          0.0       0   M   \n",
       "15582          2020-06-03                113400.0          0.0       7   M   \n",
       "15741          2020-02-03                 57750.0          0.0       0   M   \n",
       "15689          2016-01-22                 65600.0          0.0       0   M   \n",
       "\n",
       "      customer_open_date  birth_date     profession car_type  \n",
       "15639         2012-12-03  1969-02-19  Company Owner      NaN  \n",
       "15651         2013-11-11  1984-02-18     Shop Owner      NaN  \n",
       "15582         2015-04-29  1988-08-23     Shop Owner      NaN  \n",
       "15741         2014-09-24  1975-11-01       EMPLOYEE      NaN  \n",
       "15689         2011-01-05  1985-12-18       EMPLOYEE      NaN  "
      ]
     },
     "execution_count": 15,
     "metadata": {},
     "output_type": "execute_result"
    }
   ],
   "source": [
    "df.head()"
   ]
  },
  {
   "cell_type": "code",
   "execution_count": 16,
   "metadata": {
    "colab": {
     "base_uri": "https://localhost:8080/"
    },
    "id": "ZDy7MtMfK2BJ",
    "outputId": "56197b4b-11ee-4b8d-dce7-3757feb02028"
   },
   "outputs": [
    {
     "name": "stdout",
     "output_type": "stream",
     "text": [
      "<class 'pandas.core.frame.DataFrame'>\n",
      "Int64Index: 39597 entries, 15639 to 900859\n",
      "Data columns (total 14 columns):\n",
      " #   Column                  Non-Null Count  Dtype  \n",
      "---  ------                  --------------  -----  \n",
      " 0   reporting_date          39597 non-null  object \n",
      " 1   account_number          39597 non-null  int64  \n",
      " 2   customer_id             39597 non-null  int64  \n",
      " 3   program_name            39597 non-null  object \n",
      " 4   loan_open_date          39597 non-null  object \n",
      " 5   expected_close_date     39597 non-null  object \n",
      " 6   original_booked_amount  39597 non-null  float64\n",
      " 7   outstanding             39597 non-null  float64\n",
      " 8   bucket                  39597 non-null  int64  \n",
      " 9   sex                     39320 non-null  object \n",
      " 10  customer_open_date      39597 non-null  object \n",
      " 11  birth_date              39319 non-null  object \n",
      " 12  profession              39281 non-null  object \n",
      " 13  car_type                37295 non-null  object \n",
      "dtypes: float64(2), int64(3), object(9)\n",
      "memory usage: 4.5+ MB\n"
     ]
    }
   ],
   "source": [
    "df.info()"
   ]
  },
  {
   "cell_type": "markdown",
   "metadata": {
    "id": "T3-m_-jzq44c"
   },
   "source": [
    "### **1.3.** Binning the target variable (\"bucket\")"
   ]
  },
  {
   "cell_type": "code",
   "execution_count": 17,
   "metadata": {
    "colab": {
     "base_uri": "https://localhost:8080/"
    },
    "id": "qob4cOOirANr",
    "outputId": "7ce4200d-ce5f-424f-8bf6-b828520ee0ef"
   },
   "outputs": [
    {
     "data": {
      "text/plain": [
       "0    34990\n",
       "1     2073\n",
       "7     1149\n",
       "2      805\n",
       "3      306\n",
       "4      147\n",
       "5       85\n",
       "6       42\n",
       "Name: bucket, dtype: int64"
      ]
     },
     "execution_count": 17,
     "metadata": {},
     "output_type": "execute_result"
    }
   ],
   "source": [
    "df['bucket'].value_counts()"
   ]
  },
  {
   "cell_type": "code",
   "execution_count": 18,
   "metadata": {
    "id": "3OpzEeazrCkp"
   },
   "outputs": [],
   "source": [
    "# The variable \"bucket\" indicates the number of unpaid installements at each reporting date. We have transformed\n",
    "# this variable to dummy variables to indicate whether the user has had unpaid installments (1) or not(0).\n",
    "bucket_replace = {2: 1, 3: 1, 4: 1, 5: 1, 6: 1, 7: 1}\n",
    "df = df.replace({'bucket': bucket_replace})"
   ]
  },
  {
   "cell_type": "code",
   "execution_count": 19,
   "metadata": {
    "colab": {
     "base_uri": "https://localhost:8080/"
    },
    "id": "BC9HfA33rEiE",
    "outputId": "69956a26-6dfd-4fcd-b5dc-52d5f159eb63"
   },
   "outputs": [
    {
     "data": {
      "text/plain": [
       "0    34990\n",
       "1     4607\n",
       "Name: bucket, dtype: int64"
      ]
     },
     "execution_count": 19,
     "metadata": {},
     "output_type": "execute_result"
    }
   ],
   "source": [
    "df['bucket'].value_counts()"
   ]
  },
  {
   "cell_type": "markdown",
   "metadata": {
    "id": "W6P8EoiFDTbu"
   },
   "source": [
    "## 2. Data Preparation"
   ]
  },
  {
   "cell_type": "markdown",
   "metadata": {
    "id": "L5j6NkYVrW9O"
   },
   "source": [
    "### **2.1**. Dealing with date columns"
   ]
  },
  {
   "cell_type": "markdown",
   "metadata": {
    "id": "Jx3Vq8jDrcxU"
   },
   "source": [
    "To deal with date columns, we decided to do the following:\n",
    "\n",
    "1. Identify Date Columns\n",
    "2. Convert them into date format\n",
    "3. Calculate the time difference between the mentioned date and the date of the 4. report\n",
    "5. All the dates will be in months except the age in years\n",
    "6. Calculate the expected loan duration in terms of months (e.g. a 44 months loan or a 60 months loan...etc.)\n",
    "7. Finally, drop the original date columns as they would be replaced by the duration columns"
   ]
  },
  {
   "cell_type": "code",
   "execution_count": 20,
   "metadata": {
    "id": "oKZ0RWkfrjp9"
   },
   "outputs": [],
   "source": [
    "from datetime import datetime\n",
    "\n",
    "#I am not chossing the 'REPORTING_DATE' columns as it is not helping our analysis\n",
    "date_columns = ['loan_open_date', 'expected_close_date', 'customer_open_date', 'birth_date'  ]\n",
    "\n",
    "# Assuming the report date is today's date\n",
    "today_date = datetime.strptime('2019-09-01',\"%Y-%m-%d\") \n",
    "\n",
    "\n",
    "for col in date_columns:\n",
    "    df[col] =  pd.to_datetime(df[col],format='%Y-%m-%d') \n",
    "    age_col = col.split('_')\n",
    "    age_col = col[0:(len(col)-4)]\n",
    "    age_col = ''.join(age_col)+'duration'\n",
    "    df[age_col] = df[col].apply(lambda x: today_date.month - x.month + 12*(today_date.year - x.year))\n",
    "\n",
    "    \n",
    "df['age'] = (round(df['birth_duration']/12)).where(df['birth_duration'].notnull())\n",
    "\n",
    "\n",
    "df['loan_expected_duration'] =  df['expected_close_date'].dt.month - df['loan_open_date'].dt.month + 12*(df['expected_close_date'].dt.year - df['loan_open_date'].dt.year)\n",
    "\n",
    "df.drop(['birth_duration', 'reporting_date', 'loan_open_date', 'expected_close_date',  'birth_date', 'customer_open_date'], axis = 1, inplace = True)"
   ]
  },
  {
   "cell_type": "code",
   "execution_count": 21,
   "metadata": {},
   "outputs": [
    {
     "data": {
      "text/html": [
       "<div>\n",
       "<style scoped>\n",
       "    .dataframe tbody tr th:only-of-type {\n",
       "        vertical-align: middle;\n",
       "    }\n",
       "\n",
       "    .dataframe tbody tr th {\n",
       "        vertical-align: top;\n",
       "    }\n",
       "\n",
       "    .dataframe thead th {\n",
       "        text-align: right;\n",
       "    }\n",
       "</style>\n",
       "<table border=\"1\" class=\"dataframe\">\n",
       "  <thead>\n",
       "    <tr style=\"text-align: right;\">\n",
       "      <th></th>\n",
       "      <th>account_number</th>\n",
       "      <th>customer_id</th>\n",
       "      <th>program_name</th>\n",
       "      <th>original_booked_amount</th>\n",
       "      <th>outstanding</th>\n",
       "      <th>bucket</th>\n",
       "      <th>sex</th>\n",
       "      <th>profession</th>\n",
       "      <th>car_type</th>\n",
       "      <th>loan_open_duration</th>\n",
       "      <th>expected_close_duration</th>\n",
       "      <th>customer_open_duration</th>\n",
       "      <th>age</th>\n",
       "      <th>loan_expected_duration</th>\n",
       "    </tr>\n",
       "  </thead>\n",
       "  <tbody>\n",
       "    <tr>\n",
       "      <th>15639</th>\n",
       "      <td>15640</td>\n",
       "      <td>15378</td>\n",
       "      <td>Auto Loans 40% Down Payment - Self Employed</td>\n",
       "      <td>81600.0</td>\n",
       "      <td>0.0</td>\n",
       "      <td>0</td>\n",
       "      <td>M</td>\n",
       "      <td>Company Owner</td>\n",
       "      <td>NaN</td>\n",
       "      <td>80</td>\n",
       "      <td>44</td>\n",
       "      <td>81</td>\n",
       "      <td>51.0</td>\n",
       "      <td>36</td>\n",
       "    </tr>\n",
       "    <tr>\n",
       "      <th>15651</th>\n",
       "      <td>15652</td>\n",
       "      <td>15390</td>\n",
       "      <td>Pick Up and Small Trucks</td>\n",
       "      <td>84000.0</td>\n",
       "      <td>0.0</td>\n",
       "      <td>0</td>\n",
       "      <td>M</td>\n",
       "      <td>Shop Owner</td>\n",
       "      <td>NaN</td>\n",
       "      <td>70</td>\n",
       "      <td>46</td>\n",
       "      <td>70</td>\n",
       "      <td>36.0</td>\n",
       "      <td>24</td>\n",
       "    </tr>\n",
       "    <tr>\n",
       "      <th>15582</th>\n",
       "      <td>15583</td>\n",
       "      <td>15323</td>\n",
       "      <td>Auto Loans 30% Down Payment - Self Employed</td>\n",
       "      <td>113400.0</td>\n",
       "      <td>0.0</td>\n",
       "      <td>1</td>\n",
       "      <td>M</td>\n",
       "      <td>Shop Owner</td>\n",
       "      <td>NaN</td>\n",
       "      <td>51</td>\n",
       "      <td>-9</td>\n",
       "      <td>53</td>\n",
       "      <td>31.0</td>\n",
       "      <td>60</td>\n",
       "    </tr>\n",
       "    <tr>\n",
       "      <th>15741</th>\n",
       "      <td>15742</td>\n",
       "      <td>15477</td>\n",
       "      <td>Auto Loans 30% Down Payment - Employed</td>\n",
       "      <td>57750.0</td>\n",
       "      <td>0.0</td>\n",
       "      <td>0</td>\n",
       "      <td>M</td>\n",
       "      <td>EMPLOYEE</td>\n",
       "      <td>NaN</td>\n",
       "      <td>56</td>\n",
       "      <td>-5</td>\n",
       "      <td>60</td>\n",
       "      <td>44.0</td>\n",
       "      <td>61</td>\n",
       "    </tr>\n",
       "    <tr>\n",
       "      <th>15689</th>\n",
       "      <td>15690</td>\n",
       "      <td>15427</td>\n",
       "      <td>Auto Loans Special Deals</td>\n",
       "      <td>65600.0</td>\n",
       "      <td>0.0</td>\n",
       "      <td>0</td>\n",
       "      <td>M</td>\n",
       "      <td>EMPLOYEE</td>\n",
       "      <td>NaN</td>\n",
       "      <td>92</td>\n",
       "      <td>44</td>\n",
       "      <td>104</td>\n",
       "      <td>34.0</td>\n",
       "      <td>48</td>\n",
       "    </tr>\n",
       "  </tbody>\n",
       "</table>\n",
       "</div>"
      ],
      "text/plain": [
       "       account_number  customer_id  \\\n",
       "15639           15640        15378   \n",
       "15651           15652        15390   \n",
       "15582           15583        15323   \n",
       "15741           15742        15477   \n",
       "15689           15690        15427   \n",
       "\n",
       "                                      program_name  original_booked_amount  \\\n",
       "15639  Auto Loans 40% Down Payment - Self Employed                 81600.0   \n",
       "15651                     Pick Up and Small Trucks                 84000.0   \n",
       "15582  Auto Loans 30% Down Payment - Self Employed                113400.0   \n",
       "15741       Auto Loans 30% Down Payment - Employed                 57750.0   \n",
       "15689                     Auto Loans Special Deals                 65600.0   \n",
       "\n",
       "       outstanding  bucket sex     profession car_type  loan_open_duration  \\\n",
       "15639          0.0       0   M  Company Owner      NaN                  80   \n",
       "15651          0.0       0   M     Shop Owner      NaN                  70   \n",
       "15582          0.0       1   M     Shop Owner      NaN                  51   \n",
       "15741          0.0       0   M       EMPLOYEE      NaN                  56   \n",
       "15689          0.0       0   M       EMPLOYEE      NaN                  92   \n",
       "\n",
       "       expected_close_duration  customer_open_duration   age  \\\n",
       "15639                       44                      81  51.0   \n",
       "15651                       46                      70  36.0   \n",
       "15582                       -9                      53  31.0   \n",
       "15741                       -5                      60  44.0   \n",
       "15689                       44                     104  34.0   \n",
       "\n",
       "       loan_expected_duration  \n",
       "15639                      36  \n",
       "15651                      24  \n",
       "15582                      60  \n",
       "15741                      61  \n",
       "15689                      48  "
      ]
     },
     "execution_count": 21,
     "metadata": {},
     "output_type": "execute_result"
    }
   ],
   "source": [
    "df.head()"
   ]
  },
  {
   "cell_type": "code",
   "execution_count": 22,
   "metadata": {},
   "outputs": [
    {
     "name": "stderr",
     "output_type": "stream",
     "text": [
      "C:\\Users\\aaljeshi\\OneDrive - Intel Corporation\\Documents\\Personal\\IE University\\Courses\\Python II\\Group Project\\RiskDataframe.py:97: RuntimeWarning: invalid value encountered in longlong_scalars\n",
      "  condition = (test_rows - not_missing)/test_rows\n"
     ]
    },
    {
     "name": "stdout",
     "output_type": "stream",
     "text": [
      "Missing Not at Random Report -  ['sex', 'profession', 'age'] variables seem Missing Not at Random, there for we recommend:\n",
      "\n",
      "\n",
      "Thin File Segment Variables:  ['account_number', 'customer_id', 'program_name', 'original_booked_amount', 'outstanding', 'bucket', 'car_type', 'loan_open_duration', 'expected_close_duration', 'customer_open_duration', 'loan_expected_duration']\n",
      "\n",
      "\n",
      "Full File Segment Variables:  Index(['account_number', 'customer_id', 'program_name',\n",
      "       'original_booked_amount', 'outstanding', 'bucket', 'sex', 'profession',\n",
      "       'car_type', 'loan_open_duration', 'expected_close_duration',\n",
      "       'customer_open_duration', 'age', 'loan_expected_duration'],\n",
      "      dtype='object')\n"
     ]
    }
   ],
   "source": [
    "from RiskDataframe import RiskDataframe\n",
    "RiskDataframe.missing_not_at_random(df)"
   ]
  },
  {
   "cell_type": "markdown",
   "metadata": {
    "id": "JsGiVFSBDTby"
   },
   "source": [
    "### **2.2.** Removing Nans"
   ]
  },
  {
   "cell_type": "markdown",
   "metadata": {
    "id": "Rk5IS-JrDTby"
   },
   "source": [
    "#### **2.2.1.** Selecting only the numerics to replace NaNs or blanks with 0 "
   ]
  },
  {
   "cell_type": "code",
   "execution_count": 23,
   "metadata": {
    "colab": {
     "base_uri": "https://localhost:8080/"
    },
    "id": "B9vHNPHpDTby",
    "outputId": "d4517beb-9323-4af1-fbe0-ef0ba6bd6682",
    "scrolled": true
   },
   "outputs": [
    {
     "data": {
      "text/plain": [
       "account_number                0\n",
       "customer_id                   0\n",
       "program_name                  0\n",
       "original_booked_amount        0\n",
       "outstanding                   0\n",
       "bucket                        0\n",
       "sex                         277\n",
       "profession                  316\n",
       "car_type                   2302\n",
       "loan_open_duration            0\n",
       "expected_close_duration       0\n",
       "customer_open_duration        0\n",
       "age                         278\n",
       "loan_expected_duration        0\n",
       "dtype: int64"
      ]
     },
     "execution_count": 23,
     "metadata": {},
     "output_type": "execute_result"
    }
   ],
   "source": [
    "#Check the amount of missing values that we have in each variable\n",
    "df.isnull().sum()"
   ]
  },
  {
   "cell_type": "code",
   "execution_count": 24,
   "metadata": {
    "id": "037oLTIJDTby"
   },
   "outputs": [],
   "source": [
    "list_numeric_columns = ['age']\n",
    "for item in list_numeric_columns:\n",
    "    df[item] = df[item].fillna(0).replace('NaN',0).replace('',0)"
   ]
  },
  {
   "cell_type": "markdown",
   "metadata": {
    "id": "OnTyzWZSDTbz"
   },
   "source": [
    "### **2.3**. Selecting non-numerics to replace NaNs with blanks"
   ]
  },
  {
   "cell_type": "code",
   "execution_count": 25,
   "metadata": {
    "id": "j2X5JVEpzxdY"
   },
   "outputs": [],
   "source": [
    "categorical_variables = ['program_name', 'profession', 'car_type']"
   ]
  },
  {
   "cell_type": "code",
   "execution_count": 26,
   "metadata": {
    "id": "IzY9ud6_rHUu"
   },
   "outputs": [],
   "source": [
    "df.dropna(subset = ['car_type', 'sex', 'profession'], inplace=True)"
   ]
  },
  {
   "cell_type": "code",
   "execution_count": 27,
   "metadata": {
    "colab": {
     "base_uri": "https://localhost:8080/",
     "height": 562
    },
    "id": "jFiySAVgDTbz",
    "outputId": "c843b656-621f-4e6e-fee0-9b90261dd4a5"
   },
   "outputs": [],
   "source": [
    "# Within the non-numeric variables with missing values, we can distinguish two groups: \n",
    "    #1 - Non-numerics which have missing values related to the type of user (MNAR): Corporate users do not contain information\n",
    "    #regarding the sex or profession.\n",
    "    \n",
    "    #2 - Non-numerics with missing at random data (MAR)- concretelly, the variable CAR_TYPE.\n",
    "    \n",
    "#We will deal with these situations differently: \n",
    "\n",
    "#1 - MNAR for Corporate users: \n",
    "       \n",
    "#list_non_numeric_columns = ['profession_class', 'sex']\n",
    "#for item in list_non_numeric_columns:\n",
    "#    df[item] = df[item].fillna('').replace('NaN','');\n",
    "    \n",
    "#2 - MAR for CAR_TYPE:\n",
    "    #Once the variable CAR_TYPE is converted to a categorical variable, we will replace the missing values with \n",
    "    #the most common value of the variable (the mode). Refer to point \"12 - Transforming the variable \"car_type\" \n",
    "    #to categorical\" to see this point.\n",
    "    "
   ]
  },
  {
   "cell_type": "markdown",
   "metadata": {
    "id": "x6QPKEXqDTbz"
   },
   "source": [
    "### **2.6.** Transforming the variable \"sex\" into binary variable"
   ]
  },
  {
   "cell_type": "code",
   "execution_count": 28,
   "metadata": {},
   "outputs": [
    {
     "data": {
      "text/plain": [
       "M    26667\n",
       "F    10356\n",
       "Name: sex, dtype: int64"
      ]
     },
     "execution_count": 28,
     "metadata": {},
     "output_type": "execute_result"
    }
   ],
   "source": [
    "df['sex'].value_counts()"
   ]
  },
  {
   "cell_type": "code",
   "execution_count": 29,
   "metadata": {},
   "outputs": [],
   "source": [
    "#Replacing Male with 0 and Femalte with 1\n",
    "df['sex'] = (df['sex'] == 'F').astype(int)"
   ]
  },
  {
   "cell_type": "code",
   "execution_count": 30,
   "metadata": {},
   "outputs": [
    {
     "data": {
      "text/plain": [
       "0    26667\n",
       "1    10356\n",
       "Name: sex, dtype: int64"
      ]
     },
     "execution_count": 30,
     "metadata": {},
     "output_type": "execute_result"
    }
   ],
   "source": [
    "df['sex'].value_counts()"
   ]
  },
  {
   "cell_type": "markdown",
   "metadata": {
    "id": "UZ1jVnzyDTb2"
   },
   "source": [
    "### **2.7.** Dropping the variables \"account_number\", \"customer_id\" "
   ]
  },
  {
   "cell_type": "code",
   "execution_count": 31,
   "metadata": {
    "colab": {
     "base_uri": "https://localhost:8080/",
     "height": 562
    },
    "id": "PvFZ7SrEDTb2",
    "outputId": "3e6bc11e-32df-4abf-c958-0483ed6b7c6b"
   },
   "outputs": [],
   "source": [
    "#Since the aim of the project is to find which variables are good for segmentation, variables that only provide\n",
    "#identification of the client or account (account_number and customer_id) do not provide relevant information and\n",
    "#therefore, we have decided to remove them from the dataset. \n",
    "\n",
    "\n",
    "del df['account_number']\n",
    "del df['customer_id']"
   ]
  },
  {
   "cell_type": "code",
   "execution_count": 32,
   "metadata": {},
   "outputs": [
    {
     "name": "stdout",
     "output_type": "stream",
     "text": [
      "{'program_name': {'Auto Loans 50% Down Payment - Employed': 0.10127909414971692, 'Auto Loans 50% Down Payment - Self Employed': 0.08226458694396303, 'Auto Loans 30% Down Payment - Employed': 0.17064377682403434, 'Auto Loans 40% Down Payment - Self Employed': 0.13864125422686752, 'Auto Loans Payroll Clients': 0.07142857142857142, 'Auto Loans 40% Down Payment - Employed': 0.1258208006778225, 'Auto Loans Special Deals': 0.027164685908319185, 'Pick Up and Small Trucks': 0.09558823529411764, 'Auto Loans 30% Down Payment - Self Employed': 0.1846739647786768, 'Auto Loans 20% Down Payment - Employed': 0.17134831460674158, 'Auto Loans 20% Down Payment - Self Employed': 0.0945273631840796, 'Auto Loans Secured against CD': 0.038461538461538464, 'Auto Loans Doctors - Self Employed': 0, 'Auto Loans Fully Secured': 0.07142857142857142, 'Auto Loans 50% Down Payment No Car Prohibition - Self Employed': 0.175, 'Auto Loans Doctors - Employed': 0, 'Auto Loans Run Off - Employed': 0, 'Auto Loans Run Off - Self Employed': 0.07142857142857142, 'Auto Loans 50% Down Payment No Car Prohibition - Employed': 0.25, 'Auto Loans 50% Down Payment Used Cars - Self Employed': 0, 'Auto Loans 50% Down Payment Used Cars - Employed': 0.09090909090909091, 'Auto Loans 30% Down Payment Used Cars - Employed': 0.5, 'Auto Loans 30% Down Payment Used Cars - Self Employed': 0}, 'profession': {'RETIRED': 0.034782608695652174, 'Shop Owner': 0.11789614441720526, 'EMPLOYEE': 0.12802597913796496, 'Company Owner': 0.12331030339441273, 'Accountant - Employee': 0.13677313677313677, 'Manager': 0.15028901734104047, 'HOUSEWIFE': 0.07551707551707551, 'JEWELLER': 0.05555555555555555, 'Contractor': 0.1362530413625304, 'Craftsman': 0.09523809523809523, 'TECHNICIAN': 0.12546125461254612, 'ENGINEER': 0.0735930735930736, 'Instructor / Teacher': 0.0994305738063951, 'PROFESSORS': 0.04597701149425287, 'Unemployed': 0.11815561959654179, 'DOCTOR': 0.050872093023255814, 'Business Man / Trader': 0.08602150537634409, 'Lawyer ? Employee': 0.25, 'Landlord': 0.08888888888888889, 'AGRARIAN': 0, 'SECRETARY': 0.14814814814814814, 'PHARMACIST': 0.053824362606232294, 'RELIGION PERSON': 0.04081632653061224, 'PRESS': 0, 'Car / Boat Agency / Deale': 0.07142857142857142, 'BANKER': 0.034482758620689655, 'Journalist': 0.12727272727272726, 'NURSE': 0.12758620689655173, 'CAE - Current Staff': 0, 'DRIVER': 0.0625, 'TOUR LEADER': 0, 'Broadcast / Media': 0.14285714285714285, 'CHEMIST': 0.06521739130434782, 'Athletes': 0.1, 'ARTIST': 0.08571428571428572, 'DIVER': 0.25, 'Real Estate Broker / Agen': 0.3333333333333333, 'Lawyer ? Self Employer': 0.2, 'Hotel Manager': 0, 'Pilot': 0, 'STUDENT': 0.05263157894736842, 'Bazaar Shop Owner': 0, 'Military Officer': 0, 'Politician': 0, 'Consultant': 0.1, 'Hostess': 0.25, 'CAE Ex-Staff Less Than 10': 0, 'Police Officer': 0, 'CAE IBS Staff': 0, 'ECONOMIST': 0, 'PUBLISHER': 0}, 'car_type': {'RENAULT': 0.1373695198329854, 'KIA': 0.09480204686237544, 'HYUNDAI': 0.11666449171342816, 'NISSAN': 0.11892675852066716, 'Brilliance': 0.1, 'CHEVROLET': 0.11342638097110282, 'SUZUKI': 0.07701863354037267, 'Speranza': 0.05761316872427984, 'GELY': 0.1365491651205937, 'SKODA': 0.08, 'MITSUBISHI': 0.09971509971509972, 'Changan': 0.13636363636363635, 'Livan': 0.125, 'JEEP': 0.15841584158415842, 'TOYOTA': 0.056768558951965066, 'CARRY': 0.3333333333333333, 'Great Wall': 0.07692307692307693, 'LADA': 0.16535433070866143, 'VOLKSWAGEN': 0.13157894736842105, 'FIAT': 0.1, 'OPEL': 0.10632183908045977, 'BYD': 0.1814488828706838, 'Chana': 0.0975609756097561, 'Citroen': 0.07526881720430108, 'SEAT': 0.10126582278481013, 'Peugeot': 0.08571428571428572, 'DAIHATSU': 0.05714285714285714, 'Saipa': 0.09316770186335403, 'PROTON': 0.0948905109489051, 'VOLVO': 0.1111111111111111, 'MERCEDES': 0.08771929824561403, 'MAZDA': 0.11428571428571428, 'BMW': 0.0962962962962963, 'SUBARU': 0.125, 'Jack': 0.15217391304347827, 'FORD': 0.09859154929577464, 'CHERY': 0.2023047375160051, 'Gelory': 0.11946902654867257, 'Isuzu': 0.08333333333333333, 'MABLE': 0.3333333333333333, 'HONDA': 0, 'Mahindra': 0, 'MG': 0.07692307692307693, 'BAIC': 0.22362869198312235, 'Ssang Yong': 0.12371134020618557, 'ZEMEX': 0.3333333333333333, 'Kenbo': 0.2028985507246377, 'HAIMA': 0.30952380952380953, 'SAWEAST': 0.6666666666666666, 'CHANGY': 0.06976744186046512, 'MINI': 0, 'AUDI': 0.1, 'Dodge': 0, 'Faw': 0.18181818181818182, 'FLORIDA': 0, 'DFSK': 0.0684931506849315, 'Zoty': 0.2, 'HAWTAI': 0, 'JAGUAR': 0, 'VICTORY': 0}}\n"
     ]
    }
   ],
   "source": [
    "observation_rate = {}\n",
    "\n",
    "for cat in categorical_variables:\n",
    "    observation_rate[cat] = {}\n",
    "    for i in df[cat].unique():\n",
    "        \n",
    "        if df[df[cat] == i]['bucket'].value_counts().shape[0] == 2:\n",
    "              \n",
    "            observation_rate[cat][i] = df[(df[cat] == i)]['bucket'].value_counts()[1]/(df[(df[cat] == i)]['bucket'].value_counts()[1]+df[(df[cat] == i)]['bucket'].value_counts()[0])\n",
    "      \n",
    "    \n",
    "        else: \n",
    "            observation_rate[cat][i] = 0\n",
    "      \n",
    "\n",
    "\n",
    "  \n",
    "print(observation_rate)\n"
   ]
  },
  {
   "cell_type": "code",
   "execution_count": 33,
   "metadata": {},
   "outputs": [
    {
     "data": {
      "text/html": [
       "<div>\n",
       "<style scoped>\n",
       "    .dataframe tbody tr th:only-of-type {\n",
       "        vertical-align: middle;\n",
       "    }\n",
       "\n",
       "    .dataframe tbody tr th {\n",
       "        vertical-align: top;\n",
       "    }\n",
       "\n",
       "    .dataframe thead th {\n",
       "        text-align: right;\n",
       "    }\n",
       "</style>\n",
       "<table border=\"1\" class=\"dataframe\">\n",
       "  <thead>\n",
       "    <tr style=\"text-align: right;\">\n",
       "      <th></th>\n",
       "      <th>program_name</th>\n",
       "      <th>program_name_rate</th>\n",
       "      <th>original_booked_amount</th>\n",
       "      <th>outstanding</th>\n",
       "      <th>bucket</th>\n",
       "      <th>sex</th>\n",
       "      <th>profession</th>\n",
       "      <th>profession_rate</th>\n",
       "      <th>car_type</th>\n",
       "      <th>car_type_rate</th>\n",
       "      <th>loan_open_duration</th>\n",
       "      <th>expected_close_duration</th>\n",
       "      <th>customer_open_duration</th>\n",
       "      <th>age</th>\n",
       "      <th>loan_expected_duration</th>\n",
       "    </tr>\n",
       "  </thead>\n",
       "  <tbody>\n",
       "    <tr>\n",
       "      <th>110070</th>\n",
       "      <td>Auto Loans 50% Down Payment - Employed</td>\n",
       "      <td>0.101279</td>\n",
       "      <td>35000.0</td>\n",
       "      <td>0.0</td>\n",
       "      <td>0</td>\n",
       "      <td>0</td>\n",
       "      <td>RETIRED</td>\n",
       "      <td>0.034783</td>\n",
       "      <td>RENAULT</td>\n",
       "      <td>0.137370</td>\n",
       "      <td>100</td>\n",
       "      <td>40</td>\n",
       "      <td>100</td>\n",
       "      <td>52.0</td>\n",
       "      <td>60</td>\n",
       "    </tr>\n",
       "    <tr>\n",
       "      <th>110096</th>\n",
       "      <td>Auto Loans 50% Down Payment - Self Employed</td>\n",
       "      <td>0.082265</td>\n",
       "      <td>58000.0</td>\n",
       "      <td>0.0</td>\n",
       "      <td>0</td>\n",
       "      <td>0</td>\n",
       "      <td>Shop Owner</td>\n",
       "      <td>0.117896</td>\n",
       "      <td>KIA</td>\n",
       "      <td>0.094802</td>\n",
       "      <td>77</td>\n",
       "      <td>40</td>\n",
       "      <td>77</td>\n",
       "      <td>39.0</td>\n",
       "      <td>37</td>\n",
       "    </tr>\n",
       "    <tr>\n",
       "      <th>109791</th>\n",
       "      <td>Auto Loans 30% Down Payment - Employed</td>\n",
       "      <td>0.170644</td>\n",
       "      <td>57400.0</td>\n",
       "      <td>0.0</td>\n",
       "      <td>0</td>\n",
       "      <td>0</td>\n",
       "      <td>EMPLOYEE</td>\n",
       "      <td>0.128026</td>\n",
       "      <td>HYUNDAI</td>\n",
       "      <td>0.116664</td>\n",
       "      <td>62</td>\n",
       "      <td>2</td>\n",
       "      <td>62</td>\n",
       "      <td>40.0</td>\n",
       "      <td>60</td>\n",
       "    </tr>\n",
       "    <tr>\n",
       "      <th>109788</th>\n",
       "      <td>Auto Loans 50% Down Payment - Self Employed</td>\n",
       "      <td>0.082265</td>\n",
       "      <td>39000.0</td>\n",
       "      <td>0.0</td>\n",
       "      <td>1</td>\n",
       "      <td>0</td>\n",
       "      <td>Company Owner</td>\n",
       "      <td>0.123310</td>\n",
       "      <td>NISSAN</td>\n",
       "      <td>0.118927</td>\n",
       "      <td>86</td>\n",
       "      <td>26</td>\n",
       "      <td>86</td>\n",
       "      <td>38.0</td>\n",
       "      <td>60</td>\n",
       "    </tr>\n",
       "    <tr>\n",
       "      <th>109835</th>\n",
       "      <td>Auto Loans 30% Down Payment - Employed</td>\n",
       "      <td>0.170644</td>\n",
       "      <td>61600.0</td>\n",
       "      <td>0.0</td>\n",
       "      <td>0</td>\n",
       "      <td>0</td>\n",
       "      <td>Accountant - Employee</td>\n",
       "      <td>0.136773</td>\n",
       "      <td>HYUNDAI</td>\n",
       "      <td>0.116664</td>\n",
       "      <td>50</td>\n",
       "      <td>-11</td>\n",
       "      <td>50</td>\n",
       "      <td>58.0</td>\n",
       "      <td>61</td>\n",
       "    </tr>\n",
       "  </tbody>\n",
       "</table>\n",
       "</div>"
      ],
      "text/plain": [
       "                                       program_name  program_name_rate  \\\n",
       "110070       Auto Loans 50% Down Payment - Employed           0.101279   \n",
       "110096  Auto Loans 50% Down Payment - Self Employed           0.082265   \n",
       "109791       Auto Loans 30% Down Payment - Employed           0.170644   \n",
       "109788  Auto Loans 50% Down Payment - Self Employed           0.082265   \n",
       "109835       Auto Loans 30% Down Payment - Employed           0.170644   \n",
       "\n",
       "        original_booked_amount  outstanding  bucket  sex  \\\n",
       "110070                 35000.0          0.0       0    0   \n",
       "110096                 58000.0          0.0       0    0   \n",
       "109791                 57400.0          0.0       0    0   \n",
       "109788                 39000.0          0.0       1    0   \n",
       "109835                 61600.0          0.0       0    0   \n",
       "\n",
       "                   profession  profession_rate car_type  car_type_rate  \\\n",
       "110070                RETIRED         0.034783  RENAULT       0.137370   \n",
       "110096             Shop Owner         0.117896      KIA       0.094802   \n",
       "109791               EMPLOYEE         0.128026  HYUNDAI       0.116664   \n",
       "109788          Company Owner         0.123310   NISSAN       0.118927   \n",
       "109835  Accountant - Employee         0.136773  HYUNDAI       0.116664   \n",
       "\n",
       "        loan_open_duration  expected_close_duration  customer_open_duration  \\\n",
       "110070                 100                       40                     100   \n",
       "110096                  77                       40                      77   \n",
       "109791                  62                        2                      62   \n",
       "109788                  86                       26                      86   \n",
       "109835                  50                      -11                      50   \n",
       "\n",
       "         age  loan_expected_duration  \n",
       "110070  52.0                      60  \n",
       "110096  39.0                      37  \n",
       "109791  40.0                      60  \n",
       "109788  38.0                      60  \n",
       "109835  58.0                      61  "
      ]
     },
     "execution_count": 33,
     "metadata": {},
     "output_type": "execute_result"
    }
   ],
   "source": [
    "for cat in categorical_variables:\n",
    "  cat_col = ''.join(cat)+'_rate'\n",
    "  location = df.columns.get_loc(cat)+1\n",
    "  df.insert(location, cat_col,True)\n",
    "  df[cat_col] = df[cat].map(observation_rate[cat]) \n",
    "\n",
    "df.head()"
   ]
  },
  {
   "cell_type": "markdown",
   "metadata": {
    "id": "JYw3C5YKDTb7"
   },
   "source": [
    "# Decission Trees Test #1 for the Group assignment"
   ]
  },
  {
   "cell_type": "code",
   "execution_count": 34,
   "metadata": {},
   "outputs": [
    {
     "name": "stderr",
     "output_type": "stream",
     "text": [
      "C:\\Users\\aaljeshi\\OneDrive - Intel Corporation\\Documents\\Personal\\IE University\\Courses\\Python II\\Group Project\\RiskDataframe.py:280: UserWarning: Boolean Series key will be reindexed to match DataFrame index.\n",
      "  df_train_seg1 = df_train[self[variable] <final_thresholds[variable]]\n",
      "C:\\Users\\aaljeshi\\OneDrive - Intel Corporation\\Documents\\Personal\\IE University\\Courses\\Python II\\Group Project\\RiskDataframe.py:281: UserWarning: Boolean Series key will be reindexed to match DataFrame index.\n",
      "  df_train_seg2 = df_train[self[variable] >final_thresholds[variable]]\n",
      "C:\\Users\\aaljeshi\\OneDrive - Intel Corporation\\Documents\\Personal\\IE University\\Courses\\Python II\\Group Project\\RiskDataframe.py:282: UserWarning: Boolean Series key will be reindexed to match DataFrame index.\n",
      "  df_test_seg1 = df_test[self[variable] <final_thresholds[variable]]\n",
      "C:\\Users\\aaljeshi\\OneDrive - Intel Corporation\\Documents\\Personal\\IE University\\Courses\\Python II\\Group Project\\RiskDataframe.py:283: UserWarning: Boolean Series key will be reindexed to match DataFrame index.\n",
      "  df_test_seg2 = df_test[self[variable] >final_thresholds[variable]]\n"
     ]
    },
    {
     "name": "stdout",
     "output_type": "stream",
     "text": [
      "\n",
      " original_booked_amount - Good for segmentation:\n",
      "\n",
      "     Segment1: original_booked_amount < 67610.0 [GINI Full Model: 3.8422% / GINI Segmented Model: 3.8422%]\n",
      "\n",
      "     Segment2: original_booked_amount > 67610.0 [GINI Full Model: 26.7906% / GINI Segmented Model: 26.7906%]\n",
      "\n"
     ]
    },
    {
     "name": "stderr",
     "output_type": "stream",
     "text": [
      "C:\\Users\\aaljeshi\\OneDrive - Intel Corporation\\Documents\\Personal\\IE University\\Courses\\Python II\\Group Project\\RiskDataframe.py:280: UserWarning: Boolean Series key will be reindexed to match DataFrame index.\n",
      "  df_train_seg1 = df_train[self[variable] <final_thresholds[variable]]\n",
      "C:\\Users\\aaljeshi\\OneDrive - Intel Corporation\\Documents\\Personal\\IE University\\Courses\\Python II\\Group Project\\RiskDataframe.py:281: UserWarning: Boolean Series key will be reindexed to match DataFrame index.\n",
      "  df_train_seg2 = df_train[self[variable] >final_thresholds[variable]]\n",
      "C:\\Users\\aaljeshi\\OneDrive - Intel Corporation\\Documents\\Personal\\IE University\\Courses\\Python II\\Group Project\\RiskDataframe.py:282: UserWarning: Boolean Series key will be reindexed to match DataFrame index.\n",
      "  df_test_seg1 = df_test[self[variable] <final_thresholds[variable]]\n",
      "C:\\Users\\aaljeshi\\OneDrive - Intel Corporation\\Documents\\Personal\\IE University\\Courses\\Python II\\Group Project\\RiskDataframe.py:283: UserWarning: Boolean Series key will be reindexed to match DataFrame index.\n",
      "  df_test_seg2 = df_test[self[variable] >final_thresholds[variable]]\n",
      "C:\\Users\\aaljeshi\\OneDrive - Intel Corporation\\Documents\\Personal\\IE University\\Courses\\Python II\\Group Project\\RiskDataframe.py:280: UserWarning: Boolean Series key will be reindexed to match DataFrame index.\n",
      "  df_train_seg1 = df_train[self[variable] <final_thresholds[variable]]\n",
      "C:\\Users\\aaljeshi\\OneDrive - Intel Corporation\\Documents\\Personal\\IE University\\Courses\\Python II\\Group Project\\RiskDataframe.py:281: UserWarning: Boolean Series key will be reindexed to match DataFrame index.\n",
      "  df_train_seg2 = df_train[self[variable] >final_thresholds[variable]]\n"
     ]
    },
    {
     "name": "stdout",
     "output_type": "stream",
     "text": [
      " outstanding - Good for segmentation:\n",
      "\n",
      "     Segment1: outstanding < 0.6600000262260437 [GINI Full Model: -18.8886% / GINI Segmented Model: -18.8886%]\n",
      "\n",
      "     Segment2: outstanding > 0.6600000262260437 [GINI Full Model: 8.2363% / GINI Segmented Model: 8.2363%]\n"
     ]
    },
    {
     "name": "stderr",
     "output_type": "stream",
     "text": [
      "C:\\Users\\aaljeshi\\OneDrive - Intel Corporation\\Documents\\Personal\\IE University\\Courses\\Python II\\Group Project\\RiskDataframe.py:282: UserWarning: Boolean Series key will be reindexed to match DataFrame index.\n",
      "  df_test_seg1 = df_test[self[variable] <final_thresholds[variable]]\n",
      "C:\\Users\\aaljeshi\\OneDrive - Intel Corporation\\Documents\\Personal\\IE University\\Courses\\Python II\\Group Project\\RiskDataframe.py:283: UserWarning: Boolean Series key will be reindexed to match DataFrame index.\n",
      "  df_test_seg2 = df_test[self[variable] >final_thresholds[variable]]\n"
     ]
    },
    {
     "name": "stdout",
     "output_type": "stream",
     "text": [
      "\n",
      " car_type - Good for segmentation:\n",
      "\n",
      "     Segment1: car_type in ['JEEP', 'CARRY', 'LADA', 'BYD', 'Jack', 'CHERY', 'MABLE', 'BAIC', 'ZEMEX', 'Kenbo', 'HAIMA', 'SAWEAST', 'Faw', 'Zoty'] [GINI Full Model: 26.4791% / GINI Segmented Model: 26.4791%]\n",
      "\n",
      "     Segment2: car_type in ['RENAULT', 'KIA', 'HYUNDAI', 'NISSAN', 'Brilliance', 'CHEVROLET', 'SUZUKI', 'Speranza', 'GELY', 'SKODA', 'MITSUBISHI', 'Changan', 'Livan', 'TOYOTA', 'Great Wall', 'VOLKSWAGEN', 'FIAT', 'OPEL', 'Chana', 'Citroen', 'SEAT', 'Peugeot', 'DAIHATSU', 'Saipa', 'PROTON', 'VOLVO', 'MERCEDES', 'MAZDA', 'BMW', 'SUBARU', 'FORD', 'Gelory', 'Isuzu', 'HONDA', 'Mahindra', 'MG', 'Ssang Yong', 'CHANGY', 'MINI', 'AUDI', 'Dodge', 'FLORIDA', 'DFSK', 'HAWTAI', 'JAGUAR', 'VICTORY'] [GINI Full Model: 12.7630% / GINI Segmented Model: 12.7630%]\n"
     ]
    },
    {
     "name": "stderr",
     "output_type": "stream",
     "text": [
      "C:\\Users\\aaljeshi\\OneDrive - Intel Corporation\\Documents\\Personal\\IE University\\Courses\\Python II\\Group Project\\RiskDataframe.py:280: UserWarning: Boolean Series key will be reindexed to match DataFrame index.\n",
      "  df_train_seg1 = df_train[self[variable] <final_thresholds[variable]]\n",
      "C:\\Users\\aaljeshi\\OneDrive - Intel Corporation\\Documents\\Personal\\IE University\\Courses\\Python II\\Group Project\\RiskDataframe.py:281: UserWarning: Boolean Series key will be reindexed to match DataFrame index.\n",
      "  df_train_seg2 = df_train[self[variable] >final_thresholds[variable]]\n",
      "C:\\Users\\aaljeshi\\OneDrive - Intel Corporation\\Documents\\Personal\\IE University\\Courses\\Python II\\Group Project\\RiskDataframe.py:282: UserWarning: Boolean Series key will be reindexed to match DataFrame index.\n",
      "  df_test_seg1 = df_test[self[variable] <final_thresholds[variable]]\n",
      "C:\\Users\\aaljeshi\\OneDrive - Intel Corporation\\Documents\\Personal\\IE University\\Courses\\Python II\\Group Project\\RiskDataframe.py:283: UserWarning: Boolean Series key will be reindexed to match DataFrame index.\n",
      "  df_test_seg2 = df_test[self[variable] >final_thresholds[variable]]\n"
     ]
    },
    {
     "name": "stdout",
     "output_type": "stream",
     "text": [
      "\n",
      " age - Good for segmentation:\n",
      "\n",
      "     Segment1: age < 40.5 [GINI Full Model: 21.7900% / GINI Segmented Model: 21.7900%]\n",
      "\n",
      "     Segment2: age > 40.5 [GINI Full Model: 15.4797% / GINI Segmented Model: 15.4797%]\n",
      "\n"
     ]
    },
    {
     "name": "stderr",
     "output_type": "stream",
     "text": [
      "C:\\Users\\aaljeshi\\OneDrive - Intel Corporation\\Documents\\Personal\\IE University\\Courses\\Python II\\Group Project\\RiskDataframe.py:280: UserWarning: Boolean Series key will be reindexed to match DataFrame index.\n",
      "  df_train_seg1 = df_train[self[variable] <final_thresholds[variable]]\n",
      "C:\\Users\\aaljeshi\\OneDrive - Intel Corporation\\Documents\\Personal\\IE University\\Courses\\Python II\\Group Project\\RiskDataframe.py:281: UserWarning: Boolean Series key will be reindexed to match DataFrame index.\n",
      "  df_train_seg2 = df_train[self[variable] >final_thresholds[variable]]\n",
      "C:\\Users\\aaljeshi\\OneDrive - Intel Corporation\\Documents\\Personal\\IE University\\Courses\\Python II\\Group Project\\RiskDataframe.py:282: UserWarning: Boolean Series key will be reindexed to match DataFrame index.\n",
      "  df_test_seg1 = df_test[self[variable] <final_thresholds[variable]]\n",
      "C:\\Users\\aaljeshi\\OneDrive - Intel Corporation\\Documents\\Personal\\IE University\\Courses\\Python II\\Group Project\\RiskDataframe.py:283: UserWarning: Boolean Series key will be reindexed to match DataFrame index.\n",
      "  df_test_seg2 = df_test[self[variable] >final_thresholds[variable]]\n"
     ]
    },
    {
     "name": "stdout",
     "output_type": "stream",
     "text": [
      " loan_expected_duration - Good for segmentation:\n",
      "\n",
      "     Segment1: loan_expected_duration < 46.5 [GINI Full Model: 18.2667% / GINI Segmented Model: 18.2667%]\n",
      "\n",
      "     Segment2: loan_expected_duration > 46.5 [GINI Full Model: 25.3103% / GINI Segmented Model: 25.3103%]\n",
      "\n"
     ]
    },
    {
     "name": "stderr",
     "output_type": "stream",
     "text": [
      "C:\\Users\\aaljeshi\\OneDrive - Intel Corporation\\Documents\\Personal\\IE University\\Courses\\Python II\\Group Project\\RiskDataframe.py:280: UserWarning: Boolean Series key will be reindexed to match DataFrame index.\n",
      "  df_train_seg1 = df_train[self[variable] <final_thresholds[variable]]\n",
      "C:\\Users\\aaljeshi\\OneDrive - Intel Corporation\\Documents\\Personal\\IE University\\Courses\\Python II\\Group Project\\RiskDataframe.py:281: UserWarning: Boolean Series key will be reindexed to match DataFrame index.\n",
      "  df_train_seg2 = df_train[self[variable] >final_thresholds[variable]]\n",
      "C:\\Users\\aaljeshi\\OneDrive - Intel Corporation\\Documents\\Personal\\IE University\\Courses\\Python II\\Group Project\\RiskDataframe.py:282: UserWarning: Boolean Series key will be reindexed to match DataFrame index.\n",
      "  df_test_seg1 = df_test[self[variable] <final_thresholds[variable]]\n",
      "C:\\Users\\aaljeshi\\OneDrive - Intel Corporation\\Documents\\Personal\\IE University\\Courses\\Python II\\Group Project\\RiskDataframe.py:283: UserWarning: Boolean Series key will be reindexed to match DataFrame index.\n",
      "  df_test_seg2 = df_test[self[variable] >final_thresholds[variable]]\n"
     ]
    },
    {
     "name": "stdout",
     "output_type": "stream",
     "text": [
      " program_name - Good for segmentation:\n",
      "\n",
      "     Segment1: program_name in ['Auto Loans 30% Down Payment - Employed', 'Auto Loans 40% Down Payment - Self Employed', 'Auto Loans 30% Down Payment - Self Employed', 'Auto Loans 20% Down Payment - Employed', 'Auto Loans 50% Down Payment No Car Prohibition - Self Employed', 'Auto Loans 50% Down Payment No Car Prohibition - Employed', 'Auto Loans 30% Down Payment Used Cars - Employed'] [GINI Full Model: 32.5409% / GINI Segmented Model: 32.5409%]\n",
      "\n",
      "     Segment2: program_name in ['Auto Loans 50% Down Payment - Employed', 'Auto Loans 50% Down Payment - Self Employed', 'Auto Loans Payroll Clients', 'Auto Loans 40% Down Payment - Employed', 'Auto Loans Special Deals', 'Pick Up and Small Trucks', 'Auto Loans 20% Down Payment - Self Employed', 'Auto Loans Secured against CD', 'Auto Loans Doctors - Self Employed', 'Auto Loans Fully Secured', 'Auto Loans Doctors - Employed', 'Auto Loans Run Off - Employed', 'Auto Loans Run Off - Self Employed', 'Auto Loans 50% Down Payment Used Cars - Self Employed', 'Auto Loans 50% Down Payment Used Cars - Employed', 'Auto Loans 30% Down Payment Used Cars - Self Employed'] [GINI Full Model: 25.4971% / GINI Segmented Model: 25.4971%]\n",
      "\n",
      " profession_rate Not good for segmentation. After analysis we did not find a good split using this variable\n",
      "\n",
      " sex Not good for segmentation. After analysis we did not find a good split using this variable\n"
     ]
    }
   ],
   "source": [
    "from RiskDataframe import RiskDataframe\n",
    "RiskDataframe.find_segment_split(df, observation_rate)"
   ]
  },
  {
   "cell_type": "code",
   "execution_count": null,
   "metadata": {},
   "outputs": [],
   "source": []
  }
 ],
 "metadata": {
  "celltoolbar": "Raw Cell Format",
  "colab": {
   "collapsed_sections": [
    "5xK2MzF-DTb7",
    "xUoteTTwDTb5",
    "58QMHvCDDTb6",
    "hFC7L3kKDTb6",
    "DymHKIN4DTb6"
   ],
   "name": "Group assignment_05.09.2021_v1.ipynb",
   "provenance": []
  },
  "kernelspec": {
   "display_name": "Python 3",
   "language": "python",
   "name": "python3"
  },
  "language_info": {
   "codemirror_mode": {
    "name": "ipython",
    "version": 3
   },
   "file_extension": ".py",
   "mimetype": "text/x-python",
   "name": "python",
   "nbconvert_exporter": "python",
   "pygments_lexer": "ipython3",
   "version": "3.8.5"
  }
 },
 "nbformat": 4,
 "nbformat_minor": 1
}
